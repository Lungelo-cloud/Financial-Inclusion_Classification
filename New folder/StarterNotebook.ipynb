{
 "cells": [
  {
   "cell_type": "markdown",
   "metadata": {
    "id": "48S6RVt_jXwp"
   },
   "source": [
    "# Financial Inclusion in Africa Starter Notebook\n",
    "\n",
    "\n",
    "This is a simple starter notebook to get started with the Machine Learning for Financial Inclusion by University of Eswatini on Zindi.\n",
    "\n",
    "This notebook covers:\n",
    "- Loading the data\n",
    "- Simple EDA and an example of feature enginnering\n",
    "- Data preprocessing and data wrangling\n",
    "- Creating a simple model\n",
    "- Making a submission\n",
    "- Some tips for improving your score"
   ]
  },
  {
   "cell_type": "markdown",
   "metadata": {
    "id": "HdPjBTFdkI7t"
   },
   "source": [
    "### Importing libraries"
   ]
  },
  {
   "cell_type": "code",
   "execution_count": 1,
   "metadata": {
    "id": "8IWFJK2h22yc"
   },
   "outputs": [],
   "source": [
    "# dataframe and plotting\n",
    "import pandas as pd\n",
    "import numpy as np\n",
    "import seaborn as sns\n",
    "import matplotlib.pyplot as plt\n",
    "\n",
    "# machine learning\n",
    "from lightgbm import LGBMClassifier\n",
    "from sklearn.model_selection import train_test_split\n",
    "from sklearn.metrics import accuracy_score\n",
    "\n",
    "#from google.colab import files\n",
    "import warnings\n",
    "warnings.filterwarnings('ignore')"
   ]
  },
  {
   "cell_type": "markdown",
   "metadata": {
    "id": "9SyQadB9iY8R"
   },
   "source": [
    "### Read files"
   ]
  },
  {
   "cell_type": "code",
   "execution_count": 2,
   "metadata": {
    "id": "MQCvC_XjDzyH"
   },
   "outputs": [],
   "source": [
    "# Load files into a pandas dataframe\n",
    "train = pd.read_csv('Train.csv')\n",
    "test = pd.read_csv('Test.csv')\n",
    "ss = pd.read_csv('SampleSubmission.csv')\n",
    "variables = pd.read_csv('VariableDefinitions.csv')"
   ]
  },
  {
   "cell_type": "markdown",
   "metadata": {
    "id": "MCP0H7tSicUU"
   },
   "source": [
    "### Some basic EDA"
   ]
  },
  {
   "cell_type": "code",
   "execution_count": 3,
   "metadata": {
    "colab": {
     "base_uri": "https://localhost:8080/",
     "height": 421
    },
    "id": "8D-b3rTKAbmq",
    "outputId": "d8853b2d-c57d-4f79-ac0e-8fd9d5450a1c"
   },
   "outputs": [
    {
     "data": {
      "text/html": [
       "<div>\n",
       "<style scoped>\n",
       "    .dataframe tbody tr th:only-of-type {\n",
       "        vertical-align: middle;\n",
       "    }\n",
       "\n",
       "    .dataframe tbody tr th {\n",
       "        vertical-align: top;\n",
       "    }\n",
       "\n",
       "    .dataframe thead th {\n",
       "        text-align: right;\n",
       "    }\n",
       "</style>\n",
       "<table border=\"1\" class=\"dataframe\">\n",
       "  <thead>\n",
       "    <tr style=\"text-align: right;\">\n",
       "      <th></th>\n",
       "      <th>Variable Definitions</th>\n",
       "      <th>Unnamed: 1</th>\n",
       "    </tr>\n",
       "  </thead>\n",
       "  <tbody>\n",
       "    <tr>\n",
       "      <th>0</th>\n",
       "      <td>country</td>\n",
       "      <td>Country interviewee is in.</td>\n",
       "    </tr>\n",
       "    <tr>\n",
       "      <th>1</th>\n",
       "      <td>year</td>\n",
       "      <td>Year survey was done in.</td>\n",
       "    </tr>\n",
       "    <tr>\n",
       "      <th>2</th>\n",
       "      <td>uniqueid</td>\n",
       "      <td>Unique identifier for each interviewee</td>\n",
       "    </tr>\n",
       "    <tr>\n",
       "      <th>3</th>\n",
       "      <td>location_type</td>\n",
       "      <td>Type of location: Rural, Urban</td>\n",
       "    </tr>\n",
       "    <tr>\n",
       "      <th>4</th>\n",
       "      <td>cellphone_access</td>\n",
       "      <td>If interviewee has access to a cellphone: Yes, No</td>\n",
       "    </tr>\n",
       "    <tr>\n",
       "      <th>5</th>\n",
       "      <td>household_size</td>\n",
       "      <td>Number of people living in one house</td>\n",
       "    </tr>\n",
       "    <tr>\n",
       "      <th>6</th>\n",
       "      <td>age_of_respondent</td>\n",
       "      <td>The age of the interviewee</td>\n",
       "    </tr>\n",
       "    <tr>\n",
       "      <th>7</th>\n",
       "      <td>gender_of_respondent</td>\n",
       "      <td>Gender of interviewee: Male, Female</td>\n",
       "    </tr>\n",
       "    <tr>\n",
       "      <th>8</th>\n",
       "      <td>relationship_with_head</td>\n",
       "      <td>The interviewee’s relationship with the head o...</td>\n",
       "    </tr>\n",
       "    <tr>\n",
       "      <th>9</th>\n",
       "      <td>marital_status</td>\n",
       "      <td>The martial status of the interviewee: Married...</td>\n",
       "    </tr>\n",
       "    <tr>\n",
       "      <th>10</th>\n",
       "      <td>education_level</td>\n",
       "      <td>Highest level of education: No formal educatio...</td>\n",
       "    </tr>\n",
       "    <tr>\n",
       "      <th>11</th>\n",
       "      <td>job_type</td>\n",
       "      <td>Type of job interviewee has: Farming and Fishi...</td>\n",
       "    </tr>\n",
       "  </tbody>\n",
       "</table>\n",
       "</div>"
      ],
      "text/plain": [
       "      Variable Definitions                                         Unnamed: 1\n",
       "0                  country                         Country interviewee is in.\n",
       "1                     year                           Year survey was done in.\n",
       "2                 uniqueid             Unique identifier for each interviewee\n",
       "3            location_type                     Type of location: Rural, Urban\n",
       "4         cellphone_access  If interviewee has access to a cellphone: Yes, No\n",
       "5           household_size               Number of people living in one house\n",
       "6        age_of_respondent                         The age of the interviewee\n",
       "7     gender_of_respondent                Gender of interviewee: Male, Female\n",
       "8   relationship_with_head  The interviewee’s relationship with the head o...\n",
       "9           marital_status  The martial status of the interviewee: Married...\n",
       "10         education_level  Highest level of education: No formal educatio...\n",
       "11                job_type  Type of job interviewee has: Farming and Fishi..."
      ]
     },
     "execution_count": 3,
     "metadata": {},
     "output_type": "execute_result"
    }
   ],
   "source": [
    "# Let's view the variables\n",
    "variables"
   ]
  },
  {
   "cell_type": "code",
   "execution_count": 4,
   "metadata": {
    "colab": {
     "base_uri": "https://localhost:8080/",
     "height": 326
    },
    "id": "Mcqp5mXG22ye",
    "outputId": "6cfd6bc2-5cb4-4e9b-fc7c-ef2e506dd04f"
   },
   "outputs": [
    {
     "data": {
      "text/html": [
       "<div>\n",
       "<style scoped>\n",
       "    .dataframe tbody tr th:only-of-type {\n",
       "        vertical-align: middle;\n",
       "    }\n",
       "\n",
       "    .dataframe tbody tr th {\n",
       "        vertical-align: top;\n",
       "    }\n",
       "\n",
       "    .dataframe thead th {\n",
       "        text-align: right;\n",
       "    }\n",
       "</style>\n",
       "<table border=\"1\" class=\"dataframe\">\n",
       "  <thead>\n",
       "    <tr style=\"text-align: right;\">\n",
       "      <th></th>\n",
       "      <th>country</th>\n",
       "      <th>year</th>\n",
       "      <th>uniqueid</th>\n",
       "      <th>bank_account</th>\n",
       "      <th>location_type</th>\n",
       "      <th>cellphone_access</th>\n",
       "      <th>household_size</th>\n",
       "      <th>age_of_respondent</th>\n",
       "      <th>gender_of_respondent</th>\n",
       "      <th>relationship_with_head</th>\n",
       "      <th>marital_status</th>\n",
       "      <th>education_level</th>\n",
       "      <th>job_type</th>\n",
       "    </tr>\n",
       "  </thead>\n",
       "  <tbody>\n",
       "    <tr>\n",
       "      <th>0</th>\n",
       "      <td>Kenya</td>\n",
       "      <td>2018</td>\n",
       "      <td>uniqueid_1</td>\n",
       "      <td>Yes</td>\n",
       "      <td>Rural</td>\n",
       "      <td>Yes</td>\n",
       "      <td>3</td>\n",
       "      <td>24</td>\n",
       "      <td>Female</td>\n",
       "      <td>Spouse</td>\n",
       "      <td>Married/Living together</td>\n",
       "      <td>Secondary education</td>\n",
       "      <td>Self employed</td>\n",
       "    </tr>\n",
       "    <tr>\n",
       "      <th>1</th>\n",
       "      <td>Kenya</td>\n",
       "      <td>2018</td>\n",
       "      <td>uniqueid_2</td>\n",
       "      <td>No</td>\n",
       "      <td>Rural</td>\n",
       "      <td>No</td>\n",
       "      <td>5</td>\n",
       "      <td>70</td>\n",
       "      <td>Female</td>\n",
       "      <td>Head of Household</td>\n",
       "      <td>Widowed</td>\n",
       "      <td>No formal education</td>\n",
       "      <td>Government Dependent</td>\n",
       "    </tr>\n",
       "    <tr>\n",
       "      <th>2</th>\n",
       "      <td>Kenya</td>\n",
       "      <td>2018</td>\n",
       "      <td>uniqueid_3</td>\n",
       "      <td>Yes</td>\n",
       "      <td>Urban</td>\n",
       "      <td>Yes</td>\n",
       "      <td>5</td>\n",
       "      <td>26</td>\n",
       "      <td>Male</td>\n",
       "      <td>Other relative</td>\n",
       "      <td>Single/Never Married</td>\n",
       "      <td>Vocational/Specialised training</td>\n",
       "      <td>Self employed</td>\n",
       "    </tr>\n",
       "    <tr>\n",
       "      <th>3</th>\n",
       "      <td>Kenya</td>\n",
       "      <td>2018</td>\n",
       "      <td>uniqueid_4</td>\n",
       "      <td>No</td>\n",
       "      <td>Rural</td>\n",
       "      <td>Yes</td>\n",
       "      <td>5</td>\n",
       "      <td>34</td>\n",
       "      <td>Female</td>\n",
       "      <td>Head of Household</td>\n",
       "      <td>Married/Living together</td>\n",
       "      <td>Primary education</td>\n",
       "      <td>Formally employed Private</td>\n",
       "    </tr>\n",
       "    <tr>\n",
       "      <th>4</th>\n",
       "      <td>Kenya</td>\n",
       "      <td>2018</td>\n",
       "      <td>uniqueid_5</td>\n",
       "      <td>No</td>\n",
       "      <td>Urban</td>\n",
       "      <td>No</td>\n",
       "      <td>8</td>\n",
       "      <td>26</td>\n",
       "      <td>Male</td>\n",
       "      <td>Child</td>\n",
       "      <td>Single/Never Married</td>\n",
       "      <td>Primary education</td>\n",
       "      <td>Informally employed</td>\n",
       "    </tr>\n",
       "  </tbody>\n",
       "</table>\n",
       "</div>"
      ],
      "text/plain": [
       "  country  year    uniqueid bank_account location_type cellphone_access  \\\n",
       "0   Kenya  2018  uniqueid_1          Yes         Rural              Yes   \n",
       "1   Kenya  2018  uniqueid_2           No         Rural               No   \n",
       "2   Kenya  2018  uniqueid_3          Yes         Urban              Yes   \n",
       "3   Kenya  2018  uniqueid_4           No         Rural              Yes   \n",
       "4   Kenya  2018  uniqueid_5           No         Urban               No   \n",
       "\n",
       "   household_size  age_of_respondent gender_of_respondent  \\\n",
       "0               3                 24               Female   \n",
       "1               5                 70               Female   \n",
       "2               5                 26                 Male   \n",
       "3               5                 34               Female   \n",
       "4               8                 26                 Male   \n",
       "\n",
       "  relationship_with_head           marital_status  \\\n",
       "0                 Spouse  Married/Living together   \n",
       "1      Head of Household                  Widowed   \n",
       "2         Other relative     Single/Never Married   \n",
       "3      Head of Household  Married/Living together   \n",
       "4                  Child     Single/Never Married   \n",
       "\n",
       "                   education_level                   job_type  \n",
       "0              Secondary education              Self employed  \n",
       "1              No formal education       Government Dependent  \n",
       "2  Vocational/Specialised training              Self employed  \n",
       "3                Primary education  Formally employed Private  \n",
       "4                Primary education        Informally employed  "
      ]
     },
     "execution_count": 4,
     "metadata": {},
     "output_type": "execute_result"
    }
   ],
   "source": [
    "# Preview the first five rows of the train set\n",
    "train.head()"
   ]
  },
  {
   "cell_type": "code",
   "execution_count": 5,
   "metadata": {
    "colab": {
     "base_uri": "https://localhost:8080/",
     "height": 343
    },
    "id": "XADqPrMo22yf",
    "outputId": "d9f3eb20-8898-4b2c-fdb5-e72bd56dc9cb"
   },
   "outputs": [
    {
     "data": {
      "text/html": [
       "<div>\n",
       "<style scoped>\n",
       "    .dataframe tbody tr th:only-of-type {\n",
       "        vertical-align: middle;\n",
       "    }\n",
       "\n",
       "    .dataframe tbody tr th {\n",
       "        vertical-align: top;\n",
       "    }\n",
       "\n",
       "    .dataframe thead th {\n",
       "        text-align: right;\n",
       "    }\n",
       "</style>\n",
       "<table border=\"1\" class=\"dataframe\">\n",
       "  <thead>\n",
       "    <tr style=\"text-align: right;\">\n",
       "      <th></th>\n",
       "      <th>country</th>\n",
       "      <th>year</th>\n",
       "      <th>uniqueid</th>\n",
       "      <th>location_type</th>\n",
       "      <th>cellphone_access</th>\n",
       "      <th>household_size</th>\n",
       "      <th>age_of_respondent</th>\n",
       "      <th>gender_of_respondent</th>\n",
       "      <th>relationship_with_head</th>\n",
       "      <th>marital_status</th>\n",
       "      <th>education_level</th>\n",
       "      <th>job_type</th>\n",
       "    </tr>\n",
       "  </thead>\n",
       "  <tbody>\n",
       "    <tr>\n",
       "      <th>0</th>\n",
       "      <td>Kenya</td>\n",
       "      <td>2018</td>\n",
       "      <td>uniqueid_6056</td>\n",
       "      <td>Urban</td>\n",
       "      <td>Yes</td>\n",
       "      <td>3</td>\n",
       "      <td>30</td>\n",
       "      <td>Male</td>\n",
       "      <td>Head of Household</td>\n",
       "      <td>Married/Living together</td>\n",
       "      <td>Secondary education</td>\n",
       "      <td>Formally employed Government</td>\n",
       "    </tr>\n",
       "    <tr>\n",
       "      <th>1</th>\n",
       "      <td>Kenya</td>\n",
       "      <td>2018</td>\n",
       "      <td>uniqueid_6060</td>\n",
       "      <td>Urban</td>\n",
       "      <td>Yes</td>\n",
       "      <td>7</td>\n",
       "      <td>51</td>\n",
       "      <td>Male</td>\n",
       "      <td>Head of Household</td>\n",
       "      <td>Married/Living together</td>\n",
       "      <td>Vocational/Specialised training</td>\n",
       "      <td>Formally employed Private</td>\n",
       "    </tr>\n",
       "    <tr>\n",
       "      <th>2</th>\n",
       "      <td>Kenya</td>\n",
       "      <td>2018</td>\n",
       "      <td>uniqueid_6065</td>\n",
       "      <td>Rural</td>\n",
       "      <td>No</td>\n",
       "      <td>3</td>\n",
       "      <td>77</td>\n",
       "      <td>Female</td>\n",
       "      <td>Parent</td>\n",
       "      <td>Married/Living together</td>\n",
       "      <td>No formal education</td>\n",
       "      <td>Remittance Dependent</td>\n",
       "    </tr>\n",
       "    <tr>\n",
       "      <th>3</th>\n",
       "      <td>Kenya</td>\n",
       "      <td>2018</td>\n",
       "      <td>uniqueid_6072</td>\n",
       "      <td>Rural</td>\n",
       "      <td>No</td>\n",
       "      <td>6</td>\n",
       "      <td>39</td>\n",
       "      <td>Female</td>\n",
       "      <td>Head of Household</td>\n",
       "      <td>Married/Living together</td>\n",
       "      <td>Primary education</td>\n",
       "      <td>Remittance Dependent</td>\n",
       "    </tr>\n",
       "    <tr>\n",
       "      <th>4</th>\n",
       "      <td>Kenya</td>\n",
       "      <td>2018</td>\n",
       "      <td>uniqueid_6073</td>\n",
       "      <td>Urban</td>\n",
       "      <td>No</td>\n",
       "      <td>3</td>\n",
       "      <td>16</td>\n",
       "      <td>Male</td>\n",
       "      <td>Child</td>\n",
       "      <td>Single/Never Married</td>\n",
       "      <td>Secondary education</td>\n",
       "      <td>Remittance Dependent</td>\n",
       "    </tr>\n",
       "  </tbody>\n",
       "</table>\n",
       "</div>"
      ],
      "text/plain": [
       "  country  year       uniqueid location_type cellphone_access  household_size  \\\n",
       "0   Kenya  2018  uniqueid_6056         Urban              Yes               3   \n",
       "1   Kenya  2018  uniqueid_6060         Urban              Yes               7   \n",
       "2   Kenya  2018  uniqueid_6065         Rural               No               3   \n",
       "3   Kenya  2018  uniqueid_6072         Rural               No               6   \n",
       "4   Kenya  2018  uniqueid_6073         Urban               No               3   \n",
       "\n",
       "   age_of_respondent gender_of_respondent relationship_with_head  \\\n",
       "0                 30                 Male      Head of Household   \n",
       "1                 51                 Male      Head of Household   \n",
       "2                 77               Female                 Parent   \n",
       "3                 39               Female      Head of Household   \n",
       "4                 16                 Male                  Child   \n",
       "\n",
       "            marital_status                  education_level  \\\n",
       "0  Married/Living together              Secondary education   \n",
       "1  Married/Living together  Vocational/Specialised training   \n",
       "2  Married/Living together              No formal education   \n",
       "3  Married/Living together                Primary education   \n",
       "4     Single/Never Married              Secondary education   \n",
       "\n",
       "                       job_type  \n",
       "0  Formally employed Government  \n",
       "1     Formally employed Private  \n",
       "2          Remittance Dependent  \n",
       "3          Remittance Dependent  \n",
       "4          Remittance Dependent  "
      ]
     },
     "execution_count": 5,
     "metadata": {},
     "output_type": "execute_result"
    }
   ],
   "source": [
    "# Preview the first five rows of the test set\n",
    "test.head()"
   ]
  },
  {
   "cell_type": "code",
   "execution_count": 6,
   "metadata": {
    "colab": {
     "base_uri": "https://localhost:8080/",
     "height": 204
    },
    "id": "iwZ0JOrk22yg",
    "outputId": "ab8f0000-542e-43a5-a831-937fc9b6b047"
   },
   "outputs": [
    {
     "data": {
      "text/html": [
       "<div>\n",
       "<style scoped>\n",
       "    .dataframe tbody tr th:only-of-type {\n",
       "        vertical-align: middle;\n",
       "    }\n",
       "\n",
       "    .dataframe tbody tr th {\n",
       "        vertical-align: top;\n",
       "    }\n",
       "\n",
       "    .dataframe thead th {\n",
       "        text-align: right;\n",
       "    }\n",
       "</style>\n",
       "<table border=\"1\" class=\"dataframe\">\n",
       "  <thead>\n",
       "    <tr style=\"text-align: right;\">\n",
       "      <th></th>\n",
       "      <th>unique_id</th>\n",
       "      <th>bank_account</th>\n",
       "    </tr>\n",
       "  </thead>\n",
       "  <tbody>\n",
       "    <tr>\n",
       "      <th>0</th>\n",
       "      <td>uniqueid_1 x Kenya</td>\n",
       "      <td>0</td>\n",
       "    </tr>\n",
       "    <tr>\n",
       "      <th>1</th>\n",
       "      <td>uniqueid_2 x Kenya</td>\n",
       "      <td>0</td>\n",
       "    </tr>\n",
       "    <tr>\n",
       "      <th>2</th>\n",
       "      <td>uniqueid_3 x Kenya</td>\n",
       "      <td>0</td>\n",
       "    </tr>\n",
       "    <tr>\n",
       "      <th>3</th>\n",
       "      <td>uniqueid_4 x Kenya</td>\n",
       "      <td>0</td>\n",
       "    </tr>\n",
       "    <tr>\n",
       "      <th>4</th>\n",
       "      <td>uniqueid_5 x Kenya</td>\n",
       "      <td>0</td>\n",
       "    </tr>\n",
       "  </tbody>\n",
       "</table>\n",
       "</div>"
      ],
      "text/plain": [
       "            unique_id  bank_account\n",
       "0  uniqueid_1 x Kenya             0\n",
       "1  uniqueid_2 x Kenya             0\n",
       "2  uniqueid_3 x Kenya             0\n",
       "3  uniqueid_4 x Kenya             0\n",
       "4  uniqueid_5 x Kenya             0"
      ]
     },
     "execution_count": 6,
     "metadata": {},
     "output_type": "execute_result"
    }
   ],
   "source": [
    "# Preview the first five rows of the sample submission file\n",
    "ss.head()"
   ]
  },
  {
   "cell_type": "code",
   "execution_count": 7,
   "metadata": {
    "colab": {
     "base_uri": "https://localhost:8080/"
    },
    "id": "PpiShcfRIM58",
    "outputId": "4c582207-f858-412d-d3ba-902841b77a06"
   },
   "outputs": [
    {
     "name": "stdout",
     "output_type": "stream",
     "text": [
      "The shape of the train set is: (23524, 13)\n",
      "The shape of the test set is: (10086, 12)\n"
     ]
    }
   ],
   "source": [
    "# Check the shape of the train and test sets\n",
    "print(f'The shape of the train set is: {train.shape}\\nThe shape of the test set is: {test.shape}')"
   ]
  },
  {
   "cell_type": "markdown",
   "metadata": {
    "id": "oo9bQICy22yi"
   },
   "source": [
    "## Combine train and test set for easy preprocessing "
   ]
  },
  {
   "cell_type": "code",
   "execution_count": 8,
   "metadata": {
    "id": "hkQYtG_KLWX_"
   },
   "outputs": [],
   "source": [
    "# mapping the bank account with 0 to NO and 1 to YES\n",
    "train['bank_account'] = train['bank_account'].map({'No':0, 'Yes':1})"
   ]
  },
  {
   "cell_type": "code",
   "execution_count": 9,
   "metadata": {
    "colab": {
     "base_uri": "https://localhost:8080/"
    },
    "id": "LMBnOTvv22yi",
    "outputId": "489d3013-bd41-4c41-f21e-24d12188af82"
   },
   "outputs": [
    {
     "name": "stdout",
     "output_type": "stream",
     "text": [
      "The shape of the combined dataframe is: (33610, 13)\n"
     ]
    }
   ],
   "source": [
    "# Combine train and test set\n",
    "ntrain = train.shape[0] # to be used to split train and test set from the combined dataframe\n",
    "\n",
    "all_data = pd.concat((train, test)).reset_index(drop=True)\n",
    "print(f'The shape of the combined dataframe is: {all_data.shape}')"
   ]
  },
  {
   "cell_type": "code",
   "execution_count": 10,
   "metadata": {
    "colab": {
     "base_uri": "https://localhost:8080/",
     "height": 309
    },
    "id": "Enhuekp922yj",
    "outputId": "421c0680-9b00-432b-cb07-4cf7dfbaf8a0"
   },
   "outputs": [
    {
     "data": {
      "text/html": [
       "<div>\n",
       "<style scoped>\n",
       "    .dataframe tbody tr th:only-of-type {\n",
       "        vertical-align: middle;\n",
       "    }\n",
       "\n",
       "    .dataframe tbody tr th {\n",
       "        vertical-align: top;\n",
       "    }\n",
       "\n",
       "    .dataframe thead th {\n",
       "        text-align: right;\n",
       "    }\n",
       "</style>\n",
       "<table border=\"1\" class=\"dataframe\">\n",
       "  <thead>\n",
       "    <tr style=\"text-align: right;\">\n",
       "      <th></th>\n",
       "      <th>country</th>\n",
       "      <th>year</th>\n",
       "      <th>uniqueid</th>\n",
       "      <th>bank_account</th>\n",
       "      <th>location_type</th>\n",
       "      <th>cellphone_access</th>\n",
       "      <th>household_size</th>\n",
       "      <th>age_of_respondent</th>\n",
       "      <th>gender_of_respondent</th>\n",
       "      <th>relationship_with_head</th>\n",
       "      <th>marital_status</th>\n",
       "      <th>education_level</th>\n",
       "      <th>job_type</th>\n",
       "    </tr>\n",
       "  </thead>\n",
       "  <tbody>\n",
       "    <tr>\n",
       "      <th>33605</th>\n",
       "      <td>Uganda</td>\n",
       "      <td>2018</td>\n",
       "      <td>uniqueid_2998</td>\n",
       "      <td>NaN</td>\n",
       "      <td>Rural</td>\n",
       "      <td>No</td>\n",
       "      <td>2</td>\n",
       "      <td>62</td>\n",
       "      <td>Female</td>\n",
       "      <td>Spouse</td>\n",
       "      <td>Married/Living together</td>\n",
       "      <td>Primary education</td>\n",
       "      <td>Self employed</td>\n",
       "    </tr>\n",
       "    <tr>\n",
       "      <th>33606</th>\n",
       "      <td>Uganda</td>\n",
       "      <td>2018</td>\n",
       "      <td>uniqueid_2999</td>\n",
       "      <td>NaN</td>\n",
       "      <td>Urban</td>\n",
       "      <td>Yes</td>\n",
       "      <td>8</td>\n",
       "      <td>42</td>\n",
       "      <td>Male</td>\n",
       "      <td>Head of Household</td>\n",
       "      <td>Married/Living together</td>\n",
       "      <td>Primary education</td>\n",
       "      <td>Self employed</td>\n",
       "    </tr>\n",
       "    <tr>\n",
       "      <th>33607</th>\n",
       "      <td>Uganda</td>\n",
       "      <td>2018</td>\n",
       "      <td>uniqueid_3000</td>\n",
       "      <td>NaN</td>\n",
       "      <td>Urban</td>\n",
       "      <td>Yes</td>\n",
       "      <td>1</td>\n",
       "      <td>39</td>\n",
       "      <td>Male</td>\n",
       "      <td>Head of Household</td>\n",
       "      <td>Single/Never Married</td>\n",
       "      <td>Secondary education</td>\n",
       "      <td>Other Income</td>\n",
       "    </tr>\n",
       "    <tr>\n",
       "      <th>33608</th>\n",
       "      <td>Uganda</td>\n",
       "      <td>2018</td>\n",
       "      <td>uniqueid_3001</td>\n",
       "      <td>NaN</td>\n",
       "      <td>Rural</td>\n",
       "      <td>Yes</td>\n",
       "      <td>6</td>\n",
       "      <td>28</td>\n",
       "      <td>Female</td>\n",
       "      <td>Spouse</td>\n",
       "      <td>Married/Living together</td>\n",
       "      <td>Primary education</td>\n",
       "      <td>Self employed</td>\n",
       "    </tr>\n",
       "    <tr>\n",
       "      <th>33609</th>\n",
       "      <td>Uganda</td>\n",
       "      <td>2018</td>\n",
       "      <td>uniqueid_3002</td>\n",
       "      <td>NaN</td>\n",
       "      <td>Urban</td>\n",
       "      <td>Yes</td>\n",
       "      <td>7</td>\n",
       "      <td>16</td>\n",
       "      <td>Male</td>\n",
       "      <td>Other relative</td>\n",
       "      <td>Single/Never Married</td>\n",
       "      <td>Secondary education</td>\n",
       "      <td>Other Income</td>\n",
       "    </tr>\n",
       "  </tbody>\n",
       "</table>\n",
       "</div>"
      ],
      "text/plain": [
       "      country  year       uniqueid  bank_account location_type  \\\n",
       "33605  Uganda  2018  uniqueid_2998           NaN         Rural   \n",
       "33606  Uganda  2018  uniqueid_2999           NaN         Urban   \n",
       "33607  Uganda  2018  uniqueid_3000           NaN         Urban   \n",
       "33608  Uganda  2018  uniqueid_3001           NaN         Rural   \n",
       "33609  Uganda  2018  uniqueid_3002           NaN         Urban   \n",
       "\n",
       "      cellphone_access  household_size  age_of_respondent  \\\n",
       "33605               No               2                 62   \n",
       "33606              Yes               8                 42   \n",
       "33607              Yes               1                 39   \n",
       "33608              Yes               6                 28   \n",
       "33609              Yes               7                 16   \n",
       "\n",
       "      gender_of_respondent relationship_with_head           marital_status  \\\n",
       "33605               Female                 Spouse  Married/Living together   \n",
       "33606                 Male      Head of Household  Married/Living together   \n",
       "33607                 Male      Head of Household     Single/Never Married   \n",
       "33608               Female                 Spouse  Married/Living together   \n",
       "33609                 Male         Other relative     Single/Never Married   \n",
       "\n",
       "           education_level       job_type  \n",
       "33605    Primary education  Self employed  \n",
       "33606    Primary education  Self employed  \n",
       "33607  Secondary education   Other Income  \n",
       "33608    Primary education  Self employed  \n",
       "33609  Secondary education   Other Income  "
      ]
     },
     "execution_count": 10,
     "metadata": {},
     "output_type": "execute_result"
    }
   ],
   "source": [
    "# Preview the last five rows of the combined dataframe\n",
    "all_data.tail()"
   ]
  },
  {
   "cell_type": "code",
   "execution_count": 11,
   "metadata": {},
   "outputs": [],
   "source": [
    "# function for categorzing age of respondents\n",
    "def age_of_respondent_cat(x):\n",
    "    if x < 40:\n",
    "        return 'youth'\n",
    "    elif x >= 35 and x < 65:\n",
    "        return 'life'\n",
    "    elif x >= 65:\n",
    "        return 'old'"
   ]
  },
  {
   "cell_type": "code",
   "execution_count": 12,
   "metadata": {},
   "outputs": [],
   "source": [
    "all_data['age_of_respondent'] = all_data['age_of_respondent'].apply(age_of_respondent_cat)"
   ]
  },
  {
   "cell_type": "code",
   "execution_count": 13,
   "metadata": {},
   "outputs": [],
   "source": [
    "all_data['education_level'].replace(['No formal education', 'Primary education'], 'below_secondary', inplace=True)"
   ]
  },
  {
   "cell_type": "code",
   "execution_count": 14,
   "metadata": {},
   "outputs": [],
   "source": [
    "all_data['education_level'].replace(['Tertiary education', 'Vocational/Specialised training'], 'Post secondary', inplace=True)"
   ]
  },
  {
   "cell_type": "code",
   "execution_count": 15,
   "metadata": {},
   "outputs": [],
   "source": [
    "all_data['education_level'].replace('Other/Dont know/RTA', 'below_secondary', inplace=True)"
   ]
  },
  {
   "cell_type": "code",
   "execution_count": 13,
   "metadata": {},
   "outputs": [],
   "source": [
    "# function for categorzing household size\n",
    "def household_size_cat(x):\n",
    "    if x <= 2:\n",
    "        return 'small'\n",
    "    elif x > 2 and x <= 4:\n",
    "        return 'medium'\n",
    "    elif x > 4:\n",
    "        return 'big'"
   ]
  },
  {
   "cell_type": "code",
   "execution_count": 14,
   "metadata": {},
   "outputs": [],
   "source": [
    "all_data['household_size'] = all_data['household_size'].apply(household_size_cat)"
   ]
  },
  {
   "cell_type": "code",
   "execution_count": 18,
   "metadata": {},
   "outputs": [],
   "source": [
    "all_data['relationship_with_head'].replace(['Other relative','Other non-relatives'], 'other', inplace=True)"
   ]
  },
  {
   "cell_type": "code",
   "execution_count": 19,
   "metadata": {},
   "outputs": [],
   "source": [
    "all_data['marital_status'].replace('Dont know', 'Divorced/Seperated', inplace=True)"
   ]
  },
  {
   "cell_type": "code",
   "execution_count": 20,
   "metadata": {
    "colab": {
     "base_uri": "https://localhost:8080/"
    },
    "id": "Zmhi38ur22yj",
    "outputId": "ebc4d76c-5074-4082-d567-b49baff1f798"
   },
   "outputs": [
    {
     "name": "stdout",
     "output_type": "stream",
     "text": [
      "<class 'pandas.core.frame.DataFrame'>\n",
      "RangeIndex: 33610 entries, 0 to 33609\n",
      "Data columns (total 13 columns):\n",
      " #   Column                  Non-Null Count  Dtype  \n",
      "---  ------                  --------------  -----  \n",
      " 0   country                 33610 non-null  object \n",
      " 1   year                    33610 non-null  int64  \n",
      " 2   uniqueid                33610 non-null  object \n",
      " 3   bank_account            23524 non-null  float64\n",
      " 4   location_type           33610 non-null  object \n",
      " 5   cellphone_access        33610 non-null  object \n",
      " 6   household_size          33610 non-null  object \n",
      " 7   age_of_respondent       33610 non-null  object \n",
      " 8   gender_of_respondent    33610 non-null  object \n",
      " 9   relationship_with_head  33610 non-null  object \n",
      " 10  marital_status          33610 non-null  object \n",
      " 11  education_level         33610 non-null  object \n",
      " 12  job_type                33610 non-null  object \n",
      "dtypes: float64(1), int64(1), object(11)\n",
      "memory usage: 3.3+ MB\n"
     ]
    }
   ],
   "source": [
    "# Check the column names and datatypes\n",
    "all_data.info()"
   ]
  },
  {
   "cell_type": "markdown",
   "metadata": {
    "id": "7rZ9LClahj5F"
   },
   "source": [
    "### Number of unique values per categorical column"
   ]
  },
  {
   "cell_type": "code",
   "execution_count": 15,
   "metadata": {
    "colab": {
     "base_uri": "https://localhost:8080/"
    },
    "id": "rOd8usWw22yp",
    "outputId": "03390245-04c6-4ed3-c2ba-d591aacb7c1a"
   },
   "outputs": [
    {
     "name": "stdout",
     "output_type": "stream",
     "text": [
      "household_size\n",
      "['medium' 'big' 'small'] \n",
      "\n",
      "age_of_respondent\n",
      "['youth' 'old' 'life'] \n",
      "\n",
      "year\n",
      "[2018 2016 2017] \n",
      "\n",
      "country\n",
      "['Kenya' 'Rwanda' 'Tanzania' 'Uganda'] \n",
      "\n",
      "location_type\n",
      "['Rural' 'Urban'] \n",
      "\n",
      "cellphone_access\n",
      "['Yes' 'No'] \n",
      "\n",
      "gender_of_respondent\n",
      "['Female' 'Male'] \n",
      "\n",
      "relationship_with_head\n",
      "['Spouse' 'Head of Household' 'Other relative' 'Child' 'Parent'\n",
      " 'Other non-relatives'] \n",
      "\n",
      "marital_status\n",
      "['Married/Living together' 'Widowed' 'Single/Never Married'\n",
      " 'Divorced/Seperated' 'Dont know'] \n",
      "\n",
      "education_level\n",
      "['Secondary education' 'No formal education'\n",
      " 'Vocational/Specialised training' 'Primary education'\n",
      " 'Tertiary education' 'Other/Dont know/RTA'] \n",
      "\n",
      "job_type\n",
      "['Self employed' 'Government Dependent' 'Formally employed Private'\n",
      " 'Informally employed' 'Formally employed Government'\n",
      " 'Farming and Fishing' 'Remittance Dependent' 'Other Income'\n",
      " 'Dont Know/Refuse to answer' 'No Income'] \n",
      "\n"
     ]
    }
   ],
   "source": [
    "# Check unique values for each categorical column\n",
    "cat_cols = ['household_size', 'age_of_respondent', 'year', 'country',\t'location_type',\t'cellphone_access',\t'gender_of_respondent',\t'relationship_with_head', 'marital_status', 'education_level',\t'job_type']\n",
    "for col in cat_cols:\n",
    "  print(col)\n",
    "  print(all_data[col].unique(), '\\n')"
   ]
  },
  {
   "cell_type": "markdown",
   "metadata": {
    "id": "Ppmv1kB5hvWs"
   },
   "source": [
    "### Feature Engineering\n"
   ]
  },
  {
   "cell_type": "markdown",
   "metadata": {
    "id": "XOnSMk9im9EC"
   },
   "source": [
    "#### Try different strategies of dealing with categorical variables\n",
    "Tips:\n",
    " - One hot encoding\n",
    " - Label encoding\n",
    " - Target encoding\n",
    " - Reduce the number of unique values..."
   ]
  },
  {
   "cell_type": "code",
   "execution_count": 16,
   "metadata": {
    "colab": {
     "base_uri": "https://localhost:8080/",
     "height": 258
    },
    "id": "hzZXqfvE22y9",
    "outputId": "06376888-b7ed-4b64-8137-0ae1243421e0"
   },
   "outputs": [
    {
     "data": {
      "text/html": [
       "<div>\n",
       "<style scoped>\n",
       "    .dataframe tbody tr th:only-of-type {\n",
       "        vertical-align: middle;\n",
       "    }\n",
       "\n",
       "    .dataframe tbody tr th {\n",
       "        vertical-align: top;\n",
       "    }\n",
       "\n",
       "    .dataframe thead th {\n",
       "        text-align: right;\n",
       "    }\n",
       "</style>\n",
       "<table border=\"1\" class=\"dataframe\">\n",
       "  <thead>\n",
       "    <tr style=\"text-align: right;\">\n",
       "      <th></th>\n",
       "      <th>uniqueid</th>\n",
       "      <th>bank_account</th>\n",
       "      <th>household_size_medium</th>\n",
       "      <th>household_size_small</th>\n",
       "      <th>age_of_respondent_old</th>\n",
       "      <th>age_of_respondent_youth</th>\n",
       "      <th>year_2017</th>\n",
       "      <th>year_2018</th>\n",
       "      <th>country_Rwanda</th>\n",
       "      <th>country_Tanzania</th>\n",
       "      <th>...</th>\n",
       "      <th>education_level_Vocational/Specialised training</th>\n",
       "      <th>job_type_Farming and Fishing</th>\n",
       "      <th>job_type_Formally employed Government</th>\n",
       "      <th>job_type_Formally employed Private</th>\n",
       "      <th>job_type_Government Dependent</th>\n",
       "      <th>job_type_Informally employed</th>\n",
       "      <th>job_type_No Income</th>\n",
       "      <th>job_type_Other Income</th>\n",
       "      <th>job_type_Remittance Dependent</th>\n",
       "      <th>job_type_Self employed</th>\n",
       "    </tr>\n",
       "  </thead>\n",
       "  <tbody>\n",
       "    <tr>\n",
       "      <th>0</th>\n",
       "      <td>uniqueid_1</td>\n",
       "      <td>1.0</td>\n",
       "      <td>1</td>\n",
       "      <td>0</td>\n",
       "      <td>0</td>\n",
       "      <td>1</td>\n",
       "      <td>0</td>\n",
       "      <td>1</td>\n",
       "      <td>0</td>\n",
       "      <td>0</td>\n",
       "      <td>...</td>\n",
       "      <td>0</td>\n",
       "      <td>0</td>\n",
       "      <td>0</td>\n",
       "      <td>0</td>\n",
       "      <td>0</td>\n",
       "      <td>0</td>\n",
       "      <td>0</td>\n",
       "      <td>0</td>\n",
       "      <td>0</td>\n",
       "      <td>1</td>\n",
       "    </tr>\n",
       "    <tr>\n",
       "      <th>1</th>\n",
       "      <td>uniqueid_2</td>\n",
       "      <td>0.0</td>\n",
       "      <td>0</td>\n",
       "      <td>0</td>\n",
       "      <td>1</td>\n",
       "      <td>0</td>\n",
       "      <td>0</td>\n",
       "      <td>1</td>\n",
       "      <td>0</td>\n",
       "      <td>0</td>\n",
       "      <td>...</td>\n",
       "      <td>0</td>\n",
       "      <td>0</td>\n",
       "      <td>0</td>\n",
       "      <td>0</td>\n",
       "      <td>1</td>\n",
       "      <td>0</td>\n",
       "      <td>0</td>\n",
       "      <td>0</td>\n",
       "      <td>0</td>\n",
       "      <td>0</td>\n",
       "    </tr>\n",
       "    <tr>\n",
       "      <th>2</th>\n",
       "      <td>uniqueid_3</td>\n",
       "      <td>1.0</td>\n",
       "      <td>0</td>\n",
       "      <td>0</td>\n",
       "      <td>0</td>\n",
       "      <td>1</td>\n",
       "      <td>0</td>\n",
       "      <td>1</td>\n",
       "      <td>0</td>\n",
       "      <td>0</td>\n",
       "      <td>...</td>\n",
       "      <td>1</td>\n",
       "      <td>0</td>\n",
       "      <td>0</td>\n",
       "      <td>0</td>\n",
       "      <td>0</td>\n",
       "      <td>0</td>\n",
       "      <td>0</td>\n",
       "      <td>0</td>\n",
       "      <td>0</td>\n",
       "      <td>1</td>\n",
       "    </tr>\n",
       "    <tr>\n",
       "      <th>3</th>\n",
       "      <td>uniqueid_4</td>\n",
       "      <td>0.0</td>\n",
       "      <td>0</td>\n",
       "      <td>0</td>\n",
       "      <td>0</td>\n",
       "      <td>1</td>\n",
       "      <td>0</td>\n",
       "      <td>1</td>\n",
       "      <td>0</td>\n",
       "      <td>0</td>\n",
       "      <td>...</td>\n",
       "      <td>0</td>\n",
       "      <td>0</td>\n",
       "      <td>0</td>\n",
       "      <td>1</td>\n",
       "      <td>0</td>\n",
       "      <td>0</td>\n",
       "      <td>0</td>\n",
       "      <td>0</td>\n",
       "      <td>0</td>\n",
       "      <td>0</td>\n",
       "    </tr>\n",
       "    <tr>\n",
       "      <th>4</th>\n",
       "      <td>uniqueid_5</td>\n",
       "      <td>0.0</td>\n",
       "      <td>0</td>\n",
       "      <td>0</td>\n",
       "      <td>0</td>\n",
       "      <td>1</td>\n",
       "      <td>0</td>\n",
       "      <td>1</td>\n",
       "      <td>0</td>\n",
       "      <td>0</td>\n",
       "      <td>...</td>\n",
       "      <td>0</td>\n",
       "      <td>0</td>\n",
       "      <td>0</td>\n",
       "      <td>0</td>\n",
       "      <td>0</td>\n",
       "      <td>1</td>\n",
       "      <td>0</td>\n",
       "      <td>0</td>\n",
       "      <td>0</td>\n",
       "      <td>0</td>\n",
       "    </tr>\n",
       "  </tbody>\n",
       "</table>\n",
       "<p>5 rows × 37 columns</p>\n",
       "</div>"
      ],
      "text/plain": [
       "     uniqueid  bank_account  household_size_medium  household_size_small  \\\n",
       "0  uniqueid_1           1.0                      1                     0   \n",
       "1  uniqueid_2           0.0                      0                     0   \n",
       "2  uniqueid_3           1.0                      0                     0   \n",
       "3  uniqueid_4           0.0                      0                     0   \n",
       "4  uniqueid_5           0.0                      0                     0   \n",
       "\n",
       "   age_of_respondent_old  age_of_respondent_youth  year_2017  year_2018  \\\n",
       "0                      0                        1          0          1   \n",
       "1                      1                        0          0          1   \n",
       "2                      0                        1          0          1   \n",
       "3                      0                        1          0          1   \n",
       "4                      0                        1          0          1   \n",
       "\n",
       "   country_Rwanda  country_Tanzania  ...  \\\n",
       "0               0                 0  ...   \n",
       "1               0                 0  ...   \n",
       "2               0                 0  ...   \n",
       "3               0                 0  ...   \n",
       "4               0                 0  ...   \n",
       "\n",
       "   education_level_Vocational/Specialised training  \\\n",
       "0                                                0   \n",
       "1                                                0   \n",
       "2                                                1   \n",
       "3                                                0   \n",
       "4                                                0   \n",
       "\n",
       "   job_type_Farming and Fishing  job_type_Formally employed Government  \\\n",
       "0                             0                                      0   \n",
       "1                             0                                      0   \n",
       "2                             0                                      0   \n",
       "3                             0                                      0   \n",
       "4                             0                                      0   \n",
       "\n",
       "   job_type_Formally employed Private  job_type_Government Dependent  \\\n",
       "0                                   0                              0   \n",
       "1                                   0                              1   \n",
       "2                                   0                              0   \n",
       "3                                   1                              0   \n",
       "4                                   0                              0   \n",
       "\n",
       "   job_type_Informally employed  job_type_No Income  job_type_Other Income  \\\n",
       "0                             0                   0                      0   \n",
       "1                             0                   0                      0   \n",
       "2                             0                   0                      0   \n",
       "3                             0                   0                      0   \n",
       "4                             1                   0                      0   \n",
       "\n",
       "   job_type_Remittance Dependent  job_type_Self employed  \n",
       "0                              0                       1  \n",
       "1                              0                       0  \n",
       "2                              0                       1  \n",
       "3                              0                       0  \n",
       "4                              0                       0  \n",
       "\n",
       "[5 rows x 37 columns]"
      ]
     },
     "execution_count": 16,
     "metadata": {},
     "output_type": "execute_result"
    }
   ],
   "source": [
    "# Encode categorical features\n",
    "all_data = pd.get_dummies(data = all_data, columns = cat_cols, drop_first=True)\n",
    "all_data.head()"
   ]
  },
  {
   "cell_type": "code",
   "execution_count": 17,
   "metadata": {
    "colab": {
     "base_uri": "https://localhost:8080/"
    },
    "id": "BibprFWLdRAy",
    "outputId": "d86b2e2d-52ce-4689-ba33-563f0447bef4"
   },
   "outputs": [
    {
     "data": {
      "text/plain": [
       "((23524, 37), (10086, 37))"
      ]
     },
     "execution_count": 17,
     "metadata": {},
     "output_type": "execute_result"
    }
   ],
   "source": [
    "# Separate train and test data from the combined dataframe\n",
    "train_df = all_data[:ntrain]\n",
    "test_df = all_data[ntrain:]\n",
    "\n",
    "# Check the shapes of the split dataset\n",
    "train_df.shape, test_df.shape"
   ]
  },
  {
   "cell_type": "markdown",
   "metadata": {
    "id": "Rv9axjwXh2Ij"
   },
   "source": [
    "### Training and making predictions\n",
    "Tips:\n",
    "- Is lgbm the best model for this challenge?\n",
    "- Parameter tuning\n",
    " - Grid search, random search, perhaps bayesian search works better...\n",
    "\n"
   ]
  },
  {
   "cell_type": "code",
   "execution_count": 18,
   "metadata": {
    "colab": {
     "base_uri": "https://localhost:8080/"
    },
    "id": "w0EL1Fk222y-",
    "outputId": "b31891c4-0d64-48ac-dd6d-ac80b1c4ecd1"
   },
   "outputs": [
    {
     "data": {
      "text/plain": [
       "Index(['age_of_respondent_old', 'age_of_respondent_youth',\n",
       "       'cellphone_access_Yes', 'country_Rwanda', 'country_Tanzania',\n",
       "       'country_Uganda', 'education_level_Other/Dont know/RTA',\n",
       "       'education_level_Primary education',\n",
       "       'education_level_Secondary education',\n",
       "       'education_level_Tertiary education',\n",
       "       'education_level_Vocational/Specialised training',\n",
       "       'gender_of_respondent_Male', 'household_size_medium',\n",
       "       'household_size_small', 'job_type_Farming and Fishing',\n",
       "       'job_type_Formally employed Government',\n",
       "       'job_type_Formally employed Private', 'job_type_Government Dependent',\n",
       "       'job_type_Informally employed', 'job_type_No Income',\n",
       "       'job_type_Other Income', 'job_type_Remittance Dependent',\n",
       "       'job_type_Self employed', 'location_type_Urban',\n",
       "       'marital_status_Dont know', 'marital_status_Married/Living together',\n",
       "       'marital_status_Single/Never Married', 'marital_status_Widowed',\n",
       "       'relationship_with_head_Head of Household',\n",
       "       'relationship_with_head_Other non-relatives',\n",
       "       'relationship_with_head_Other relative',\n",
       "       'relationship_with_head_Parent', 'relationship_with_head_Spouse',\n",
       "       'year_2017', 'year_2018'],\n",
       "      dtype='object')"
      ]
     },
     "execution_count": 18,
     "metadata": {},
     "output_type": "execute_result"
    }
   ],
   "source": [
    "main_cols = all_data.columns.difference(['uniqueid', 'bank_account'])\n",
    "main_cols"
   ]
  },
  {
   "cell_type": "code",
   "execution_count": 19,
   "metadata": {},
   "outputs": [],
   "source": [
    "# Select main columns to be used in training\n",
    "#main_cols = all_data.columns.difference(date_cols+['ID', 'bank_account'])\n",
    "#main_cols = all_data.columns.difference('bank_account')\n",
    "X = train_df[main_cols]\n",
    "y = train_df['bank_account']\n",
    "\n",
    "# Split data into train and test sets\n",
    "X_train, X_test, y_train, y_test = train_test_split(X,y,test_size=0.3, random_state=42)"
   ]
  },
  {
   "cell_type": "code",
   "execution_count": 20,
   "metadata": {},
   "outputs": [],
   "source": [
    "import imblearn\n",
    "from collections import Counter\n",
    "from imblearn.over_sampling import SMOTE\n",
    "from imblearn.under_sampling import RandomUnderSampler"
   ]
  },
  {
   "cell_type": "code",
   "execution_count": 21,
   "metadata": {},
   "outputs": [
    {
     "name": "stdout",
     "output_type": "stream",
     "text": [
      "Counter({0.0: 14139, 1.0: 14139})\n"
     ]
    }
   ],
   "source": [
    "oversample = SMOTE()\n",
    "X_train, y_train = oversample.fit_resample(X_train, y_train)\n",
    "print(Counter(y_train))"
   ]
  },
  {
   "cell_type": "code",
   "execution_count": 22,
   "metadata": {},
   "outputs": [],
   "source": [
    "# from sklearn.preprocessing import StandardScaler\n",
    "# sc = StandardScaler()\n",
    "# X_train = sc.fit_transform(X_train)\n",
    "# X_test=sc.transform(X_test)"
   ]
  },
  {
   "cell_type": "code",
   "execution_count": 23,
   "metadata": {},
   "outputs": [
    {
     "name": "stdout",
     "output_type": "stream",
     "text": [
      "classification report:\n",
      " \n",
      "              precision    recall  f1-score   support\n",
      "\n",
      "         0.0       0.92      0.88      0.90      6073\n",
      "         1.0       0.43      0.55      0.48       985\n",
      "\n",
      "    accuracy                           0.84      7058\n",
      "   macro avg       0.68      0.72      0.69      7058\n",
      "weighted avg       0.86      0.84      0.84      7058\n",
      "\n",
      "confusion matrix:\n",
      " \n",
      "[[5364  709]\n",
      " [ 444  541]]\n",
      "Accuracy of prediction: 0.837\n",
      " \n",
      "accuracy_score:  0.8366392745820346\n"
     ]
    }
   ],
   "source": [
    "# checking extratreeclassifier\n",
    "\n",
    "from sklearn.ensemble import ExtraTreesClassifier\n",
    "\n",
    "# Train model\n",
    "et_clf = ExtraTreesClassifier(bootstrap=True, ccp_alpha=0.0, class_weight=None,\n",
    "                                criterion='gini', max_depth=110, max_features='sqrt',\n",
    "                                max_leaf_nodes=None, max_samples=None,\n",
    "                                min_impurity_decrease=0.0, min_impurity_split=None,\n",
    "                                min_samples_leaf=1, min_samples_split=5,\n",
    "                                min_weight_fraction_leaf=0.0, n_estimators=120, n_jobs=-1,\n",
    "                                oob_score=False, random_state=123, verbose=0,\n",
    "                                warm_start=False)\n",
    "\n",
    "et_clf.fit(X_train, y_train)\n",
    "\n",
    "# Make predictions\n",
    "y_pred = et_clf.predict(X_test)\n",
    "\n",
    "# Check the accuracy score of the model\n",
    "#accuracy_score(y_pred,y_test)\n",
    "from sklearn.metrics import classification_report,confusion_matrix\n",
    "# classification report\n",
    "print('classification report:')\n",
    "print(' ')\n",
    "print(classification_report(y_test,y_pred))\n",
    "# confusion matrix\n",
    "print('confusion matrix:')\n",
    "print(' ')\n",
    "cm=confusion_matrix(y_test,y_pred)\n",
    "print(cm)\n",
    "print (\"Accuracy of prediction:\",round((cm[0,0]+cm[1,1])/cm.sum(),3))\n",
    "print(' ')\n",
    "print('accuracy_score: ',accuracy_score(y_pred,y_test))"
   ]
  },
  {
   "cell_type": "code",
   "execution_count": 24,
   "metadata": {},
   "outputs": [
    {
     "name": "stdout",
     "output_type": "stream",
     "text": [
      "classification report:\n",
      " \n",
      "              precision    recall  f1-score   support\n",
      "\n",
      "         0.0       0.86      1.00      0.92      6073\n",
      "         1.0       0.00      0.00      0.00       985\n",
      "\n",
      "    accuracy                           0.86      7058\n",
      "   macro avg       0.43      0.50      0.46      7058\n",
      "weighted avg       0.74      0.86      0.80      7058\n",
      "\n",
      "confusion matrix:\n",
      " \n",
      "[[6073    0]\n",
      " [ 985    0]]\n",
      "Accuracy of prediction: 0.86\n",
      " \n",
      "accuracy_score:  0.8604420515726835\n"
     ]
    }
   ],
   "source": [
    "from sklearn.linear_model import RidgeClassifier\n",
    "\n",
    "\n",
    "rig_clf = RidgeClassifier(normalize=False, random_state=100, tol=0.1)\n",
    "rig_clf.fit(X_train, y_train)\n",
    "\n",
    "# Make predictions\n",
    "y_pred = rig_clf.predict(X_test)\n",
    "\n",
    "# Check the accuracy score of the model\n",
    "#accuracy_score(y_pred,y_test)\n",
    "from sklearn.metrics import classification_report,confusion_matrix\n",
    "# classification report\n",
    "print('classification report:')\n",
    "print(' ')\n",
    "print(classification_report(y_test,y_pred))\n",
    "# confusion matrix\n",
    "print('confusion matrix:')\n",
    "print(' ')\n",
    "cm=confusion_matrix(y_test,y_pred)\n",
    "print(cm)\n",
    "print (\"Accuracy of prediction:\",round((cm[0,0]+cm[1,1])/cm.sum(),3))\n",
    "print(' ')\n",
    "print('accuracy_score: ',accuracy_score(y_pred,y_test))"
   ]
  },
  {
   "cell_type": "code",
   "execution_count": 25,
   "metadata": {},
   "outputs": [],
   "source": [
    "from catboost import CatBoostClassifier"
   ]
  },
  {
   "cell_type": "code",
   "execution_count": 26,
   "metadata": {},
   "outputs": [
    {
     "name": "stdout",
     "output_type": "stream",
     "text": [
      "classification report:\n",
      " \n",
      "              precision    recall  f1-score   support\n",
      "\n",
      "         0.0       0.94      0.88      0.91      6073\n",
      "         1.0       0.45      0.63      0.53       985\n",
      "\n",
      "    accuracy                           0.84      7058\n",
      "   macro avg       0.69      0.75      0.72      7058\n",
      "weighted avg       0.87      0.84      0.85      7058\n",
      "\n",
      "confusion matrix:\n",
      " \n",
      "[[5323  750]\n",
      " [ 366  619]]\n",
      "Accuracy of prediction: 0.842\n",
      " \n",
      "accuracy_score:  0.8418815528478323\n"
     ]
    }
   ],
   "source": [
    "# checking catboost\n",
    "# Train model\n",
    "cb_clf = CatBoostClassifier(verbose=False)\n",
    "cb_clf.fit(X_train, y_train)\n",
    "\n",
    "# Make predictions\n",
    "y_pred = cb_clf.predict(X_test)\n",
    "\n",
    "# Check the accuracy score of the model\n",
    "#accuracy_score(y_pred,y_test)\n",
    "from sklearn.metrics import classification_report,confusion_matrix\n",
    "# classification report\n",
    "print('classification report:')\n",
    "print(' ')\n",
    "print(classification_report(y_test,y_pred))\n",
    "# confusion matrix\n",
    "print('confusion matrix:')\n",
    "print(' ')\n",
    "cm=confusion_matrix(y_test,y_pred)\n",
    "print(cm)\n",
    "print (\"Accuracy of prediction:\",round((cm[0,0]+cm[1,1])/cm.sum(),3))\n",
    "print(' ')\n",
    "print('accuracy_score: ',accuracy_score(y_pred,y_test))"
   ]
  },
  {
   "cell_type": "code",
   "execution_count": 27,
   "metadata": {},
   "outputs": [
    {
     "name": "stdout",
     "output_type": "stream",
     "text": [
      "classification report:\n",
      " \n",
      "              precision    recall  f1-score   support\n",
      "\n",
      "         0.0       0.92      0.88      0.90      6073\n",
      "         1.0       0.41      0.54      0.47       985\n",
      "\n",
      "    accuracy                           0.83      7058\n",
      "   macro avg       0.67      0.71      0.68      7058\n",
      "weighted avg       0.85      0.83      0.84      7058\n",
      "\n",
      "confusion matrix:\n",
      " \n",
      "[[5326  747]\n",
      " [ 456  529]]\n",
      "Accuracy of prediction: 0.83\n",
      " \n",
      "accuracy_score:  0.8295551147633891\n"
     ]
    }
   ],
   "source": [
    "# checking gradientboostingclassifier\n",
    "\n",
    "from sklearn.ensemble import GradientBoostingClassifier\n",
    "\n",
    "# Train model\n",
    "gb_clf = GradientBoostingClassifier(ccp_alpha=0.0, criterion='friedman_mse', init=None,\n",
    "                                    learning_rate=0.29, loss='deviance', max_depth=80,\n",
    "                                    max_features='auto', max_leaf_nodes=None,\n",
    "                                    min_impurity_decrease=0.0, min_impurity_split=None,\n",
    "                                    min_samples_leaf=2, min_samples_split=10,\n",
    "                                    min_weight_fraction_leaf=0.0, n_estimators=55,\n",
    "                                    n_iter_no_change=None,\n",
    "                                    random_state=123, subsample=0.6500000000000001,\n",
    "                                    tol=0.0001, validation_fraction=0.1, verbose=0,\n",
    "                                    warm_start=False)\n",
    "gb_clf.fit(X_train, y_train)\n",
    "\n",
    "# Make predictions\n",
    "y_pred = gb_clf.predict(X_test)\n",
    "\n",
    "# Check the accuracy score of the model\n",
    "#accuracy_score(y_pred,y_test)\n",
    "from sklearn.metrics import classification_report,confusion_matrix\n",
    "# classification report\n",
    "print('classification report:')\n",
    "print(' ')\n",
    "print(classification_report(y_test,y_pred))\n",
    "# confusion matrix\n",
    "print('confusion matrix:')\n",
    "print(' ')\n",
    "cm=confusion_matrix(y_test,y_pred)\n",
    "print(cm)\n",
    "print (\"Accuracy of prediction:\",round((cm[0,0]+cm[1,1])/cm.sum(),3))\n",
    "print(' ')\n",
    "print('accuracy_score: ',accuracy_score(y_pred,y_test))"
   ]
  },
  {
   "cell_type": "code",
   "execution_count": 28,
   "metadata": {},
   "outputs": [
    {
     "name": "stdout",
     "output_type": "stream",
     "text": [
      "classification report:\n",
      " \n",
      "              precision    recall  f1-score   support\n",
      "\n",
      "         0.0       0.94      0.87      0.90      6073\n",
      "         1.0       0.45      0.64      0.53       985\n",
      "\n",
      "    accuracy                           0.84      7058\n",
      "   macro avg       0.69      0.76      0.72      7058\n",
      "weighted avg       0.87      0.84      0.85      7058\n",
      "\n",
      "confusion matrix:\n",
      " \n",
      "[[5301  772]\n",
      " [ 355  630]]\n",
      "Accuracy of prediction: 0.84\n",
      " \n",
      "accuracy_score:  0.8403230376877302\n"
     ]
    }
   ],
   "source": [
    "#checking lgbmclassifier\n",
    "# Train model\n",
    "model = LGBMClassifier(boosting_type='gbdt', objective='binary', class_weight=None, colsample_bytree=1.0,\n",
    "                        importance_type='split', learning_rate=0.1, max_depth=30,\n",
    "                        min_child_samples=20, min_child_weight=0.001, min_split_gain=0,\n",
    "                        n_estimators=100, n_jobs=-1, num_leaves=70, metric ='auc',\n",
    "                        random_state=123, reg_alpha=0.1, reg_lambda=0.5, silent=True,\n",
    "                        subsample=1.0, subsample_for_bin=200000, subsample_freq=0)\n",
    "\n",
    "model.fit(X_train, y_train)\n",
    "\n",
    "# Make predictions\n",
    "y_pred = model.predict(X_test)\n",
    "\n",
    "# Check the accuracy score of the model\n",
    "#accuracy_score(y_pred,y_test)\n",
    "from sklearn.metrics import classification_report,confusion_matrix\n",
    "# classification report\n",
    "print('classification report:')\n",
    "print(' ')\n",
    "print(classification_report(y_test,y_pred))\n",
    "# confusion matrix\n",
    "print('confusion matrix:')\n",
    "print(' ')\n",
    "cm=confusion_matrix(y_test,y_pred)\n",
    "print(cm)\n",
    "print (\"Accuracy of prediction:\",round((cm[0,0]+cm[1,1])/cm.sum(),3))\n",
    "print(' ')\n",
    "print('accuracy_score: ',accuracy_score(y_pred,y_test))"
   ]
  },
  {
   "cell_type": "code",
   "execution_count": 29,
   "metadata": {},
   "outputs": [
    {
     "name": "stdout",
     "output_type": "stream",
     "text": [
      "classification report:\n",
      " \n",
      "              precision    recall  f1-score   support\n",
      "\n",
      "         0.0       0.93      0.89      0.91      6073\n",
      "         1.0       0.46      0.59      0.52       985\n",
      "\n",
      "    accuracy                           0.85      7058\n",
      "   macro avg       0.70      0.74      0.71      7058\n",
      "weighted avg       0.87      0.85      0.85      7058\n",
      "\n",
      "confusion matrix:\n",
      " \n",
      "[[5404  669]\n",
      " [ 406  579]]\n",
      "Accuracy of prediction: 0.848\n",
      " \n",
      "accuracy_score:  0.8476905638991216\n"
     ]
    }
   ],
   "source": [
    "#checking logistic regression\n",
    "from sklearn.linear_model import LogisticRegression\n",
    "lr_clf = LogisticRegression(C=100, penalty= 'l2', solver= 'liblinear')\n",
    "\n",
    "# C=1.94, class_weight=None, dual=False, fit_intercept=True,\n",
    "#                             intercept_scaling=1, l1_ratio=None, max_iter=100,\n",
    "#                             multi_class='auto', n_jobs=-1, penalty='l2',\n",
    "#                             random_state=123, solver='lbfgs', tol=0.0001, verbose=0,\n",
    "#                             warm_start=False\n",
    "\n",
    "lr_clf.fit(X_train, y_train)\n",
    "\n",
    "# Make predictions\n",
    "y_pred = lr_clf.predict(X_test)\n",
    "\n",
    "# Check the accuracy score of the model\n",
    "#accuracy_score(y_pred,y_test)\n",
    "from sklearn.metrics import classification_report,confusion_matrix\n",
    "# classification report\n",
    "print('classification report:')\n",
    "print(' ')\n",
    "print(classification_report(y_test,y_pred))\n",
    "# confusion matrix\n",
    "print('confusion matrix:')\n",
    "print(' ')\n",
    "cm=confusion_matrix(y_test,y_pred)\n",
    "print(cm)\n",
    "print (\"Accuracy of prediction:\",round((cm[0,0]+cm[1,1])/cm.sum(),3))\n",
    "print(' ')\n",
    "print('accuracy_score: ',accuracy_score(y_pred,y_test))"
   ]
  },
  {
   "cell_type": "code",
   "execution_count": 30,
   "metadata": {},
   "outputs": [
    {
     "name": "stdout",
     "output_type": "stream",
     "text": [
      "classification report:\n",
      " \n",
      "              precision    recall  f1-score   support\n",
      "\n",
      "         0.0       0.86      1.00      0.93      6073\n",
      "         1.0       0.74      0.02      0.04       985\n",
      "\n",
      "    accuracy                           0.86      7058\n",
      "   macro avg       0.80      0.51      0.48      7058\n",
      "weighted avg       0.85      0.86      0.80      7058\n",
      "\n",
      "confusion matrix:\n",
      " \n",
      "[[6066    7]\n",
      " [ 965   20]]\n",
      "Accuracy of prediction: 0.862\n",
      " \n",
      "accuracy_score:  0.8622839331255313\n"
     ]
    }
   ],
   "source": [
    "# checking naive bayes\n",
    "\n",
    "from sklearn.naive_bayes import GaussianNB\n",
    "nb_clf= GaussianNB()\n",
    "nb_clf.fit(X_train, y_train)\n",
    "           \n",
    "# Make predictions\n",
    "y_pred = nb_clf.predict(X_test)\n",
    "\n",
    "# Check the accuracy score of the model\n",
    "#accuracy_score(y_pred,y_test)\n",
    "from sklearn.metrics import classification_report,confusion_matrix\n",
    "# classification report\n",
    "print('classification report:')\n",
    "print(' ')\n",
    "print(classification_report(y_test,y_pred))\n",
    "# confusion matrix\n",
    "print('confusion matrix:')\n",
    "print(' ')\n",
    "cm=confusion_matrix(y_test,y_pred)\n",
    "print(cm)\n",
    "print (\"Accuracy of prediction:\",round((cm[0,0]+cm[1,1])/cm.sum(),3))\n",
    "print(' ')\n",
    "print('accuracy_score: ',accuracy_score(y_pred,y_test))"
   ]
  },
  {
   "cell_type": "code",
   "execution_count": 31,
   "metadata": {},
   "outputs": [
    {
     "name": "stdout",
     "output_type": "stream",
     "text": [
      "classification report:\n",
      " \n",
      "              precision    recall  f1-score   support\n",
      "\n",
      "         0.0       0.93      0.89      0.91      6073\n",
      "         1.0       0.45      0.56      0.50       985\n",
      "\n",
      "    accuracy                           0.84      7058\n",
      "   macro avg       0.69      0.72      0.70      7058\n",
      "weighted avg       0.86      0.84      0.85      7058\n",
      "\n",
      "confusion matrix:\n",
      " \n",
      "[[5392  681]\n",
      " [ 433  552]]\n",
      "Accuracy of prediction: 0.842\n",
      " \n",
      "accuracy_score:  0.842164919240578\n"
     ]
    }
   ],
   "source": [
    "#checking randomforestclassifier\n",
    "\n",
    "from sklearn.ensemble import RandomForestClassifier\n",
    "rf_clf = RandomForestClassifier(bootstrap=False, criterion='entropy', max_depth=23,\n",
    "                               min_samples_split=5, n_estimators=103, n_jobs=-1,\n",
    "                               random_state=123)\n",
    "    \n",
    "\n",
    "\n",
    "#RandomForestClassifier(bootstrap=False, ccp_alpha=0.0, class_weight=None,\n",
    "#criterion='entropy', max_depth=20, max_features='auto',\n",
    "#max_leaf_nodes=None, max_samples=None,\n",
    "#min_impurity_decrease=0.0, min_impurity_split=None,\n",
    "#min_samples_leaf=2, min_samples_split=7,\n",
    "#min_weight_fraction_leaf=0.0, n_estimators=80, n_jobs=-1,\n",
    "#oob_score=False, random_state=123, verbose=0,\n",
    "#warm_start=False)\n",
    "\n",
    "rf_clf.fit(X_train, y_train)\n",
    "#'n_estimators': 50, 'min_samples_split': 2, 'min_samples_leaf': 1, 'max_depth': 25\n",
    "# Make predictions\n",
    "y_pred = rf_clf.predict(X_test)\n",
    "\n",
    "# Check the accuracy score of the model\n",
    "#accuracy_score(y_pred,y_test)\n",
    "from sklearn.metrics import classification_report,confusion_matrix\n",
    "# classification report\n",
    "print('classification report:')\n",
    "print(' ')\n",
    "print(classification_report(y_test,y_pred))\n",
    "# confusion matrix\n",
    "print('confusion matrix:')\n",
    "print(' ')\n",
    "cm=confusion_matrix(y_test,y_pred)\n",
    "print(cm)\n",
    "print (\"Accuracy of prediction:\",round((cm[0,0]+cm[1,1])/cm.sum(),3))\n",
    "print(' ')\n",
    "print('accuracy_score: ',accuracy_score(y_pred,y_test))"
   ]
  },
  {
   "cell_type": "code",
   "execution_count": 37,
   "metadata": {},
   "outputs": [
    {
     "name": "stdout",
     "output_type": "stream",
     "text": [
      "classification report:\n",
      " \n",
      "              precision    recall  f1-score   support\n",
      "\n",
      "         0.0       0.91      0.94      0.92      6073\n",
      "         1.0       0.53      0.43      0.47       985\n",
      "\n",
      "    accuracy                           0.87      7058\n",
      "   macro avg       0.72      0.68      0.70      7058\n",
      "weighted avg       0.86      0.87      0.86      7058\n",
      "\n",
      "confusion matrix:\n",
      " \n",
      "[[5698  375]\n",
      " [ 563  422]]\n",
      "Accuracy of prediction: 0.867\n",
      " \n",
      "accuracy_score:  0.8671011618022103\n"
     ]
    }
   ],
   "source": [
    "# checking logistic plus random forest\n",
    "\n",
    "from sklearn.pipeline import Pipeline\n",
    "from sklearn.svm import SVC\n",
    "from sklearn.ensemble import VotingClassifier\n",
    "\n",
    "\n",
    "\n",
    "voting_clf3 = VotingClassifier(\n",
    " estimators=[('lr', lr_clf),('rf', rf_clf)],\n",
    " voting='hard')\n",
    "voting_clf3.fit(X_train, y_train)\n",
    "\n",
    "# Make predictions\n",
    "y_pred = voting_clf3.predict(X_test)\n",
    "\n",
    "# Check the accuracy score of the model\n",
    "#accuracy_score(y_pred,y_test)\n",
    "from sklearn.metrics import classification_report,confusion_matrix\n",
    "# classification report\n",
    "print('classification report:')\n",
    "print(' ')\n",
    "print(classification_report(y_test,y_pred))\n",
    "# confusion matrix\n",
    "print('confusion matrix:')\n",
    "print(' ')\n",
    "cm=confusion_matrix(y_test,y_pred)\n",
    "print(cm)\n",
    "print (\"Accuracy of prediction:\",round((cm[0,0]+cm[1,1])/cm.sum(),3))\n",
    "print(' ')\n",
    "print('accuracy_score: ',accuracy_score(y_pred,y_test))"
   ]
  },
  {
   "cell_type": "code",
   "execution_count": 40,
   "metadata": {},
   "outputs": [
    {
     "name": "stdout",
     "output_type": "stream",
     "text": [
      "classification report:\n",
      " \n",
      "              precision    recall  f1-score   support\n",
      "\n",
      "         0.0       0.86      1.00      0.92      6073\n",
      "         1.0       0.00      0.00      0.00       985\n",
      "\n",
      "    accuracy                           0.86      7058\n",
      "   macro avg       0.43      0.50      0.46      7058\n",
      "weighted avg       0.74      0.86      0.80      7058\n",
      "\n",
      "confusion matrix:\n",
      " \n",
      "[[6073    0]\n",
      " [ 985    0]]\n",
      "Accuracy of prediction: 0.86\n",
      " \n",
      "accuracy_score:  0.8604420515726835\n"
     ]
    }
   ],
   "source": [
    "# logistic plus catboost\n",
    "voting_clf4 = VotingClassifier(\n",
    " estimators=[('ridge', rig_clf), ('rf', rf_clf)],\n",
    " voting='hard'\n",
    ")\n",
    "voting_clf4.fit(X_train, y_train)\n",
    "\n",
    "# Make predictions\n",
    "y_pred = voting_clf4.predict(X_test)\n",
    "\n",
    "# Check the accuracy score of the model\n",
    "#accuracy_score(y_pred,y_test)\n",
    "from sklearn.metrics import classification_report,confusion_matrix\n",
    "# classification report\n",
    "print('classification report:')\n",
    "print(' ')\n",
    "print(classification_report(y_test,y_pred))\n",
    "# confusion matrix\n",
    "print('confusion matrix:')\n",
    "print(' ')\n",
    "cm=confusion_matrix(y_test,y_pred)\n",
    "print(cm)\n",
    "print (\"Accuracy of prediction:\",round((cm[0,0]+cm[1,1])/cm.sum(),3))\n",
    "print(' ')\n",
    "print('accuracy_score: ',accuracy_score(y_pred,y_test))"
   ]
  },
  {
   "cell_type": "code",
   "execution_count": 39,
   "metadata": {},
   "outputs": [
    {
     "name": "stdout",
     "output_type": "stream",
     "text": [
      "classification report:\n",
      " \n",
      "              precision    recall  f1-score   support\n",
      "\n",
      "         0.0       0.91      0.93      0.92      6073\n",
      "         1.0       0.53      0.46      0.50       985\n",
      "\n",
      "    accuracy                           0.87      7058\n",
      "   macro avg       0.72      0.70      0.71      7058\n",
      "weighted avg       0.86      0.87      0.86      7058\n",
      "\n",
      "confusion matrix:\n",
      " \n",
      "[[5675  398]\n",
      " [ 528  457]]\n",
      "Accuracy of prediction: 0.869\n",
      " \n",
      "accuracy_score:  0.8688013601586851\n"
     ]
    }
   ],
   "source": [
    "# logistic plus lgbmclassifier\n",
    "voting_clf4 = VotingClassifier(\n",
    " estimators=[('lr', lr_clf), ('lgbm', model)],\n",
    " voting='hard'\n",
    ")\n",
    "voting_clf4.fit(X_train, y_train)\n",
    "\n",
    "# Make predictions\n",
    "y_pred = voting_clf4.predict(X_test)\n",
    "\n",
    "# Check the accuracy score of the model\n",
    "#accuracy_score(y_pred,y_test)\n",
    "from sklearn.metrics import classification_report,confusion_matrix\n",
    "# classification report\n",
    "print('classification report:')\n",
    "print(' ')\n",
    "print(classification_report(y_test,y_pred))\n",
    "# confusion matrix\n",
    "print('confusion matrix:')\n",
    "print(' ')\n",
    "cm=confusion_matrix(y_test,y_pred)\n",
    "print(cm)\n",
    "print (\"Accuracy of prediction:\",round((cm[0,0]+cm[1,1])/cm.sum(),3))\n",
    "print(' ')\n",
    "print('accuracy_score: ',accuracy_score(y_pred,y_test))"
   ]
  },
  {
   "cell_type": "code",
   "execution_count": 40,
   "metadata": {},
   "outputs": [
    {
     "data": {
      "text/plain": [
       "location_type_Urban                         558\n",
       "gender_of_respondent_Male                   392\n",
       "household_size_medium                       378\n",
       "age_of_respondent_youth                     354\n",
       "household_size_small                        302\n",
       "year_2018                                   296\n",
       "education_level_Secondary education         289\n",
       "marital_status_Married/Living together      268\n",
       "job_type_Informally employed                261\n",
       "country_Uganda                              256\n",
       "education_level_below_secondary             249\n",
       "marital_status_Single/Never Married         246\n",
       "relationship_with_head_Head of Household    245\n",
       "job_type_Self employed                      245\n",
       "age_of_respondent_old                       227\n",
       "job_type_Remittance Dependent               226\n",
       "cellphone_access_Yes                        208\n",
       "job_type_Farming and Fishing                201\n",
       "job_type_Formally employed Private          199\n",
       "country_Rwanda                              193\n",
       "marital_status_Widowed                      187\n",
       "job_type_Other Income                       186\n",
       "country_Tanzania                            185\n",
       "relationship_with_head_other                152\n",
       "job_type_Formally employed Government       141\n",
       "relationship_with_head_Spouse               139\n",
       "job_type_No Income                          108\n",
       "relationship_with_head_Parent               107\n",
       "job_type_Government Dependent               102\n",
       "year_2017                                     0\n",
       "dtype: int32"
      ]
     },
     "execution_count": 40,
     "metadata": {},
     "output_type": "execute_result"
    }
   ],
   "source": [
    "# view the feature scores for randomforest\n",
    "\n",
    "feature_scores = pd.Series(model.feature_importances_, index=X_train.columns).sort_values(ascending=False)\n",
    "\n",
    "feature_scores"
   ]
  },
  {
   "cell_type": "code",
   "execution_count": 42,
   "metadata": {},
   "outputs": [
    {
     "data": {
      "image/png": "[encoded data removed]",
      "text/plain": [
       "<Figure size 720x1080 with 1 Axes>"
      ]
     },
     "metadata": {
      "needs_background": "light"
     },
     "output_type": "display_data"
    }
   ],
   "source": [
    "# Creating a seaborn bar plot\n",
    "plt.figure(figsize=(10,15))\n",
    "sns.barplot(x=feature_scores, y=feature_scores.index)\n",
    "\n",
    "\n",
    "\n",
    "# Add labels to the graph\n",
    "\n",
    "plt.xlabel('Feature Importance Score')\n",
    "\n",
    "plt.ylabel('Features')\n",
    "\n",
    "\n",
    "\n",
    "# Add title to the graph\n",
    "\n",
    "plt.title(\"Visualizing Important Features\")\n",
    "\n",
    "\n",
    "\n",
    "# Visualize the graph\n",
    "\n",
    "plt.show()"
   ]
  },
  {
   "cell_type": "code",
   "execution_count": null,
   "metadata": {},
   "outputs": [],
   "source": []
  },
  {
   "cell_type": "markdown",
   "metadata": {
    "id": "k_LHEtrph7Kk"
   },
   "source": [
    "### Making predictions of the test set and creating a submission file"
   ]
  },
  {
   "cell_type": "code",
   "execution_count": null,
   "metadata": {},
   "outputs": [],
   "source": []
  },
  {
   "cell_type": "code",
   "execution_count": 19,
   "metadata": {
    "colab": {
     "base_uri": "https://localhost:8080/",
     "height": 265
    },
    "id": "OP8EX6NZfSCP",
    "outputId": "7c289186-08b5-48f0-e92a-a1c32b711a09"
   },
   "outputs": [
    {
     "data": {
      "image/png": "[encoded data removed]",
      "text/plain": [
       "<Figure size 432x288 with 1 Axes>"
      ]
     },
     "metadata": {
      "needs_background": "light"
     },
     "output_type": "display_data"
    }
   ],
   "source": [
    "# Make prediction on the test set\n",
    "test_df = test_df[main_cols]\n",
    "predictions = model.predict(test_df)\n",
    "\n",
    "# Create a submission file\n",
    "sub_file = ss.copy()\n",
    "sub_file.predictions = predictions\n",
    "\n",
    "# Check the distribution of your predictions\n",
    "sns.countplot(sub_file.predictions);"
   ]
  },
  {
   "cell_type": "code",
   "execution_count": 20,
   "metadata": {
    "id": "sm_jTS4022y-"
   },
   "outputs": [],
   "source": [
    "# Create a csv file and upload to zindi \n",
    "sub_file.to_csv('Baseline.csv', index = False)"
   ]
  },
  {
   "cell_type": "code",
   "execution_count": 21,
   "metadata": {
    "colab": {
     "base_uri": "https://localhost:8080/",
     "height": 17
    },
    "id": "ddekS_0OM1NY",
    "outputId": "24cf72e3-1f22-42ce-fb3d-8096cb869329"
   },
   "outputs": [
    {
     "data": {
      "application/javascript": [
       "\n",
       "    async function download(id, filename, size) {\n",
       "      if (!google.colab.kernel.accessAllowed) {\n",
       "        return;\n",
       "      }\n",
       "      const div = document.createElement('div');\n",
       "      const label = document.createElement('label');\n",
       "      label.textContent = `Downloading \"${filename}\": `;\n",
       "      div.appendChild(label);\n",
       "      const progress = document.createElement('progress');\n",
       "      progress.max = size;\n",
       "      div.appendChild(progress);\n",
       "      document.body.appendChild(div);\n",
       "\n",
       "      const buffers = [];\n",
       "      let downloaded = 0;\n",
       "\n",
       "      const channel = await google.colab.kernel.comms.open(id);\n",
       "      // Send a message to notify the kernel that we're ready.\n",
       "      channel.send({})\n",
       "\n",
       "      for await (const message of channel.messages) {\n",
       "        // Send a message to notify the kernel that we're ready.\n",
       "        channel.send({})\n",
       "        if (message.buffers) {\n",
       "          for (const buffer of message.buffers) {\n",
       "            buffers.push(buffer);\n",
       "            downloaded += buffer.byteLength;\n",
       "            progress.value = downloaded;\n",
       "          }\n",
       "        }\n",
       "      }\n",
       "      const blob = new Blob(buffers, {type: 'application/binary'});\n",
       "      const a = document.createElement('a');\n",
       "      a.href = window.URL.createObjectURL(blob);\n",
       "      a.download = filename;\n",
       "      div.appendChild(a);\n",
       "      a.click();\n",
       "      div.remove();\n",
       "    }\n",
       "  "
      ],
      "text/plain": [
       "<IPython.core.display.Javascript object>"
      ]
     },
     "metadata": {},
     "output_type": "display_data"
    },
    {
     "data": {
      "application/javascript": [
       "download(\"download_aae084fa-9761-4224-82bc-58948ba48c1e\", \"Baseline.csv\", 848575)"
      ],
      "text/plain": [
       "<IPython.core.display.Javascript object>"
      ]
     },
     "metadata": {},
     "output_type": "display_data"
    }
   ],
   "source": [
    "files.download('Baseline.csv') "
   ]
  },
  {
   "cell_type": "markdown",
   "metadata": {
    "id": "ttQqWBi722zE"
   },
   "source": [
    "###More Tips\n",
    "- Thorough EDA and domain knowledge sourcing\n",
    "- Re-group Categorical features \n",
    "- More Feature Engineering \n",
    "- Dataset balancing - oversampling, undersampling, SMOTE...\n",
    "- Ensembling of models \n",
    "- Cross-validation: Group folds, Stratified..."
   ]
  },
  {
   "cell_type": "markdown",
   "metadata": {
    "id": "uXftXbo622zF"
   },
   "source": [
    "# ******************* GOOD LUCK!!! ***************************"
   ]
  }
 ],
 "metadata": {
  "colab": {
   "collapsed_sections": [],
   "name": "StarterNotebook.ipynb",
   "provenance": []
  },
  "kernelspec": {
   "display_name": "Python 3",
   "language": "python",
   "name": "python3"
  },
  "language_info": {
   "codemirror_mode": {
    "name": "ipython",
    "version": 3
   },
   "file_extension": ".py",
   "mimetype": "text/x-python",
   "name": "python",
   "nbconvert_exporter": "python",
   "pygments_lexer": "ipython3",
   "version": "3.8.8"
  }
 },
 "nbformat": 4,
 "nbformat_minor": 1
}
