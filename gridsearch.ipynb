{
 "cells": [
  {
   "cell_type": "markdown",
   "metadata": {
    "id": "48S6RVt_jXwp"
   },
   "source": [
    "# Financial Inclusion in Africa Starter Notebook\n",
    "\n",
    "\n",
    "This is a simple starter notebook to get started with the Machine Learning for Financial Inclusion by University of Eswatini on Zindi.\n",
    "\n",
    "This notebook covers:\n",
    "- Loading the data\n",
    "- Simple EDA and an example of feature enginnering\n",
    "- Data preprocessing and data wrangling\n",
    "- Creating a simple model\n",
    "- Making a submission\n",
    "- Some tips for improving your score"
   ]
  },
  {
   "cell_type": "markdown",
   "metadata": {
    "id": "HdPjBTFdkI7t"
   },
   "source": [
    "### Importing libraries"
   ]
  },
  {
   "cell_type": "code",
   "execution_count": 2,
   "metadata": {
    "id": "8IWFJK2h22yc"
   },
   "outputs": [],
   "source": [
    "# dataframe and plotting\n",
    "import pandas as pd\n",
    "import numpy as np\n",
    "import seaborn as sns\n",
    "import matplotlib.pyplot as plt\n",
    "\n",
    "# machine learning\n",
    "from lightgbm import LGBMClassifier\n",
    "from sklearn.model_selection import train_test_split\n",
    "from sklearn.metrics import accuracy_score\n",
    "\n",
    "#from google.colab import files\n",
    "#import warnings\n",
    "#warnings.filterwarnings('ignore')"
   ]
  },
  {
   "cell_type": "code",
   "execution_count": 3,
   "metadata": {},
   "outputs": [],
   "source": [
    "#from sklearn.pipeline import FeatureUnion\n",
    "#from sklearn.preprocessing import OneHotEncoder\n",
    "#from sklearn.decomposition import TruncatedSVD\n",
    "from sklearn.ensemble import RandomForestClassifier\n",
    "#from sklearn.pipeline import Pipeline"
   ]
  },
  {
   "cell_type": "code",
   "execution_count": 4,
   "metadata": {},
   "outputs": [],
   "source": [
    "from sklearn.model_selection import GridSearchCV"
   ]
  },
  {
   "cell_type": "code",
   "execution_count": 107,
   "metadata": {},
   "outputs": [],
   "source": [
    "#from sklearn.linear_model import LogisticRegression"
   ]
  },
  {
   "cell_type": "markdown",
   "metadata": {
    "id": "9SyQadB9iY8R"
   },
   "source": [
    "### Read files"
   ]
  },
  {
   "cell_type": "code",
   "execution_count": 5,
   "metadata": {
    "id": "MQCvC_XjDzyH"
   },
   "outputs": [],
   "source": [
    "# Load files into a pandas dataframe\n",
    "train = pd.read_csv('Train.csv')\n",
    "test = pd.read_csv('Test.csv')\n",
    "ss = pd.read_csv('SampleSubmission.csv')\n",
    "variables = pd.read_csv('VariableDefinitions.csv')"
   ]
  },
  {
   "cell_type": "markdown",
   "metadata": {
    "id": "MCP0H7tSicUU"
   },
   "source": [
    "### Some basic EDA"
   ]
  },
  {
   "cell_type": "code",
   "execution_count": 6,
   "metadata": {
    "colab": {
     "base_uri": "https://localhost:8080/",
     "height": 421
    },
    "id": "8D-b3rTKAbmq",
    "outputId": "d8853b2d-c57d-4f79-ac0e-8fd9d5450a1c"
   },
   "outputs": [
    {
     "data": {
      "text/html": [
       "<div>\n",
       "<style scoped>\n",
       "    .dataframe tbody tr th:only-of-type {\n",
       "        vertical-align: middle;\n",
       "    }\n",
       "\n",
       "    .dataframe tbody tr th {\n",
       "        vertical-align: top;\n",
       "    }\n",
       "\n",
       "    .dataframe thead th {\n",
       "        text-align: right;\n",
       "    }\n",
       "</style>\n",
       "<table border=\"1\" class=\"dataframe\">\n",
       "  <thead>\n",
       "    <tr style=\"text-align: right;\">\n",
       "      <th></th>\n",
       "      <th>Variable Definitions</th>\n",
       "      <th>Unnamed: 1</th>\n",
       "    </tr>\n",
       "  </thead>\n",
       "  <tbody>\n",
       "    <tr>\n",
       "      <th>0</th>\n",
       "      <td>country</td>\n",
       "      <td>Country interviewee is in.</td>\n",
       "    </tr>\n",
       "    <tr>\n",
       "      <th>1</th>\n",
       "      <td>year</td>\n",
       "      <td>Year survey was done in.</td>\n",
       "    </tr>\n",
       "    <tr>\n",
       "      <th>2</th>\n",
       "      <td>uniqueid</td>\n",
       "      <td>Unique identifier for each interviewee</td>\n",
       "    </tr>\n",
       "    <tr>\n",
       "      <th>3</th>\n",
       "      <td>location_type</td>\n",
       "      <td>Type of location: Rural, Urban</td>\n",
       "    </tr>\n",
       "    <tr>\n",
       "      <th>4</th>\n",
       "      <td>cellphone_access</td>\n",
       "      <td>If interviewee has access to a cellphone: Yes, No</td>\n",
       "    </tr>\n",
       "    <tr>\n",
       "      <th>5</th>\n",
       "      <td>household_size</td>\n",
       "      <td>Number of people living in one house</td>\n",
       "    </tr>\n",
       "    <tr>\n",
       "      <th>6</th>\n",
       "      <td>age_of_respondent</td>\n",
       "      <td>The age of the interviewee</td>\n",
       "    </tr>\n",
       "    <tr>\n",
       "      <th>7</th>\n",
       "      <td>gender_of_respondent</td>\n",
       "      <td>Gender of interviewee: Male, Female</td>\n",
       "    </tr>\n",
       "    <tr>\n",
       "      <th>8</th>\n",
       "      <td>relationship_with_head</td>\n",
       "      <td>The interviewee’s relationship with the head o...</td>\n",
       "    </tr>\n",
       "    <tr>\n",
       "      <th>9</th>\n",
       "      <td>marital_status</td>\n",
       "      <td>The martial status of the interviewee: Married...</td>\n",
       "    </tr>\n",
       "    <tr>\n",
       "      <th>10</th>\n",
       "      <td>education_level</td>\n",
       "      <td>Highest level of education: No formal educatio...</td>\n",
       "    </tr>\n",
       "    <tr>\n",
       "      <th>11</th>\n",
       "      <td>job_type</td>\n",
       "      <td>Type of job interviewee has: Farming and Fishi...</td>\n",
       "    </tr>\n",
       "  </tbody>\n",
       "</table>\n",
       "</div>"
      ],
      "text/plain": [
       "      Variable Definitions                                         Unnamed: 1\n",
       "0                  country                         Country interviewee is in.\n",
       "1                     year                           Year survey was done in.\n",
       "2                 uniqueid             Unique identifier for each interviewee\n",
       "3            location_type                     Type of location: Rural, Urban\n",
       "4         cellphone_access  If interviewee has access to a cellphone: Yes, No\n",
       "5           household_size               Number of people living in one house\n",
       "6        age_of_respondent                         The age of the interviewee\n",
       "7     gender_of_respondent                Gender of interviewee: Male, Female\n",
       "8   relationship_with_head  The interviewee’s relationship with the head o...\n",
       "9           marital_status  The martial status of the interviewee: Married...\n",
       "10         education_level  Highest level of education: No formal educatio...\n",
       "11                job_type  Type of job interviewee has: Farming and Fishi..."
      ]
     },
     "execution_count": 6,
     "metadata": {},
     "output_type": "execute_result"
    }
   ],
   "source": [
    "# Let's view the variables\n",
    "variables"
   ]
  },
  {
   "cell_type": "code",
   "execution_count": 5,
   "metadata": {
    "colab": {
     "base_uri": "https://localhost:8080/",
     "height": 326
    },
    "id": "Mcqp5mXG22ye",
    "outputId": "6cfd6bc2-5cb4-4e9b-fc7c-ef2e506dd04f"
   },
   "outputs": [
    {
     "data": {
      "text/html": [
       "<div>\n",
       "<style scoped>\n",
       "    .dataframe tbody tr th:only-of-type {\n",
       "        vertical-align: middle;\n",
       "    }\n",
       "\n",
       "    .dataframe tbody tr th {\n",
       "        vertical-align: top;\n",
       "    }\n",
       "\n",
       "    .dataframe thead th {\n",
       "        text-align: right;\n",
       "    }\n",
       "</style>\n",
       "<table border=\"1\" class=\"dataframe\">\n",
       "  <thead>\n",
       "    <tr style=\"text-align: right;\">\n",
       "      <th></th>\n",
       "      <th>country</th>\n",
       "      <th>year</th>\n",
       "      <th>uniqueid</th>\n",
       "      <th>bank_account</th>\n",
       "      <th>location_type</th>\n",
       "      <th>cellphone_access</th>\n",
       "      <th>household_size</th>\n",
       "      <th>age_of_respondent</th>\n",
       "      <th>gender_of_respondent</th>\n",
       "      <th>relationship_with_head</th>\n",
       "      <th>marital_status</th>\n",
       "      <th>education_level</th>\n",
       "      <th>job_type</th>\n",
       "    </tr>\n",
       "  </thead>\n",
       "  <tbody>\n",
       "    <tr>\n",
       "      <th>0</th>\n",
       "      <td>Kenya</td>\n",
       "      <td>2018</td>\n",
       "      <td>uniqueid_1</td>\n",
       "      <td>Yes</td>\n",
       "      <td>Rural</td>\n",
       "      <td>Yes</td>\n",
       "      <td>3</td>\n",
       "      <td>24</td>\n",
       "      <td>Female</td>\n",
       "      <td>Spouse</td>\n",
       "      <td>Married/Living together</td>\n",
       "      <td>Secondary education</td>\n",
       "      <td>Self employed</td>\n",
       "    </tr>\n",
       "    <tr>\n",
       "      <th>1</th>\n",
       "      <td>Kenya</td>\n",
       "      <td>2018</td>\n",
       "      <td>uniqueid_2</td>\n",
       "      <td>No</td>\n",
       "      <td>Rural</td>\n",
       "      <td>No</td>\n",
       "      <td>5</td>\n",
       "      <td>70</td>\n",
       "      <td>Female</td>\n",
       "      <td>Head of Household</td>\n",
       "      <td>Widowed</td>\n",
       "      <td>No formal education</td>\n",
       "      <td>Government Dependent</td>\n",
       "    </tr>\n",
       "    <tr>\n",
       "      <th>2</th>\n",
       "      <td>Kenya</td>\n",
       "      <td>2018</td>\n",
       "      <td>uniqueid_3</td>\n",
       "      <td>Yes</td>\n",
       "      <td>Urban</td>\n",
       "      <td>Yes</td>\n",
       "      <td>5</td>\n",
       "      <td>26</td>\n",
       "      <td>Male</td>\n",
       "      <td>Other relative</td>\n",
       "      <td>Single/Never Married</td>\n",
       "      <td>Vocational/Specialised training</td>\n",
       "      <td>Self employed</td>\n",
       "    </tr>\n",
       "    <tr>\n",
       "      <th>3</th>\n",
       "      <td>Kenya</td>\n",
       "      <td>2018</td>\n",
       "      <td>uniqueid_4</td>\n",
       "      <td>No</td>\n",
       "      <td>Rural</td>\n",
       "      <td>Yes</td>\n",
       "      <td>5</td>\n",
       "      <td>34</td>\n",
       "      <td>Female</td>\n",
       "      <td>Head of Household</td>\n",
       "      <td>Married/Living together</td>\n",
       "      <td>Primary education</td>\n",
       "      <td>Formally employed Private</td>\n",
       "    </tr>\n",
       "    <tr>\n",
       "      <th>4</th>\n",
       "      <td>Kenya</td>\n",
       "      <td>2018</td>\n",
       "      <td>uniqueid_5</td>\n",
       "      <td>No</td>\n",
       "      <td>Urban</td>\n",
       "      <td>No</td>\n",
       "      <td>8</td>\n",
       "      <td>26</td>\n",
       "      <td>Male</td>\n",
       "      <td>Child</td>\n",
       "      <td>Single/Never Married</td>\n",
       "      <td>Primary education</td>\n",
       "      <td>Informally employed</td>\n",
       "    </tr>\n",
       "  </tbody>\n",
       "</table>\n",
       "</div>"
      ],
      "text/plain": [
       "  country  year    uniqueid bank_account location_type cellphone_access  \\\n",
       "0   Kenya  2018  uniqueid_1          Yes         Rural              Yes   \n",
       "1   Kenya  2018  uniqueid_2           No         Rural               No   \n",
       "2   Kenya  2018  uniqueid_3          Yes         Urban              Yes   \n",
       "3   Kenya  2018  uniqueid_4           No         Rural              Yes   \n",
       "4   Kenya  2018  uniqueid_5           No         Urban               No   \n",
       "\n",
       "   household_size  age_of_respondent gender_of_respondent  \\\n",
       "0               3                 24               Female   \n",
       "1               5                 70               Female   \n",
       "2               5                 26                 Male   \n",
       "3               5                 34               Female   \n",
       "4               8                 26                 Male   \n",
       "\n",
       "  relationship_with_head           marital_status  \\\n",
       "0                 Spouse  Married/Living together   \n",
       "1      Head of Household                  Widowed   \n",
       "2         Other relative     Single/Never Married   \n",
       "3      Head of Household  Married/Living together   \n",
       "4                  Child     Single/Never Married   \n",
       "\n",
       "                   education_level                   job_type  \n",
       "0              Secondary education              Self employed  \n",
       "1              No formal education       Government Dependent  \n",
       "2  Vocational/Specialised training              Self employed  \n",
       "3                Primary education  Formally employed Private  \n",
       "4                Primary education        Informally employed  "
      ]
     },
     "execution_count": 5,
     "metadata": {},
     "output_type": "execute_result"
    }
   ],
   "source": [
    "# Preview the first five rows of the train set\n",
    "train.head()"
   ]
  },
  {
   "cell_type": "code",
   "execution_count": 7,
   "metadata": {
    "colab": {
     "base_uri": "https://localhost:8080/",
     "height": 343
    },
    "id": "XADqPrMo22yf",
    "outputId": "d9f3eb20-8898-4b2c-fdb5-e72bd56dc9cb"
   },
   "outputs": [
    {
     "data": {
      "text/html": [
       "<div>\n",
       "<style scoped>\n",
       "    .dataframe tbody tr th:only-of-type {\n",
       "        vertical-align: middle;\n",
       "    }\n",
       "\n",
       "    .dataframe tbody tr th {\n",
       "        vertical-align: top;\n",
       "    }\n",
       "\n",
       "    .dataframe thead th {\n",
       "        text-align: right;\n",
       "    }\n",
       "</style>\n",
       "<table border=\"1\" class=\"dataframe\">\n",
       "  <thead>\n",
       "    <tr style=\"text-align: right;\">\n",
       "      <th></th>\n",
       "      <th>country</th>\n",
       "      <th>year</th>\n",
       "      <th>uniqueid</th>\n",
       "      <th>location_type</th>\n",
       "      <th>cellphone_access</th>\n",
       "      <th>household_size</th>\n",
       "      <th>age_of_respondent</th>\n",
       "      <th>gender_of_respondent</th>\n",
       "      <th>relationship_with_head</th>\n",
       "      <th>marital_status</th>\n",
       "      <th>education_level</th>\n",
       "      <th>job_type</th>\n",
       "    </tr>\n",
       "  </thead>\n",
       "  <tbody>\n",
       "    <tr>\n",
       "      <th>0</th>\n",
       "      <td>Kenya</td>\n",
       "      <td>2018</td>\n",
       "      <td>uniqueid_6056</td>\n",
       "      <td>Urban</td>\n",
       "      <td>Yes</td>\n",
       "      <td>3</td>\n",
       "      <td>30</td>\n",
       "      <td>Male</td>\n",
       "      <td>Head of Household</td>\n",
       "      <td>Married/Living together</td>\n",
       "      <td>Secondary education</td>\n",
       "      <td>Formally employed Government</td>\n",
       "    </tr>\n",
       "    <tr>\n",
       "      <th>1</th>\n",
       "      <td>Kenya</td>\n",
       "      <td>2018</td>\n",
       "      <td>uniqueid_6060</td>\n",
       "      <td>Urban</td>\n",
       "      <td>Yes</td>\n",
       "      <td>7</td>\n",
       "      <td>51</td>\n",
       "      <td>Male</td>\n",
       "      <td>Head of Household</td>\n",
       "      <td>Married/Living together</td>\n",
       "      <td>Vocational/Specialised training</td>\n",
       "      <td>Formally employed Private</td>\n",
       "    </tr>\n",
       "    <tr>\n",
       "      <th>2</th>\n",
       "      <td>Kenya</td>\n",
       "      <td>2018</td>\n",
       "      <td>uniqueid_6065</td>\n",
       "      <td>Rural</td>\n",
       "      <td>No</td>\n",
       "      <td>3</td>\n",
       "      <td>77</td>\n",
       "      <td>Female</td>\n",
       "      <td>Parent</td>\n",
       "      <td>Married/Living together</td>\n",
       "      <td>No formal education</td>\n",
       "      <td>Remittance Dependent</td>\n",
       "    </tr>\n",
       "    <tr>\n",
       "      <th>3</th>\n",
       "      <td>Kenya</td>\n",
       "      <td>2018</td>\n",
       "      <td>uniqueid_6072</td>\n",
       "      <td>Rural</td>\n",
       "      <td>No</td>\n",
       "      <td>6</td>\n",
       "      <td>39</td>\n",
       "      <td>Female</td>\n",
       "      <td>Head of Household</td>\n",
       "      <td>Married/Living together</td>\n",
       "      <td>Primary education</td>\n",
       "      <td>Remittance Dependent</td>\n",
       "    </tr>\n",
       "    <tr>\n",
       "      <th>4</th>\n",
       "      <td>Kenya</td>\n",
       "      <td>2018</td>\n",
       "      <td>uniqueid_6073</td>\n",
       "      <td>Urban</td>\n",
       "      <td>No</td>\n",
       "      <td>3</td>\n",
       "      <td>16</td>\n",
       "      <td>Male</td>\n",
       "      <td>Child</td>\n",
       "      <td>Single/Never Married</td>\n",
       "      <td>Secondary education</td>\n",
       "      <td>Remittance Dependent</td>\n",
       "    </tr>\n",
       "  </tbody>\n",
       "</table>\n",
       "</div>"
      ],
      "text/plain": [
       "  country  year       uniqueid location_type cellphone_access  household_size  \\\n",
       "0   Kenya  2018  uniqueid_6056         Urban              Yes               3   \n",
       "1   Kenya  2018  uniqueid_6060         Urban              Yes               7   \n",
       "2   Kenya  2018  uniqueid_6065         Rural               No               3   \n",
       "3   Kenya  2018  uniqueid_6072         Rural               No               6   \n",
       "4   Kenya  2018  uniqueid_6073         Urban               No               3   \n",
       "\n",
       "   age_of_respondent gender_of_respondent relationship_with_head  \\\n",
       "0                 30                 Male      Head of Household   \n",
       "1                 51                 Male      Head of Household   \n",
       "2                 77               Female                 Parent   \n",
       "3                 39               Female      Head of Household   \n",
       "4                 16                 Male                  Child   \n",
       "\n",
       "            marital_status                  education_level  \\\n",
       "0  Married/Living together              Secondary education   \n",
       "1  Married/Living together  Vocational/Specialised training   \n",
       "2  Married/Living together              No formal education   \n",
       "3  Married/Living together                Primary education   \n",
       "4     Single/Never Married              Secondary education   \n",
       "\n",
       "                       job_type  \n",
       "0  Formally employed Government  \n",
       "1     Formally employed Private  \n",
       "2          Remittance Dependent  \n",
       "3          Remittance Dependent  \n",
       "4          Remittance Dependent  "
      ]
     },
     "execution_count": 7,
     "metadata": {},
     "output_type": "execute_result"
    }
   ],
   "source": [
    "# Preview the first five rows of the test set\n",
    "test.head()"
   ]
  },
  {
   "cell_type": "code",
   "execution_count": 105,
   "metadata": {},
   "outputs": [
    {
     "data": {
      "text/plain": [
       "(23524, 13)"
      ]
     },
     "execution_count": 105,
     "metadata": {},
     "output_type": "execute_result"
    }
   ],
   "source": [
    "train.shape"
   ]
  },
  {
   "cell_type": "code",
   "execution_count": 8,
   "metadata": {
    "colab": {
     "base_uri": "https://localhost:8080/",
     "height": 204
    },
    "id": "iwZ0JOrk22yg",
    "outputId": "ab8f0000-542e-43a5-a831-937fc9b6b047"
   },
   "outputs": [
    {
     "data": {
      "text/html": [
       "<div>\n",
       "<style scoped>\n",
       "    .dataframe tbody tr th:only-of-type {\n",
       "        vertical-align: middle;\n",
       "    }\n",
       "\n",
       "    .dataframe tbody tr th {\n",
       "        vertical-align: top;\n",
       "    }\n",
       "\n",
       "    .dataframe thead th {\n",
       "        text-align: right;\n",
       "    }\n",
       "</style>\n",
       "<table border=\"1\" class=\"dataframe\">\n",
       "  <thead>\n",
       "    <tr style=\"text-align: right;\">\n",
       "      <th></th>\n",
       "      <th>unique_id</th>\n",
       "      <th>bank_account</th>\n",
       "    </tr>\n",
       "  </thead>\n",
       "  <tbody>\n",
       "    <tr>\n",
       "      <th>0</th>\n",
       "      <td>uniqueid_1 x Kenya</td>\n",
       "      <td>0</td>\n",
       "    </tr>\n",
       "    <tr>\n",
       "      <th>1</th>\n",
       "      <td>uniqueid_2 x Kenya</td>\n",
       "      <td>0</td>\n",
       "    </tr>\n",
       "    <tr>\n",
       "      <th>2</th>\n",
       "      <td>uniqueid_3 x Kenya</td>\n",
       "      <td>0</td>\n",
       "    </tr>\n",
       "    <tr>\n",
       "      <th>3</th>\n",
       "      <td>uniqueid_4 x Kenya</td>\n",
       "      <td>0</td>\n",
       "    </tr>\n",
       "    <tr>\n",
       "      <th>4</th>\n",
       "      <td>uniqueid_5 x Kenya</td>\n",
       "      <td>0</td>\n",
       "    </tr>\n",
       "  </tbody>\n",
       "</table>\n",
       "</div>"
      ],
      "text/plain": [
       "            unique_id  bank_account\n",
       "0  uniqueid_1 x Kenya             0\n",
       "1  uniqueid_2 x Kenya             0\n",
       "2  uniqueid_3 x Kenya             0\n",
       "3  uniqueid_4 x Kenya             0\n",
       "4  uniqueid_5 x Kenya             0"
      ]
     },
     "execution_count": 8,
     "metadata": {},
     "output_type": "execute_result"
    }
   ],
   "source": [
    "# Preview the first five rows of the sample submission file\n",
    "ss.head()"
   ]
  },
  {
   "cell_type": "code",
   "execution_count": 8,
   "metadata": {
    "colab": {
     "base_uri": "https://localhost:8080/"
    },
    "id": "PpiShcfRIM58",
    "outputId": "4c582207-f858-412d-d3ba-902841b77a06"
   },
   "outputs": [
    {
     "name": "stdout",
     "output_type": "stream",
     "text": [
      "The shape of the train set is: (23524, 13)\n",
      "The shape of the test set is: (10086, 12)\n"
     ]
    }
   ],
   "source": [
    "# Check the shape of the train and test sets\n",
    "print(f'The shape of the train set is: {train.shape}\\nThe shape of the test set is: {test.shape}')"
   ]
  },
  {
   "cell_type": "markdown",
   "metadata": {
    "id": "oo9bQICy22yi"
   },
   "source": [
    "## Combine train and test set for easy preprocessing "
   ]
  },
  {
   "cell_type": "code",
   "execution_count": 9,
   "metadata": {
    "id": "hkQYtG_KLWX_"
   },
   "outputs": [],
   "source": [
    "# mapping the bank account with 0 to NO and 1 to YES\n",
    "train['bank_account'] = train['bank_account'].map({'No':0, 'Yes':1})"
   ]
  },
  {
   "cell_type": "code",
   "execution_count": 10,
   "metadata": {},
   "outputs": [],
   "source": [
    "from sklearn.utils import resample"
   ]
  },
  {
   "cell_type": "code",
   "execution_count": 14,
   "metadata": {},
   "outputs": [
    {
     "data": {
      "text/plain": [
       "0    20212\n",
       "1     3312\n",
       "Name: bank_account, dtype: int64"
      ]
     },
     "execution_count": 14,
     "metadata": {},
     "output_type": "execute_result"
    }
   ],
   "source": [
    "train['bank_account'].value_counts()"
   ]
  },
  {
   "cell_type": "markdown",
   "metadata": {},
   "source": [
    "Here i was assigning the bank account classifications a variable."
   ]
  },
  {
   "cell_type": "code",
   "execution_count": 13,
   "metadata": {},
   "outputs": [],
   "source": [
    "train_minority = train[train['bank_account']==1]\n",
    "train_majority = train[train['bank_account']==0]"
   ]
  },
  {
   "cell_type": "code",
   "execution_count": 15,
   "metadata": {},
   "outputs": [],
   "source": [
    "#Upsample minority class\n",
    "train_minority_upsampled = resample(train_minority, \n",
    "                                 replace=True,     \n",
    "                                 n_samples=20212,# number of those without bank account\n",
    "                                   random_state=123) # just to make sure results are reproducible (seeding)"
   ]
  },
  {
   "cell_type": "code",
   "execution_count": 16,
   "metadata": {},
   "outputs": [],
   "source": [
    "# Combine majority class with upsampled majority class\n",
    "train_up_sampled = pd.concat([train_majority, train_minority_upsampled])"
   ]
  },
  {
   "cell_type": "markdown",
   "metadata": {},
   "source": [
    "I check the bank account feature, \"0\" for no bank account and \"1\" for bank account(yes)"
   ]
  },
  {
   "cell_type": "code",
   "execution_count": 17,
   "metadata": {},
   "outputs": [
    {
     "data": {
      "text/plain": [
       "0    20212\n",
       "1    20212\n",
       "Name: bank_account, dtype: int64"
      ]
     },
     "execution_count": 17,
     "metadata": {},
     "output_type": "execute_result"
    }
   ],
   "source": [
    "train_up_sampled.bank_account.value_counts()"
   ]
  },
  {
   "cell_type": "code",
   "execution_count": 18,
   "metadata": {},
   "outputs": [
    {
     "data": {
      "text/plain": [
       "0    20212\n",
       "1    20212\n",
       "Name: bank_account, dtype: int64"
      ]
     },
     "execution_count": 18,
     "metadata": {},
     "output_type": "execute_result"
    }
   ],
   "source": [
    "train_up_sampled['bank_account'].value_counts()"
   ]
  },
  {
   "cell_type": "code",
   "execution_count": 82,
   "metadata": {
    "colab": {
     "base_uri": "https://localhost:8080/"
    },
    "id": "LMBnOTvv22yi",
    "outputId": "489d3013-bd41-4c41-f21e-24d12188af82"
   },
   "outputs": [
    {
     "name": "stdout",
     "output_type": "stream",
     "text": [
      "The shape of the combined dataframe is: (33610, 13)\n"
     ]
    }
   ],
   "source": [
    "# Combine train and test set\n",
    "#ntrain = train.shape[0] # to be used to split train and test set from the combined dataframe\n",
    "\n",
    "#all_data = pd.concat((train, test)).reset_index(drop=True)\n",
    "#print(f'The shape of the combined dataframe is: {all_data.shape}')"
   ]
  },
  {
   "cell_type": "code",
   "execution_count": 19,
   "metadata": {},
   "outputs": [
    {
     "data": {
      "text/html": [
       "<div>\n",
       "<style scoped>\n",
       "    .dataframe tbody tr th:only-of-type {\n",
       "        vertical-align: middle;\n",
       "    }\n",
       "\n",
       "    .dataframe tbody tr th {\n",
       "        vertical-align: top;\n",
       "    }\n",
       "\n",
       "    .dataframe thead th {\n",
       "        text-align: right;\n",
       "    }\n",
       "</style>\n",
       "<table border=\"1\" class=\"dataframe\">\n",
       "  <thead>\n",
       "    <tr style=\"text-align: right;\">\n",
       "      <th></th>\n",
       "      <th>country</th>\n",
       "      <th>year</th>\n",
       "      <th>uniqueid</th>\n",
       "      <th>bank_account</th>\n",
       "      <th>location_type</th>\n",
       "      <th>cellphone_access</th>\n",
       "      <th>household_size</th>\n",
       "      <th>age_of_respondent</th>\n",
       "      <th>gender_of_respondent</th>\n",
       "      <th>relationship_with_head</th>\n",
       "      <th>marital_status</th>\n",
       "      <th>education_level</th>\n",
       "      <th>job_type</th>\n",
       "    </tr>\n",
       "  </thead>\n",
       "  <tbody>\n",
       "    <tr>\n",
       "      <th>14053</th>\n",
       "      <td>Rwanda</td>\n",
       "      <td>2016</td>\n",
       "      <td>uniqueid_7986</td>\n",
       "      <td>1</td>\n",
       "      <td>Rural</td>\n",
       "      <td>Yes</td>\n",
       "      <td>6</td>\n",
       "      <td>27</td>\n",
       "      <td>Male</td>\n",
       "      <td>Head of Household</td>\n",
       "      <td>Married/Living together</td>\n",
       "      <td>Primary education</td>\n",
       "      <td>Informally employed</td>\n",
       "    </tr>\n",
       "    <tr>\n",
       "      <th>9054</th>\n",
       "      <td>Rwanda</td>\n",
       "      <td>2016</td>\n",
       "      <td>uniqueid_2987</td>\n",
       "      <td>1</td>\n",
       "      <td>Rural</td>\n",
       "      <td>Yes</td>\n",
       "      <td>6</td>\n",
       "      <td>31</td>\n",
       "      <td>Female</td>\n",
       "      <td>Child</td>\n",
       "      <td>Married/Living together</td>\n",
       "      <td>Tertiary education</td>\n",
       "      <td>Farming and Fishing</td>\n",
       "    </tr>\n",
       "    <tr>\n",
       "      <th>5047</th>\n",
       "      <td>Kenya</td>\n",
       "      <td>2018</td>\n",
       "      <td>uniqueid_5048</td>\n",
       "      <td>1</td>\n",
       "      <td>Urban</td>\n",
       "      <td>Yes</td>\n",
       "      <td>6</td>\n",
       "      <td>43</td>\n",
       "      <td>Male</td>\n",
       "      <td>Head of Household</td>\n",
       "      <td>Married/Living together</td>\n",
       "      <td>Secondary education</td>\n",
       "      <td>Formally employed Private</td>\n",
       "    </tr>\n",
       "    <tr>\n",
       "      <th>2282</th>\n",
       "      <td>Kenya</td>\n",
       "      <td>2018</td>\n",
       "      <td>uniqueid_2283</td>\n",
       "      <td>1</td>\n",
       "      <td>Rural</td>\n",
       "      <td>Yes</td>\n",
       "      <td>4</td>\n",
       "      <td>56</td>\n",
       "      <td>Female</td>\n",
       "      <td>Spouse</td>\n",
       "      <td>Married/Living together</td>\n",
       "      <td>Primary education</td>\n",
       "      <td>Remittance Dependent</td>\n",
       "    </tr>\n",
       "    <tr>\n",
       "      <th>12830</th>\n",
       "      <td>Rwanda</td>\n",
       "      <td>2016</td>\n",
       "      <td>uniqueid_6763</td>\n",
       "      <td>1</td>\n",
       "      <td>Rural</td>\n",
       "      <td>Yes</td>\n",
       "      <td>4</td>\n",
       "      <td>53</td>\n",
       "      <td>Female</td>\n",
       "      <td>Head of Household</td>\n",
       "      <td>Widowed</td>\n",
       "      <td>No formal education</td>\n",
       "      <td>Farming and Fishing</td>\n",
       "    </tr>\n",
       "  </tbody>\n",
       "</table>\n",
       "</div>"
      ],
      "text/plain": [
       "      country  year       uniqueid  bank_account location_type  \\\n",
       "14053  Rwanda  2016  uniqueid_7986             1         Rural   \n",
       "9054   Rwanda  2016  uniqueid_2987             1         Rural   \n",
       "5047    Kenya  2018  uniqueid_5048             1         Urban   \n",
       "2282    Kenya  2018  uniqueid_2283             1         Rural   \n",
       "12830  Rwanda  2016  uniqueid_6763             1         Rural   \n",
       "\n",
       "      cellphone_access  household_size  age_of_respondent  \\\n",
       "14053              Yes               6                 27   \n",
       "9054               Yes               6                 31   \n",
       "5047               Yes               6                 43   \n",
       "2282               Yes               4                 56   \n",
       "12830              Yes               4                 53   \n",
       "\n",
       "      gender_of_respondent relationship_with_head           marital_status  \\\n",
       "14053                 Male      Head of Household  Married/Living together   \n",
       "9054                Female                  Child  Married/Living together   \n",
       "5047                  Male      Head of Household  Married/Living together   \n",
       "2282                Female                 Spouse  Married/Living together   \n",
       "12830               Female      Head of Household                  Widowed   \n",
       "\n",
       "           education_level                   job_type  \n",
       "14053    Primary education        Informally employed  \n",
       "9054    Tertiary education        Farming and Fishing  \n",
       "5047   Secondary education  Formally employed Private  \n",
       "2282     Primary education       Remittance Dependent  \n",
       "12830  No formal education        Farming and Fishing  "
      ]
     },
     "execution_count": 19,
     "metadata": {},
     "output_type": "execute_result"
    }
   ],
   "source": [
    "train_up_sampled.tail()"
   ]
  },
  {
   "cell_type": "code",
   "execution_count": 20,
   "metadata": {
    "colab": {
     "base_uri": "https://localhost:8080/",
     "height": 309
    },
    "id": "Enhuekp922yj",
    "outputId": "421c0680-9b00-432b-cb07-4cf7dfbaf8a0"
   },
   "outputs": [],
   "source": [
    "# Preview the last five rows of the combined dataframe\n",
    "#all_data.tail()"
   ]
  },
  {
   "cell_type": "markdown",
   "metadata": {
    "id": "pL-uhhyKUHWw"
   },
   "source": [
    "### Distribution of the target variable"
   ]
  },
  {
   "cell_type": "code",
   "execution_count": 21,
   "metadata": {
    "colab": {
     "base_uri": "https://localhost:8080/",
     "height": 297
    },
    "id": "lYzk7oDe22ym",
    "outputId": "12a66a45-b3b8-4baf-bc03-ae3c7961eef5"
   },
   "outputs": [
    {
     "name": "stderr",
     "output_type": "stream",
     "text": [
      "C:\\ProgramData\\Anaconda3\\lib\\site-packages\\seaborn\\_decorators.py:36: FutureWarning: Pass the following variable as a keyword arg: x. From version 0.12, the only valid positional argument will be `data`, and passing other arguments without an explicit keyword will result in an error or misinterpretation.\n",
      "  warnings.warn(\n"
     ]
    },
    {
     "data": {
      "image/png": "[encoded data removed]",
      "text/plain": [
       "<Figure size 432x288 with 1 Axes>"
      ]
     },
     "metadata": {
      "needs_background": "light"
     },
     "output_type": "display_data"
    }
   ],
   "source": [
    "sns.countplot(train_up_sampled.bank_account)\n",
    "plt.title('Target Distribution', fontdict={'size':14});"
   ]
  },
  {
   "cell_type": "code",
   "execution_count": 22,
   "metadata": {
    "colab": {
     "base_uri": "https://localhost:8080/",
     "height": 297
    },
    "id": "81wko0oKA-nz",
    "outputId": "4bf33afa-c9d4-40f1-88de-a4ee94e986df"
   },
   "outputs": [
    {
     "name": "stderr",
     "output_type": "stream",
     "text": [
      "C:\\ProgramData\\Anaconda3\\lib\\site-packages\\seaborn\\_decorators.py:36: FutureWarning: Pass the following variable as a keyword arg: x. From version 0.12, the only valid positional argument will be `data`, and passing other arguments without an explicit keyword will result in an error or misinterpretation.\n",
      "  warnings.warn(\n"
     ]
    },
    {
     "data": {
      "image/png": "[encoded data removed]",
      "text/plain": [
       "<Figure size 432x288 with 1 Axes>"
      ]
     },
     "metadata": {
      "needs_background": "light"
     },
     "output_type": "display_data"
    }
   ],
   "source": [
    "sns.countplot(train_up_sampled.location_type)\n",
    "plt.title('Location Distribution', fontdict={'size':14});"
   ]
  },
  {
   "cell_type": "code",
   "execution_count": 23,
   "metadata": {
    "colab": {
     "base_uri": "https://localhost:8080/",
     "height": 297
    },
    "id": "6NdtJatTBFGi",
    "outputId": "e704ac7e-ce85-4818-a699-04695599ed6c"
   },
   "outputs": [
    {
     "name": "stderr",
     "output_type": "stream",
     "text": [
      "C:\\ProgramData\\Anaconda3\\lib\\site-packages\\seaborn\\_decorators.py:36: FutureWarning: Pass the following variable as a keyword arg: x. From version 0.12, the only valid positional argument will be `data`, and passing other arguments without an explicit keyword will result in an error or misinterpretation.\n",
      "  warnings.warn(\n"
     ]
    },
    {
     "data": {
      "image/png": "[encoded data removed]",
      "text/plain": [
       "<Figure size 432x288 with 1 Axes>"
      ]
     },
     "metadata": {
      "needs_background": "light"
     },
     "output_type": "display_data"
    }
   ],
   "source": [
    "sns.countplot(train_up_sampled.cellphone_access)\n",
    "plt.title('Cellphone Access Distribution', fontdict={'size':14});"
   ]
  },
  {
   "cell_type": "markdown",
   "metadata": {
    "id": "x56zYP9RBNhI"
   },
   "source": [
    "Here we see the overall distribution for the whole train set. Can you see if there are any differences due to country?"
   ]
  },
  {
   "cell_type": "markdown",
   "metadata": {
    "id": "7rZ9LClahj5F"
   },
   "source": [
    "### Number of unique values per categorical column"
   ]
  },
  {
   "cell_type": "code",
   "execution_count": 24,
   "metadata": {},
   "outputs": [],
   "source": [
    "#ntrain"
   ]
  },
  {
   "cell_type": "code",
   "execution_count": 25,
   "metadata": {
    "colab": {
     "base_uri": "https://localhost:8080/"
    },
    "id": "Zmhi38ur22yj",
    "outputId": "ebc4d76c-5074-4082-d567-b49baff1f798"
   },
   "outputs": [],
   "source": [
    "# Check the column names and datatypes\n",
    "#all_data.info()"
   ]
  },
  {
   "cell_type": "code",
   "execution_count": 26,
   "metadata": {
    "colab": {
     "base_uri": "https://localhost:8080/"
    },
    "id": "rOd8usWw22yp",
    "outputId": "03390245-04c6-4ed3-c2ba-d591aacb7c1a"
   },
   "outputs": [
    {
     "name": "stdout",
     "output_type": "stream",
     "text": [
      "country\n",
      "4 \n",
      "\n",
      "location_type\n",
      "2 \n",
      "\n",
      "cellphone_access\n",
      "2 \n",
      "\n",
      "gender_of_respondent\n",
      "2 \n",
      "\n",
      "relationship_with_head\n",
      "6 \n",
      "\n",
      "marital_status\n",
      "5 \n",
      "\n",
      "education_level\n",
      "6 \n",
      "\n",
      "job_type\n",
      "10 \n",
      "\n"
     ]
    }
   ],
   "source": [
    "# Check unique values for each categorical column\n",
    "cat_cols = ['country',\t'location_type',\t'cellphone_access',\t'gender_of_respondent',\t'relationship_with_head', 'marital_status', 'education_level',\t'job_type']\n",
    "for col in cat_cols:\n",
    "  print(col)\n",
    "  print(train_up_sampled[col].nunique(), '\\n')"
   ]
  },
  {
   "cell_type": "markdown",
   "metadata": {
    "id": "Ppmv1kB5hvWs"
   },
   "source": [
    "### Feature Engineering\n"
   ]
  },
  {
   "cell_type": "markdown",
   "metadata": {
    "id": "XOnSMk9im9EC"
   },
   "source": [
    "#### Try different strategies of dealing with categorical variables\n",
    "Tips:\n",
    " - One hot encoding\n",
    " - Label encoding\n",
    " - Target encoding\n",
    " - Reduce the number of unique values..."
   ]
  },
  {
   "cell_type": "code",
   "execution_count": null,
   "metadata": {},
   "outputs": [],
   "source": [
    "#all_data = OneHotEncoder(all_data, categories='auto')"
   ]
  },
  {
   "cell_type": "code",
   "execution_count": 21,
   "metadata": {},
   "outputs": [],
   "source": [
    "OneHotEncoder?"
   ]
  },
  {
   "cell_type": "markdown",
   "metadata": {},
   "source": [
    "Encoding categorigal variables of test sample using pandas dummies"
   ]
  },
  {
   "cell_type": "code",
   "execution_count": 51,
   "metadata": {},
   "outputs": [
    {
     "data": {
      "text/html": [
       "<div>\n",
       "<style scoped>\n",
       "    .dataframe tbody tr th:only-of-type {\n",
       "        vertical-align: middle;\n",
       "    }\n",
       "\n",
       "    .dataframe tbody tr th {\n",
       "        vertical-align: top;\n",
       "    }\n",
       "\n",
       "    .dataframe thead th {\n",
       "        text-align: right;\n",
       "    }\n",
       "</style>\n",
       "<table border=\"1\" class=\"dataframe\">\n",
       "  <thead>\n",
       "    <tr style=\"text-align: right;\">\n",
       "      <th></th>\n",
       "      <th>year</th>\n",
       "      <th>uniqueid</th>\n",
       "      <th>household_size</th>\n",
       "      <th>age_of_respondent</th>\n",
       "      <th>country_Kenya</th>\n",
       "      <th>country_Rwanda</th>\n",
       "      <th>country_Tanzania</th>\n",
       "      <th>country_Uganda</th>\n",
       "      <th>location_type_Rural</th>\n",
       "      <th>location_type_Urban</th>\n",
       "      <th>...</th>\n",
       "      <th>job_type_Dont Know/Refuse to answer</th>\n",
       "      <th>job_type_Farming and Fishing</th>\n",
       "      <th>job_type_Formally employed Government</th>\n",
       "      <th>job_type_Formally employed Private</th>\n",
       "      <th>job_type_Government Dependent</th>\n",
       "      <th>job_type_Informally employed</th>\n",
       "      <th>job_type_No Income</th>\n",
       "      <th>job_type_Other Income</th>\n",
       "      <th>job_type_Remittance Dependent</th>\n",
       "      <th>job_type_Self employed</th>\n",
       "    </tr>\n",
       "  </thead>\n",
       "  <tbody>\n",
       "    <tr>\n",
       "      <th>0</th>\n",
       "      <td>2018</td>\n",
       "      <td>uniqueid_6056</td>\n",
       "      <td>3</td>\n",
       "      <td>30</td>\n",
       "      <td>1</td>\n",
       "      <td>0</td>\n",
       "      <td>0</td>\n",
       "      <td>0</td>\n",
       "      <td>0</td>\n",
       "      <td>1</td>\n",
       "      <td>...</td>\n",
       "      <td>0</td>\n",
       "      <td>0</td>\n",
       "      <td>1</td>\n",
       "      <td>0</td>\n",
       "      <td>0</td>\n",
       "      <td>0</td>\n",
       "      <td>0</td>\n",
       "      <td>0</td>\n",
       "      <td>0</td>\n",
       "      <td>0</td>\n",
       "    </tr>\n",
       "    <tr>\n",
       "      <th>1</th>\n",
       "      <td>2018</td>\n",
       "      <td>uniqueid_6060</td>\n",
       "      <td>7</td>\n",
       "      <td>51</td>\n",
       "      <td>1</td>\n",
       "      <td>0</td>\n",
       "      <td>0</td>\n",
       "      <td>0</td>\n",
       "      <td>0</td>\n",
       "      <td>1</td>\n",
       "      <td>...</td>\n",
       "      <td>0</td>\n",
       "      <td>0</td>\n",
       "      <td>0</td>\n",
       "      <td>1</td>\n",
       "      <td>0</td>\n",
       "      <td>0</td>\n",
       "      <td>0</td>\n",
       "      <td>0</td>\n",
       "      <td>0</td>\n",
       "      <td>0</td>\n",
       "    </tr>\n",
       "    <tr>\n",
       "      <th>2</th>\n",
       "      <td>2018</td>\n",
       "      <td>uniqueid_6065</td>\n",
       "      <td>3</td>\n",
       "      <td>77</td>\n",
       "      <td>1</td>\n",
       "      <td>0</td>\n",
       "      <td>0</td>\n",
       "      <td>0</td>\n",
       "      <td>1</td>\n",
       "      <td>0</td>\n",
       "      <td>...</td>\n",
       "      <td>0</td>\n",
       "      <td>0</td>\n",
       "      <td>0</td>\n",
       "      <td>0</td>\n",
       "      <td>0</td>\n",
       "      <td>0</td>\n",
       "      <td>0</td>\n",
       "      <td>0</td>\n",
       "      <td>1</td>\n",
       "      <td>0</td>\n",
       "    </tr>\n",
       "    <tr>\n",
       "      <th>3</th>\n",
       "      <td>2018</td>\n",
       "      <td>uniqueid_6072</td>\n",
       "      <td>6</td>\n",
       "      <td>39</td>\n",
       "      <td>1</td>\n",
       "      <td>0</td>\n",
       "      <td>0</td>\n",
       "      <td>0</td>\n",
       "      <td>1</td>\n",
       "      <td>0</td>\n",
       "      <td>...</td>\n",
       "      <td>0</td>\n",
       "      <td>0</td>\n",
       "      <td>0</td>\n",
       "      <td>0</td>\n",
       "      <td>0</td>\n",
       "      <td>0</td>\n",
       "      <td>0</td>\n",
       "      <td>0</td>\n",
       "      <td>1</td>\n",
       "      <td>0</td>\n",
       "    </tr>\n",
       "    <tr>\n",
       "      <th>4</th>\n",
       "      <td>2018</td>\n",
       "      <td>uniqueid_6073</td>\n",
       "      <td>3</td>\n",
       "      <td>16</td>\n",
       "      <td>1</td>\n",
       "      <td>0</td>\n",
       "      <td>0</td>\n",
       "      <td>0</td>\n",
       "      <td>0</td>\n",
       "      <td>1</td>\n",
       "      <td>...</td>\n",
       "      <td>0</td>\n",
       "      <td>0</td>\n",
       "      <td>0</td>\n",
       "      <td>0</td>\n",
       "      <td>0</td>\n",
       "      <td>0</td>\n",
       "      <td>0</td>\n",
       "      <td>0</td>\n",
       "      <td>1</td>\n",
       "      <td>0</td>\n",
       "    </tr>\n",
       "    <tr>\n",
       "      <th>...</th>\n",
       "      <td>...</td>\n",
       "      <td>...</td>\n",
       "      <td>...</td>\n",
       "      <td>...</td>\n",
       "      <td>...</td>\n",
       "      <td>...</td>\n",
       "      <td>...</td>\n",
       "      <td>...</td>\n",
       "      <td>...</td>\n",
       "      <td>...</td>\n",
       "      <td>...</td>\n",
       "      <td>...</td>\n",
       "      <td>...</td>\n",
       "      <td>...</td>\n",
       "      <td>...</td>\n",
       "      <td>...</td>\n",
       "      <td>...</td>\n",
       "      <td>...</td>\n",
       "      <td>...</td>\n",
       "      <td>...</td>\n",
       "      <td>...</td>\n",
       "    </tr>\n",
       "    <tr>\n",
       "      <th>10081</th>\n",
       "      <td>2018</td>\n",
       "      <td>uniqueid_2998</td>\n",
       "      <td>2</td>\n",
       "      <td>62</td>\n",
       "      <td>0</td>\n",
       "      <td>0</td>\n",
       "      <td>0</td>\n",
       "      <td>1</td>\n",
       "      <td>1</td>\n",
       "      <td>0</td>\n",
       "      <td>...</td>\n",
       "      <td>0</td>\n",
       "      <td>0</td>\n",
       "      <td>0</td>\n",
       "      <td>0</td>\n",
       "      <td>0</td>\n",
       "      <td>0</td>\n",
       "      <td>0</td>\n",
       "      <td>0</td>\n",
       "      <td>0</td>\n",
       "      <td>1</td>\n",
       "    </tr>\n",
       "    <tr>\n",
       "      <th>10082</th>\n",
       "      <td>2018</td>\n",
       "      <td>uniqueid_2999</td>\n",
       "      <td>8</td>\n",
       "      <td>42</td>\n",
       "      <td>0</td>\n",
       "      <td>0</td>\n",
       "      <td>0</td>\n",
       "      <td>1</td>\n",
       "      <td>0</td>\n",
       "      <td>1</td>\n",
       "      <td>...</td>\n",
       "      <td>0</td>\n",
       "      <td>0</td>\n",
       "      <td>0</td>\n",
       "      <td>0</td>\n",
       "      <td>0</td>\n",
       "      <td>0</td>\n",
       "      <td>0</td>\n",
       "      <td>0</td>\n",
       "      <td>0</td>\n",
       "      <td>1</td>\n",
       "    </tr>\n",
       "    <tr>\n",
       "      <th>10083</th>\n",
       "      <td>2018</td>\n",
       "      <td>uniqueid_3000</td>\n",
       "      <td>1</td>\n",
       "      <td>39</td>\n",
       "      <td>0</td>\n",
       "      <td>0</td>\n",
       "      <td>0</td>\n",
       "      <td>1</td>\n",
       "      <td>0</td>\n",
       "      <td>1</td>\n",
       "      <td>...</td>\n",
       "      <td>0</td>\n",
       "      <td>0</td>\n",
       "      <td>0</td>\n",
       "      <td>0</td>\n",
       "      <td>0</td>\n",
       "      <td>0</td>\n",
       "      <td>0</td>\n",
       "      <td>1</td>\n",
       "      <td>0</td>\n",
       "      <td>0</td>\n",
       "    </tr>\n",
       "    <tr>\n",
       "      <th>10084</th>\n",
       "      <td>2018</td>\n",
       "      <td>uniqueid_3001</td>\n",
       "      <td>6</td>\n",
       "      <td>28</td>\n",
       "      <td>0</td>\n",
       "      <td>0</td>\n",
       "      <td>0</td>\n",
       "      <td>1</td>\n",
       "      <td>1</td>\n",
       "      <td>0</td>\n",
       "      <td>...</td>\n",
       "      <td>0</td>\n",
       "      <td>0</td>\n",
       "      <td>0</td>\n",
       "      <td>0</td>\n",
       "      <td>0</td>\n",
       "      <td>0</td>\n",
       "      <td>0</td>\n",
       "      <td>0</td>\n",
       "      <td>0</td>\n",
       "      <td>1</td>\n",
       "    </tr>\n",
       "    <tr>\n",
       "      <th>10085</th>\n",
       "      <td>2018</td>\n",
       "      <td>uniqueid_3002</td>\n",
       "      <td>7</td>\n",
       "      <td>16</td>\n",
       "      <td>0</td>\n",
       "      <td>0</td>\n",
       "      <td>0</td>\n",
       "      <td>1</td>\n",
       "      <td>0</td>\n",
       "      <td>1</td>\n",
       "      <td>...</td>\n",
       "      <td>0</td>\n",
       "      <td>0</td>\n",
       "      <td>0</td>\n",
       "      <td>0</td>\n",
       "      <td>0</td>\n",
       "      <td>0</td>\n",
       "      <td>0</td>\n",
       "      <td>1</td>\n",
       "      <td>0</td>\n",
       "      <td>0</td>\n",
       "    </tr>\n",
       "  </tbody>\n",
       "</table>\n",
       "<p>10086 rows × 41 columns</p>\n",
       "</div>"
      ],
      "text/plain": [
       "       year       uniqueid  household_size  age_of_respondent  country_Kenya  \\\n",
       "0      2018  uniqueid_6056               3                 30              1   \n",
       "1      2018  uniqueid_6060               7                 51              1   \n",
       "2      2018  uniqueid_6065               3                 77              1   \n",
       "3      2018  uniqueid_6072               6                 39              1   \n",
       "4      2018  uniqueid_6073               3                 16              1   \n",
       "...     ...            ...             ...                ...            ...   \n",
       "10081  2018  uniqueid_2998               2                 62              0   \n",
       "10082  2018  uniqueid_2999               8                 42              0   \n",
       "10083  2018  uniqueid_3000               1                 39              0   \n",
       "10084  2018  uniqueid_3001               6                 28              0   \n",
       "10085  2018  uniqueid_3002               7                 16              0   \n",
       "\n",
       "       country_Rwanda  country_Tanzania  country_Uganda  location_type_Rural  \\\n",
       "0                   0                 0               0                    0   \n",
       "1                   0                 0               0                    0   \n",
       "2                   0                 0               0                    1   \n",
       "3                   0                 0               0                    1   \n",
       "4                   0                 0               0                    0   \n",
       "...               ...               ...             ...                  ...   \n",
       "10081               0                 0               1                    1   \n",
       "10082               0                 0               1                    0   \n",
       "10083               0                 0               1                    0   \n",
       "10084               0                 0               1                    1   \n",
       "10085               0                 0               1                    0   \n",
       "\n",
       "       location_type_Urban  ...  job_type_Dont Know/Refuse to answer  \\\n",
       "0                        1  ...                                    0   \n",
       "1                        1  ...                                    0   \n",
       "2                        0  ...                                    0   \n",
       "3                        0  ...                                    0   \n",
       "4                        1  ...                                    0   \n",
       "...                    ...  ...                                  ...   \n",
       "10081                    0  ...                                    0   \n",
       "10082                    1  ...                                    0   \n",
       "10083                    1  ...                                    0   \n",
       "10084                    0  ...                                    0   \n",
       "10085                    1  ...                                    0   \n",
       "\n",
       "       job_type_Farming and Fishing  job_type_Formally employed Government  \\\n",
       "0                                 0                                      1   \n",
       "1                                 0                                      0   \n",
       "2                                 0                                      0   \n",
       "3                                 0                                      0   \n",
       "4                                 0                                      0   \n",
       "...                             ...                                    ...   \n",
       "10081                             0                                      0   \n",
       "10082                             0                                      0   \n",
       "10083                             0                                      0   \n",
       "10084                             0                                      0   \n",
       "10085                             0                                      0   \n",
       "\n",
       "       job_type_Formally employed Private  job_type_Government Dependent  \\\n",
       "0                                       0                              0   \n",
       "1                                       1                              0   \n",
       "2                                       0                              0   \n",
       "3                                       0                              0   \n",
       "4                                       0                              0   \n",
       "...                                   ...                            ...   \n",
       "10081                                   0                              0   \n",
       "10082                                   0                              0   \n",
       "10083                                   0                              0   \n",
       "10084                                   0                              0   \n",
       "10085                                   0                              0   \n",
       "\n",
       "       job_type_Informally employed  job_type_No Income  \\\n",
       "0                                 0                   0   \n",
       "1                                 0                   0   \n",
       "2                                 0                   0   \n",
       "3                                 0                   0   \n",
       "4                                 0                   0   \n",
       "...                             ...                 ...   \n",
       "10081                             0                   0   \n",
       "10082                             0                   0   \n",
       "10083                             0                   0   \n",
       "10084                             0                   0   \n",
       "10085                             0                   0   \n",
       "\n",
       "       job_type_Other Income  job_type_Remittance Dependent  \\\n",
       "0                          0                              0   \n",
       "1                          0                              0   \n",
       "2                          0                              1   \n",
       "3                          0                              1   \n",
       "4                          0                              1   \n",
       "...                      ...                            ...   \n",
       "10081                      0                              0   \n",
       "10082                      0                              0   \n",
       "10083                      1                              0   \n",
       "10084                      0                              0   \n",
       "10085                      1                              0   \n",
       "\n",
       "       job_type_Self employed  \n",
       "0                           0  \n",
       "1                           0  \n",
       "2                           0  \n",
       "3                           0  \n",
       "4                           0  \n",
       "...                       ...  \n",
       "10081                       1  \n",
       "10082                       1  \n",
       "10083                       0  \n",
       "10084                       1  \n",
       "10085                       0  \n",
       "\n",
       "[10086 rows x 41 columns]"
      ]
     },
     "execution_count": 51,
     "metadata": {},
     "output_type": "execute_result"
    }
   ],
   "source": [
    "test_df = pd.get_dummies(data = test, columns = cat_cols)\n",
    "test_df"
   ]
  },
  {
   "cell_type": "code",
   "execution_count": 27,
   "metadata": {
    "colab": {
     "base_uri": "https://localhost:8080/",
     "height": 258
    },
    "id": "hzZXqfvE22y9",
    "outputId": "06376888-b7ed-4b64-8137-0ae1243421e0"
   },
   "outputs": [
    {
     "data": {
      "text/html": [
       "<div>\n",
       "<style scoped>\n",
       "    .dataframe tbody tr th:only-of-type {\n",
       "        vertical-align: middle;\n",
       "    }\n",
       "\n",
       "    .dataframe tbody tr th {\n",
       "        vertical-align: top;\n",
       "    }\n",
       "\n",
       "    .dataframe thead th {\n",
       "        text-align: right;\n",
       "    }\n",
       "</style>\n",
       "<table border=\"1\" class=\"dataframe\">\n",
       "  <thead>\n",
       "    <tr style=\"text-align: right;\">\n",
       "      <th></th>\n",
       "      <th>year</th>\n",
       "      <th>uniqueid</th>\n",
       "      <th>bank_account</th>\n",
       "      <th>household_size</th>\n",
       "      <th>age_of_respondent</th>\n",
       "      <th>country_Kenya</th>\n",
       "      <th>country_Rwanda</th>\n",
       "      <th>country_Tanzania</th>\n",
       "      <th>country_Uganda</th>\n",
       "      <th>location_type_Rural</th>\n",
       "      <th>...</th>\n",
       "      <th>job_type_Dont Know/Refuse to answer</th>\n",
       "      <th>job_type_Farming and Fishing</th>\n",
       "      <th>job_type_Formally employed Government</th>\n",
       "      <th>job_type_Formally employed Private</th>\n",
       "      <th>job_type_Government Dependent</th>\n",
       "      <th>job_type_Informally employed</th>\n",
       "      <th>job_type_No Income</th>\n",
       "      <th>job_type_Other Income</th>\n",
       "      <th>job_type_Remittance Dependent</th>\n",
       "      <th>job_type_Self employed</th>\n",
       "    </tr>\n",
       "  </thead>\n",
       "  <tbody>\n",
       "    <tr>\n",
       "      <th>1</th>\n",
       "      <td>2018</td>\n",
       "      <td>uniqueid_2</td>\n",
       "      <td>0</td>\n",
       "      <td>5</td>\n",
       "      <td>70</td>\n",
       "      <td>1</td>\n",
       "      <td>0</td>\n",
       "      <td>0</td>\n",
       "      <td>0</td>\n",
       "      <td>1</td>\n",
       "      <td>...</td>\n",
       "      <td>0</td>\n",
       "      <td>0</td>\n",
       "      <td>0</td>\n",
       "      <td>0</td>\n",
       "      <td>1</td>\n",
       "      <td>0</td>\n",
       "      <td>0</td>\n",
       "      <td>0</td>\n",
       "      <td>0</td>\n",
       "      <td>0</td>\n",
       "    </tr>\n",
       "    <tr>\n",
       "      <th>3</th>\n",
       "      <td>2018</td>\n",
       "      <td>uniqueid_4</td>\n",
       "      <td>0</td>\n",
       "      <td>5</td>\n",
       "      <td>34</td>\n",
       "      <td>1</td>\n",
       "      <td>0</td>\n",
       "      <td>0</td>\n",
       "      <td>0</td>\n",
       "      <td>1</td>\n",
       "      <td>...</td>\n",
       "      <td>0</td>\n",
       "      <td>0</td>\n",
       "      <td>0</td>\n",
       "      <td>1</td>\n",
       "      <td>0</td>\n",
       "      <td>0</td>\n",
       "      <td>0</td>\n",
       "      <td>0</td>\n",
       "      <td>0</td>\n",
       "      <td>0</td>\n",
       "    </tr>\n",
       "    <tr>\n",
       "      <th>4</th>\n",
       "      <td>2018</td>\n",
       "      <td>uniqueid_5</td>\n",
       "      <td>0</td>\n",
       "      <td>8</td>\n",
       "      <td>26</td>\n",
       "      <td>1</td>\n",
       "      <td>0</td>\n",
       "      <td>0</td>\n",
       "      <td>0</td>\n",
       "      <td>0</td>\n",
       "      <td>...</td>\n",
       "      <td>0</td>\n",
       "      <td>0</td>\n",
       "      <td>0</td>\n",
       "      <td>0</td>\n",
       "      <td>0</td>\n",
       "      <td>1</td>\n",
       "      <td>0</td>\n",
       "      <td>0</td>\n",
       "      <td>0</td>\n",
       "      <td>0</td>\n",
       "    </tr>\n",
       "    <tr>\n",
       "      <th>5</th>\n",
       "      <td>2018</td>\n",
       "      <td>uniqueid_6</td>\n",
       "      <td>0</td>\n",
       "      <td>7</td>\n",
       "      <td>26</td>\n",
       "      <td>1</td>\n",
       "      <td>0</td>\n",
       "      <td>0</td>\n",
       "      <td>0</td>\n",
       "      <td>1</td>\n",
       "      <td>...</td>\n",
       "      <td>0</td>\n",
       "      <td>0</td>\n",
       "      <td>0</td>\n",
       "      <td>0</td>\n",
       "      <td>0</td>\n",
       "      <td>1</td>\n",
       "      <td>0</td>\n",
       "      <td>0</td>\n",
       "      <td>0</td>\n",
       "      <td>0</td>\n",
       "    </tr>\n",
       "    <tr>\n",
       "      <th>6</th>\n",
       "      <td>2018</td>\n",
       "      <td>uniqueid_7</td>\n",
       "      <td>0</td>\n",
       "      <td>7</td>\n",
       "      <td>32</td>\n",
       "      <td>1</td>\n",
       "      <td>0</td>\n",
       "      <td>0</td>\n",
       "      <td>0</td>\n",
       "      <td>1</td>\n",
       "      <td>...</td>\n",
       "      <td>0</td>\n",
       "      <td>0</td>\n",
       "      <td>0</td>\n",
       "      <td>0</td>\n",
       "      <td>0</td>\n",
       "      <td>0</td>\n",
       "      <td>0</td>\n",
       "      <td>0</td>\n",
       "      <td>0</td>\n",
       "      <td>1</td>\n",
       "    </tr>\n",
       "  </tbody>\n",
       "</table>\n",
       "<p>5 rows × 42 columns</p>\n",
       "</div>"
      ],
      "text/plain": [
       "   year    uniqueid  bank_account  household_size  age_of_respondent  \\\n",
       "1  2018  uniqueid_2             0               5                 70   \n",
       "3  2018  uniqueid_4             0               5                 34   \n",
       "4  2018  uniqueid_5             0               8                 26   \n",
       "5  2018  uniqueid_6             0               7                 26   \n",
       "6  2018  uniqueid_7             0               7                 32   \n",
       "\n",
       "   country_Kenya  country_Rwanda  country_Tanzania  country_Uganda  \\\n",
       "1              1               0                 0               0   \n",
       "3              1               0                 0               0   \n",
       "4              1               0                 0               0   \n",
       "5              1               0                 0               0   \n",
       "6              1               0                 0               0   \n",
       "\n",
       "   location_type_Rural  ...  job_type_Dont Know/Refuse to answer  \\\n",
       "1                    1  ...                                    0   \n",
       "3                    1  ...                                    0   \n",
       "4                    0  ...                                    0   \n",
       "5                    1  ...                                    0   \n",
       "6                    1  ...                                    0   \n",
       "\n",
       "   job_type_Farming and Fishing  job_type_Formally employed Government  \\\n",
       "1                             0                                      0   \n",
       "3                             0                                      0   \n",
       "4                             0                                      0   \n",
       "5                             0                                      0   \n",
       "6                             0                                      0   \n",
       "\n",
       "   job_type_Formally employed Private  job_type_Government Dependent  \\\n",
       "1                                   0                              1   \n",
       "3                                   1                              0   \n",
       "4                                   0                              0   \n",
       "5                                   0                              0   \n",
       "6                                   0                              0   \n",
       "\n",
       "   job_type_Informally employed  job_type_No Income  job_type_Other Income  \\\n",
       "1                             0                   0                      0   \n",
       "3                             0                   0                      0   \n",
       "4                             1                   0                      0   \n",
       "5                             1                   0                      0   \n",
       "6                             0                   0                      0   \n",
       "\n",
       "   job_type_Remittance Dependent  job_type_Self employed  \n",
       "1                              0                       0  \n",
       "3                              0                       0  \n",
       "4                              0                       0  \n",
       "5                              0                       0  \n",
       "6                              0                       1  \n",
       "\n",
       "[5 rows x 42 columns]"
      ]
     },
     "execution_count": 27,
     "metadata": {},
     "output_type": "execute_result"
    }
   ],
   "source": [
    "# Encode categorical features\n",
    "train_up_sampled = pd.get_dummies(data = train_up_sampled, columns = cat_cols)\n",
    "train_up_sampled.head()"
   ]
  },
  {
   "cell_type": "code",
   "execution_count": 28,
   "metadata": {
    "colab": {
     "base_uri": "https://localhost:8080/"
    },
    "id": "BibprFWLdRAy",
    "outputId": "d86b2e2d-52ce-4689-ba33-563f0447bef4"
   },
   "outputs": [],
   "source": [
    "# Separate train and test data from the combined dataframe\n",
    "#train_df = all_data[:ntrain]\n",
    "#test_df = all_data[ntrain:]\n",
    "\n",
    "# Check the shapes of the split dataset\n",
    "#train_df.shape, test_df.shape"
   ]
  },
  {
   "cell_type": "markdown",
   "metadata": {
    "id": "Rv9axjwXh2Ij"
   },
   "source": [
    "### Training and making predictions\n",
    "Tips:\n",
    "- Is lgbm the best model for this challenge?\n",
    "- Parameter tuning\n",
    " - Grid search, random search, perhaps bayesian search works better...\n",
    "\n"
   ]
  },
  {
   "cell_type": "code",
   "execution_count": 29,
   "metadata": {},
   "outputs": [],
   "source": [
    "y = train_up_sampled.bank_account\n",
    "X = train_up_sampled.drop(['bank_account', 'uniqueid'], axis=1)"
   ]
  },
  {
   "cell_type": "code",
   "execution_count": 31,
   "metadata": {
    "colab": {
     "base_uri": "https://localhost:8080/"
    },
    "id": "w0EL1Fk222y-",
    "outputId": "b31891c4-0d64-48ac-dd6d-ac80b1c4ecd1"
   },
   "outputs": [
    {
     "data": {
      "text/plain": [
       "0.8123350923482849"
      ]
     },
     "execution_count": 31,
     "metadata": {},
     "output_type": "execute_result"
    }
   ],
   "source": [
    "# Select main columns to be used in training\n",
    "#main_cols = all_data.columns.difference(date_cols+['ID', 'bank_account'])\n",
    "#main_cols = all_data.columns.difference(['uniqueid', 'bank_account'])\n",
    "#X = train_df[main_cols]\n",
    "#y = train_df['bank_account']\n",
    "\n",
    "# Split data into train and test sets\n",
    "X_train, X_test, y_train, y_test = train_test_split(X,y,test_size=0.3, random_state=42)\n",
    "\n",
    "# Train model\n",
    "model = LGBMClassifier()\n",
    "model.fit(X_train, y_train)\n",
    "\n",
    "# Make predictions\n",
    "y_pred = model.predict(X_test)\n",
    "\n",
    "# Check the accuracy score of the model\n",
    "accuracy_score(y_pred,y_test)"
   ]
  },
  {
   "cell_type": "code",
   "execution_count": 33,
   "metadata": {},
   "outputs": [],
   "source": [
    "# Split data into train and test sets\n",
    "#X_train, X_test, y_train, y_test = train_test_split(X,y,test_size=0.3, random_state=42)\n",
    "\n",
    "# Train model\n",
    "#model = LGBMClassifier()\n",
    "#model.fit(X_train, y_train)\n",
    "\n",
    "# Make predictions\n",
    "#y_pred = model.predict(X_test)\n",
    "\n",
    "# Check the accuracy score of the model\n",
    "#accuracy_score(y_pred,y_test)"
   ]
  },
  {
   "cell_type": "markdown",
   "metadata": {},
   "source": [
    "Checking RandomForestClassifier default hyperparameters"
   ]
  },
  {
   "cell_type": "code",
   "execution_count": 34,
   "metadata": {},
   "outputs": [],
   "source": [
    "forest = RandomForestClassifier(random_state=17) # I just think 17 is the best prime number"
   ]
  },
  {
   "cell_type": "code",
   "execution_count": 35,
   "metadata": {},
   "outputs": [
    {
     "data": {
      "text/plain": [
       "RandomForestClassifier(random_state=17)"
      ]
     },
     "execution_count": 35,
     "metadata": {},
     "output_type": "execute_result"
    }
   ],
   "source": [
    "forest.fit(X_train, y_train)"
   ]
  },
  {
   "cell_type": "code",
   "execution_count": 36,
   "metadata": {},
   "outputs": [],
   "source": [
    "yhat = forest.predict(X_test)"
   ]
  },
  {
   "cell_type": "code",
   "execution_count": 37,
   "metadata": {},
   "outputs": [
    {
     "data": {
      "text/plain": [
       "0.9181233509234829"
      ]
     },
     "execution_count": 37,
     "metadata": {},
     "output_type": "execute_result"
    }
   ],
   "source": [
    "accuracy_score(yhat,y_test)"
   ]
  },
  {
   "cell_type": "markdown",
   "metadata": {},
   "source": [
    "Hyperparameter tuning RandomForestClassiier using GridSearchCV, i just guessed these hyperparameters unfortunately"
   ]
  },
  {
   "cell_type": "code",
   "execution_count": 38,
   "metadata": {},
   "outputs": [
    {
     "name": "stdout",
     "output_type": "stream",
     "text": [
      "Fitting 3 folds for each of 320 candidates, totalling 960 fits\n"
     ]
    }
   ],
   "source": [
    "n_estimators = [100, 120, 150, 200]\n",
    "max_depth = [5, 8, 15, 20]\n",
    "min_samples_split = [2, 5, 10, 15, 20]\n",
    "min_samples_leaf = [1, 2, 5, 8] \n",
    "\n",
    "hyperF = dict(n_estimators = n_estimators, max_depth = max_depth,  \n",
    "              min_samples_split = min_samples_split, \n",
    "             min_samples_leaf = min_samples_leaf)\n",
    "\n",
    "gridF = GridSearchCV(forest, hyperF, cv = 3, verbose = 1)\n",
    "bestF = gridF.fit(X_train, y_train)"
   ]
  },
  {
   "cell_type": "markdown",
   "metadata": {},
   "source": [
    "just checking the best model"
   ]
  },
  {
   "cell_type": "code",
   "execution_count": 40,
   "metadata": {},
   "outputs": [
    {
     "data": {
      "text/plain": [
       "RandomForestClassifier(max_depth=20, random_state=17)"
      ]
     },
     "execution_count": 40,
     "metadata": {},
     "output_type": "execute_result"
    }
   ],
   "source": [
    "bestF.best_estimator_"
   ]
  },
  {
   "cell_type": "markdown",
   "metadata": {},
   "source": [
    "Best accuracy score (still not sure of the exact metric here)"
   ]
  },
  {
   "cell_type": "code",
   "execution_count": 41,
   "metadata": {},
   "outputs": [
    {
     "data": {
      "text/plain": [
       "0.8876166242578457"
      ]
     },
     "execution_count": 41,
     "metadata": {},
     "output_type": "execute_result"
    }
   ],
   "source": [
    "bestF.best_score_"
   ]
  },
  {
   "cell_type": "markdown",
   "metadata": {},
   "source": [
    "Best hyperparameters"
   ]
  },
  {
   "cell_type": "code",
   "execution_count": 42,
   "metadata": {},
   "outputs": [
    {
     "data": {
      "text/plain": [
       "{'max_depth': 20,\n",
       " 'min_samples_leaf': 1,\n",
       " 'min_samples_split': 2,\n",
       " 'n_estimators': 100}"
      ]
     },
     "execution_count": 42,
     "metadata": {},
     "output_type": "execute_result"
    }
   ],
   "source": [
    "bestF.best_params_"
   ]
  },
  {
   "cell_type": "markdown",
   "metadata": {},
   "source": [
    "Summary of gridsearch"
   ]
  },
  {
   "cell_type": "code",
   "execution_count": 43,
   "metadata": {},
   "outputs": [
    {
     "name": "stdout",
     "output_type": "stream",
     "text": [
      " Results from Grid Search \n",
      "\n",
      " The best estimator across ALL searched params:\n",
      " RandomForestClassifier(max_depth=20, random_state=17)\n",
      "\n",
      " The best score across ALL searched params:\n",
      " 0.8876166242578457\n",
      "\n",
      " The best parameters across ALL searched params:\n",
      " {'max_depth': 20, 'min_samples_leaf': 1, 'min_samples_split': 2, 'n_estimators': 100}\n"
     ]
    }
   ],
   "source": [
    "print(\" Results from Grid Search \" )\n",
    "print(\"\\n The best estimator across ALL searched params:\\n\",bestF.best_estimator_)\n",
    "print(\"\\n The best score across ALL searched params:\\n\",bestF.best_score_)\n",
    "print(\"\\n The best parameters across ALL searched params:\\n\",bestF.best_params_)"
   ]
  },
  {
   "cell_type": "markdown",
   "metadata": {},
   "source": [
    "Using optimal hyperparameters found form gridsearchCV"
   ]
  },
  {
   "cell_type": "code",
   "execution_count": 45,
   "metadata": {},
   "outputs": [],
   "source": [
    "forestOpt = RandomForestClassifier(random_state = 1, max_depth = 20, n_estimators = 100, min_samples_split = 2, min_samples_leaf = 1)"
   ]
  },
  {
   "cell_type": "code",
   "execution_count": 46,
   "metadata": {},
   "outputs": [
    {
     "data": {
      "text/plain": [
       "RandomForestClassifier(max_depth=20, random_state=1)"
      ]
     },
     "execution_count": 46,
     "metadata": {},
     "output_type": "execute_result"
    }
   ],
   "source": [
    "forestOpt.fit(X_train, y_train)"
   ]
  },
  {
   "cell_type": "code",
   "execution_count": 47,
   "metadata": {},
   "outputs": [],
   "source": [
    "yhat = forestOpt.predict(X_test)"
   ]
  },
  {
   "cell_type": "markdown",
   "metadata": {},
   "source": [
    "Using their(zindi) accuracy score"
   ]
  },
  {
   "cell_type": "code",
   "execution_count": 48,
   "metadata": {},
   "outputs": [
    {
     "data": {
      "text/plain": [
       "0.9023746701846965"
      ]
     },
     "execution_count": 48,
     "metadata": {},
     "output_type": "execute_result"
    }
   ],
   "source": [
    "accuracy_score(yhat,y_test)"
   ]
  },
  {
   "cell_type": "markdown",
   "metadata": {
    "id": "k_LHEtrph7Kk"
   },
   "source": [
    "### Making predictions of the test set and creating a submission file"
   ]
  },
  {
   "cell_type": "code",
   "execution_count": 54,
   "metadata": {
    "colab": {
     "base_uri": "https://localhost:8080/",
     "height": 265
    },
    "id": "OP8EX6NZfSCP",
    "outputId": "7c289186-08b5-48f0-e92a-a1c32b711a09"
   },
   "outputs": [
    {
     "name": "stderr",
     "output_type": "stream",
     "text": [
      "<ipython-input-54-7eaa34562752>:7: UserWarning: Pandas doesn't allow columns to be created via a new attribute name - see https://pandas.pydata.org/pandas-docs/stable/indexing.html#attribute-access\n",
      "  sub_file.predictions = predictions\n",
      "C:\\ProgramData\\Anaconda3\\lib\\site-packages\\seaborn\\_decorators.py:36: FutureWarning: Pass the following variable as a keyword arg: x. From version 0.12, the only valid positional argument will be `data`, and passing other arguments without an explicit keyword will result in an error or misinterpretation.\n",
      "  warnings.warn(\n"
     ]
    },
    {
     "data": {
      "image/png": "[encoded data removed]",
      "text/plain": [
       "<Figure size 432x288 with 1 Axes>"
      ]
     },
     "metadata": {
      "needs_background": "light"
     },
     "output_type": "display_data"
    }
   ],
   "source": [
    "# Make prediction on the test set\n",
    "test_df = test_df.drop(['uniqueid'], axis=1)\n",
    "predictions = forestOpt.predict(test_df)\n",
    "\n",
    "# Create a submission file\n",
    "sub_file = ss.copy()\n",
    "sub_file.predictions = predictions\n",
    "\n",
    "# Check the distribution of your predictions\n",
    "sns.countplot(sub_file.predictions);"
   ]
  },
  {
   "cell_type": "code",
   "execution_count": 40,
   "metadata": {
    "id": "sm_jTS4022y-"
   },
   "outputs": [],
   "source": [
    "# Create a csv file and upload to zindi \n",
    "sub_file.to_csv('RForestOpt_Baseline.csv', index = False)"
   ]
  },
  {
   "cell_type": "code",
   "execution_count": 1,
   "metadata": {
    "colab": {
     "base_uri": "https://localhost:8080/",
     "height": 17
    },
    "id": "ddekS_0OM1NY",
    "outputId": "24cf72e3-1f22-42ce-fb3d-8096cb869329"
   },
   "outputs": [],
   "source": [
    "#files.download('Baseline.csv') "
   ]
  },
  {
   "cell_type": "markdown",
   "metadata": {
    "id": "ttQqWBi722zE"
   },
   "source": [
    "###More Tips\n",
    "- Thorough EDA and domain knowledge sourcing\n",
    "- Re-group Categorical features \n",
    "- More Feature Engineering \n",
    "- Dataset balancing - oversampling, undersampling, SMOTE...\n",
    "- Ensembling of models \n",
    "- Cross-validation: Group folds, Stratified..."
   ]
  },
  {
   "cell_type": "markdown",
   "metadata": {
    "id": "uXftXbo622zF"
   },
   "source": [
    "# ******************* GOOD LUCK!!! ***************************"
   ]
  }
 ],
 "metadata": {
  "colab": {
   "collapsed_sections": [],
   "name": "StarterNotebook.ipynb",
   "provenance": []
  },
  "kernelspec": {
   "display_name": "Python 3",
   "language": "python",
   "name": "python3"
  },
  "language_info": {
   "codemirror_mode": {
    "name": "ipython",
    "version": 3
   },
   "file_extension": ".py",
   "mimetype": "text/x-python",
   "name": "python",
   "nbconvert_exporter": "python",
   "pygments_lexer": "ipython3",
   "version": "3.8.8"
  }
 },
 "nbformat": 4,
 "nbformat_minor": 1
}
