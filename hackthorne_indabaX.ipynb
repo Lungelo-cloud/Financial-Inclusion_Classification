{
 "cells": [
  {
   "cell_type": "markdown",
   "metadata": {
    "id": "48S6RVt_jXwp"
   },
   "source": [
    "# Financial Inclusion in Africa Starter Notebook\n",
    "\n",
    "\n",
    "This is a simple starter notebook to get started with the Machine Learning for Financial Inclusion by University of Eswatini on Zindi.\n",
    "\n",
    "This notebook covers:\n",
    "- Loading the data\n",
    "- Simple EDA and an example of feature enginnering\n",
    "- Data preprocessing and data wrangling\n",
    "- Creating a simple model\n",
    "- Making a submission\n",
    "- Some tips for improving your score"
   ]
  },
  {
   "cell_type": "markdown",
   "metadata": {
    "id": "HdPjBTFdkI7t"
   },
   "source": [
    "### Importing libraries"
   ]
  },
  {
   "cell_type": "code",
   "execution_count": 1,
   "metadata": {
    "id": "8IWFJK2h22yc"
   },
   "outputs": [],
   "source": [
    "# dataframe and plotting\n",
    "import pandas as pd\n",
    "import numpy as np\n",
    "import seaborn as sns\n",
    "import matplotlib.pyplot as plt\n",
    "\n",
    "# machine learning\n",
    "from lightgbm import LGBMClassifier\n",
    "from sklearn.model_selection import train_test_split\n",
    "from sklearn.metrics import accuracy_score\n",
    "\n",
    "#from google.colab import files\n",
    "import warnings\n",
    "warnings.filterwarnings('ignore')"
   ]
  },
  {
   "cell_type": "code",
   "execution_count": 2,
   "metadata": {},
   "outputs": [],
   "source": [
    "#pip install kmodes"
   ]
  },
  {
   "cell_type": "code",
   "execution_count": 3,
   "metadata": {},
   "outputs": [],
   "source": [
    "#from kmodes.kprototypes import KPrototypes"
   ]
  },
  {
   "cell_type": "markdown",
   "metadata": {
    "id": "9SyQadB9iY8R"
   },
   "source": [
    "### Read files"
   ]
  },
  {
   "cell_type": "code",
   "execution_count": 4,
   "metadata": {
    "id": "MQCvC_XjDzyH"
   },
   "outputs": [],
   "source": [
    "# Load files into a pandas dataframe\n",
    "train = pd.read_csv('Train.csv')\n",
    "test = pd.read_csv('Test.csv')\n",
    "ss = pd.read_csv('SampleSubmission.csv')\n",
    "variables = pd.read_csv('VariableDefinitions.csv')"
   ]
  },
  {
   "cell_type": "markdown",
   "metadata": {
    "id": "MCP0H7tSicUU"
   },
   "source": [
    "### Some basic EDA"
   ]
  },
  {
   "cell_type": "code",
   "execution_count": 5,
   "metadata": {
    "colab": {
     "base_uri": "https://localhost:8080/",
     "height": 421
    },
    "id": "8D-b3rTKAbmq",
    "outputId": "d8853b2d-c57d-4f79-ac0e-8fd9d5450a1c"
   },
   "outputs": [
    {
     "data": {
      "text/html": [
       "<div>\n",
       "<style scoped>\n",
       "    .dataframe tbody tr th:only-of-type {\n",
       "        vertical-align: middle;\n",
       "    }\n",
       "\n",
       "    .dataframe tbody tr th {\n",
       "        vertical-align: top;\n",
       "    }\n",
       "\n",
       "    .dataframe thead th {\n",
       "        text-align: right;\n",
       "    }\n",
       "</style>\n",
       "<table border=\"1\" class=\"dataframe\">\n",
       "  <thead>\n",
       "    <tr style=\"text-align: right;\">\n",
       "      <th></th>\n",
       "      <th>Variable Definitions</th>\n",
       "      <th>Unnamed: 1</th>\n",
       "    </tr>\n",
       "  </thead>\n",
       "  <tbody>\n",
       "    <tr>\n",
       "      <th>0</th>\n",
       "      <td>country</td>\n",
       "      <td>Country interviewee is in.</td>\n",
       "    </tr>\n",
       "    <tr>\n",
       "      <th>1</th>\n",
       "      <td>year</td>\n",
       "      <td>Year survey was done in.</td>\n",
       "    </tr>\n",
       "    <tr>\n",
       "      <th>2</th>\n",
       "      <td>uniqueid</td>\n",
       "      <td>Unique identifier for each interviewee</td>\n",
       "    </tr>\n",
       "    <tr>\n",
       "      <th>3</th>\n",
       "      <td>location_type</td>\n",
       "      <td>Type of location: Rural, Urban</td>\n",
       "    </tr>\n",
       "    <tr>\n",
       "      <th>4</th>\n",
       "      <td>cellphone_access</td>\n",
       "      <td>If interviewee has access to a cellphone: Yes, No</td>\n",
       "    </tr>\n",
       "    <tr>\n",
       "      <th>5</th>\n",
       "      <td>household_size</td>\n",
       "      <td>Number of people living in one house</td>\n",
       "    </tr>\n",
       "    <tr>\n",
       "      <th>6</th>\n",
       "      <td>age_of_respondent</td>\n",
       "      <td>The age of the interviewee</td>\n",
       "    </tr>\n",
       "    <tr>\n",
       "      <th>7</th>\n",
       "      <td>gender_of_respondent</td>\n",
       "      <td>Gender of interviewee: Male, Female</td>\n",
       "    </tr>\n",
       "    <tr>\n",
       "      <th>8</th>\n",
       "      <td>relationship_with_head</td>\n",
       "      <td>The interviewee’s relationship with the head o...</td>\n",
       "    </tr>\n",
       "    <tr>\n",
       "      <th>9</th>\n",
       "      <td>marital_status</td>\n",
       "      <td>The martial status of the interviewee: Married...</td>\n",
       "    </tr>\n",
       "    <tr>\n",
       "      <th>10</th>\n",
       "      <td>education_level</td>\n",
       "      <td>Highest level of education: No formal educatio...</td>\n",
       "    </tr>\n",
       "    <tr>\n",
       "      <th>11</th>\n",
       "      <td>job_type</td>\n",
       "      <td>Type of job interviewee has: Farming and Fishi...</td>\n",
       "    </tr>\n",
       "  </tbody>\n",
       "</table>\n",
       "</div>"
      ],
      "text/plain": [
       "      Variable Definitions                                         Unnamed: 1\n",
       "0                  country                         Country interviewee is in.\n",
       "1                     year                           Year survey was done in.\n",
       "2                 uniqueid             Unique identifier for each interviewee\n",
       "3            location_type                     Type of location: Rural, Urban\n",
       "4         cellphone_access  If interviewee has access to a cellphone: Yes, No\n",
       "5           household_size               Number of people living in one house\n",
       "6        age_of_respondent                         The age of the interviewee\n",
       "7     gender_of_respondent                Gender of interviewee: Male, Female\n",
       "8   relationship_with_head  The interviewee’s relationship with the head o...\n",
       "9           marital_status  The martial status of the interviewee: Married...\n",
       "10         education_level  Highest level of education: No formal educatio...\n",
       "11                job_type  Type of job interviewee has: Farming and Fishi..."
      ]
     },
     "execution_count": 5,
     "metadata": {},
     "output_type": "execute_result"
    }
   ],
   "source": [
    "# Let's view the variables\n",
    "variables"
   ]
  },
  {
   "cell_type": "code",
   "execution_count": 6,
   "metadata": {
    "colab": {
     "base_uri": "https://localhost:8080/",
     "height": 326
    },
    "id": "Mcqp5mXG22ye",
    "outputId": "6cfd6bc2-5cb4-4e9b-fc7c-ef2e506dd04f"
   },
   "outputs": [
    {
     "data": {
      "text/html": [
       "<div>\n",
       "<style scoped>\n",
       "    .dataframe tbody tr th:only-of-type {\n",
       "        vertical-align: middle;\n",
       "    }\n",
       "\n",
       "    .dataframe tbody tr th {\n",
       "        vertical-align: top;\n",
       "    }\n",
       "\n",
       "    .dataframe thead th {\n",
       "        text-align: right;\n",
       "    }\n",
       "</style>\n",
       "<table border=\"1\" class=\"dataframe\">\n",
       "  <thead>\n",
       "    <tr style=\"text-align: right;\">\n",
       "      <th></th>\n",
       "      <th>country</th>\n",
       "      <th>year</th>\n",
       "      <th>uniqueid</th>\n",
       "      <th>bank_account</th>\n",
       "      <th>location_type</th>\n",
       "      <th>cellphone_access</th>\n",
       "      <th>household_size</th>\n",
       "      <th>age_of_respondent</th>\n",
       "      <th>gender_of_respondent</th>\n",
       "      <th>relationship_with_head</th>\n",
       "      <th>marital_status</th>\n",
       "      <th>education_level</th>\n",
       "      <th>job_type</th>\n",
       "    </tr>\n",
       "  </thead>\n",
       "  <tbody>\n",
       "    <tr>\n",
       "      <th>0</th>\n",
       "      <td>Kenya</td>\n",
       "      <td>2018</td>\n",
       "      <td>uniqueid_1</td>\n",
       "      <td>Yes</td>\n",
       "      <td>Rural</td>\n",
       "      <td>Yes</td>\n",
       "      <td>3</td>\n",
       "      <td>24</td>\n",
       "      <td>Female</td>\n",
       "      <td>Spouse</td>\n",
       "      <td>Married/Living together</td>\n",
       "      <td>Secondary education</td>\n",
       "      <td>Self employed</td>\n",
       "    </tr>\n",
       "    <tr>\n",
       "      <th>1</th>\n",
       "      <td>Kenya</td>\n",
       "      <td>2018</td>\n",
       "      <td>uniqueid_2</td>\n",
       "      <td>No</td>\n",
       "      <td>Rural</td>\n",
       "      <td>No</td>\n",
       "      <td>5</td>\n",
       "      <td>70</td>\n",
       "      <td>Female</td>\n",
       "      <td>Head of Household</td>\n",
       "      <td>Widowed</td>\n",
       "      <td>No formal education</td>\n",
       "      <td>Government Dependent</td>\n",
       "    </tr>\n",
       "    <tr>\n",
       "      <th>2</th>\n",
       "      <td>Kenya</td>\n",
       "      <td>2018</td>\n",
       "      <td>uniqueid_3</td>\n",
       "      <td>Yes</td>\n",
       "      <td>Urban</td>\n",
       "      <td>Yes</td>\n",
       "      <td>5</td>\n",
       "      <td>26</td>\n",
       "      <td>Male</td>\n",
       "      <td>Other relative</td>\n",
       "      <td>Single/Never Married</td>\n",
       "      <td>Vocational/Specialised training</td>\n",
       "      <td>Self employed</td>\n",
       "    </tr>\n",
       "    <tr>\n",
       "      <th>3</th>\n",
       "      <td>Kenya</td>\n",
       "      <td>2018</td>\n",
       "      <td>uniqueid_4</td>\n",
       "      <td>No</td>\n",
       "      <td>Rural</td>\n",
       "      <td>Yes</td>\n",
       "      <td>5</td>\n",
       "      <td>34</td>\n",
       "      <td>Female</td>\n",
       "      <td>Head of Household</td>\n",
       "      <td>Married/Living together</td>\n",
       "      <td>Primary education</td>\n",
       "      <td>Formally employed Private</td>\n",
       "    </tr>\n",
       "    <tr>\n",
       "      <th>4</th>\n",
       "      <td>Kenya</td>\n",
       "      <td>2018</td>\n",
       "      <td>uniqueid_5</td>\n",
       "      <td>No</td>\n",
       "      <td>Urban</td>\n",
       "      <td>No</td>\n",
       "      <td>8</td>\n",
       "      <td>26</td>\n",
       "      <td>Male</td>\n",
       "      <td>Child</td>\n",
       "      <td>Single/Never Married</td>\n",
       "      <td>Primary education</td>\n",
       "      <td>Informally employed</td>\n",
       "    </tr>\n",
       "  </tbody>\n",
       "</table>\n",
       "</div>"
      ],
      "text/plain": [
       "  country  year    uniqueid bank_account location_type cellphone_access  \\\n",
       "0   Kenya  2018  uniqueid_1          Yes         Rural              Yes   \n",
       "1   Kenya  2018  uniqueid_2           No         Rural               No   \n",
       "2   Kenya  2018  uniqueid_3          Yes         Urban              Yes   \n",
       "3   Kenya  2018  uniqueid_4           No         Rural              Yes   \n",
       "4   Kenya  2018  uniqueid_5           No         Urban               No   \n",
       "\n",
       "   household_size  age_of_respondent gender_of_respondent  \\\n",
       "0               3                 24               Female   \n",
       "1               5                 70               Female   \n",
       "2               5                 26                 Male   \n",
       "3               5                 34               Female   \n",
       "4               8                 26                 Male   \n",
       "\n",
       "  relationship_with_head           marital_status  \\\n",
       "0                 Spouse  Married/Living together   \n",
       "1      Head of Household                  Widowed   \n",
       "2         Other relative     Single/Never Married   \n",
       "3      Head of Household  Married/Living together   \n",
       "4                  Child     Single/Never Married   \n",
       "\n",
       "                   education_level                   job_type  \n",
       "0              Secondary education              Self employed  \n",
       "1              No formal education       Government Dependent  \n",
       "2  Vocational/Specialised training              Self employed  \n",
       "3                Primary education  Formally employed Private  \n",
       "4                Primary education        Informally employed  "
      ]
     },
     "execution_count": 6,
     "metadata": {},
     "output_type": "execute_result"
    }
   ],
   "source": [
    "# Preview the first five rows of the train set\n",
    "train.head()"
   ]
  },
  {
   "cell_type": "code",
   "execution_count": 7,
   "metadata": {
    "colab": {
     "base_uri": "https://localhost:8080/",
     "height": 343
    },
    "id": "XADqPrMo22yf",
    "outputId": "d9f3eb20-8898-4b2c-fdb5-e72bd56dc9cb"
   },
   "outputs": [
    {
     "data": {
      "text/html": [
       "<div>\n",
       "<style scoped>\n",
       "    .dataframe tbody tr th:only-of-type {\n",
       "        vertical-align: middle;\n",
       "    }\n",
       "\n",
       "    .dataframe tbody tr th {\n",
       "        vertical-align: top;\n",
       "    }\n",
       "\n",
       "    .dataframe thead th {\n",
       "        text-align: right;\n",
       "    }\n",
       "</style>\n",
       "<table border=\"1\" class=\"dataframe\">\n",
       "  <thead>\n",
       "    <tr style=\"text-align: right;\">\n",
       "      <th></th>\n",
       "      <th>country</th>\n",
       "      <th>year</th>\n",
       "      <th>uniqueid</th>\n",
       "      <th>location_type</th>\n",
       "      <th>cellphone_access</th>\n",
       "      <th>household_size</th>\n",
       "      <th>age_of_respondent</th>\n",
       "      <th>gender_of_respondent</th>\n",
       "      <th>relationship_with_head</th>\n",
       "      <th>marital_status</th>\n",
       "      <th>education_level</th>\n",
       "      <th>job_type</th>\n",
       "    </tr>\n",
       "  </thead>\n",
       "  <tbody>\n",
       "    <tr>\n",
       "      <th>0</th>\n",
       "      <td>Kenya</td>\n",
       "      <td>2018</td>\n",
       "      <td>uniqueid_6056</td>\n",
       "      <td>Urban</td>\n",
       "      <td>Yes</td>\n",
       "      <td>3</td>\n",
       "      <td>30</td>\n",
       "      <td>Male</td>\n",
       "      <td>Head of Household</td>\n",
       "      <td>Married/Living together</td>\n",
       "      <td>Secondary education</td>\n",
       "      <td>Formally employed Government</td>\n",
       "    </tr>\n",
       "    <tr>\n",
       "      <th>1</th>\n",
       "      <td>Kenya</td>\n",
       "      <td>2018</td>\n",
       "      <td>uniqueid_6060</td>\n",
       "      <td>Urban</td>\n",
       "      <td>Yes</td>\n",
       "      <td>7</td>\n",
       "      <td>51</td>\n",
       "      <td>Male</td>\n",
       "      <td>Head of Household</td>\n",
       "      <td>Married/Living together</td>\n",
       "      <td>Vocational/Specialised training</td>\n",
       "      <td>Formally employed Private</td>\n",
       "    </tr>\n",
       "    <tr>\n",
       "      <th>2</th>\n",
       "      <td>Kenya</td>\n",
       "      <td>2018</td>\n",
       "      <td>uniqueid_6065</td>\n",
       "      <td>Rural</td>\n",
       "      <td>No</td>\n",
       "      <td>3</td>\n",
       "      <td>77</td>\n",
       "      <td>Female</td>\n",
       "      <td>Parent</td>\n",
       "      <td>Married/Living together</td>\n",
       "      <td>No formal education</td>\n",
       "      <td>Remittance Dependent</td>\n",
       "    </tr>\n",
       "    <tr>\n",
       "      <th>3</th>\n",
       "      <td>Kenya</td>\n",
       "      <td>2018</td>\n",
       "      <td>uniqueid_6072</td>\n",
       "      <td>Rural</td>\n",
       "      <td>No</td>\n",
       "      <td>6</td>\n",
       "      <td>39</td>\n",
       "      <td>Female</td>\n",
       "      <td>Head of Household</td>\n",
       "      <td>Married/Living together</td>\n",
       "      <td>Primary education</td>\n",
       "      <td>Remittance Dependent</td>\n",
       "    </tr>\n",
       "    <tr>\n",
       "      <th>4</th>\n",
       "      <td>Kenya</td>\n",
       "      <td>2018</td>\n",
       "      <td>uniqueid_6073</td>\n",
       "      <td>Urban</td>\n",
       "      <td>No</td>\n",
       "      <td>3</td>\n",
       "      <td>16</td>\n",
       "      <td>Male</td>\n",
       "      <td>Child</td>\n",
       "      <td>Single/Never Married</td>\n",
       "      <td>Secondary education</td>\n",
       "      <td>Remittance Dependent</td>\n",
       "    </tr>\n",
       "  </tbody>\n",
       "</table>\n",
       "</div>"
      ],
      "text/plain": [
       "  country  year       uniqueid location_type cellphone_access  household_size  \\\n",
       "0   Kenya  2018  uniqueid_6056         Urban              Yes               3   \n",
       "1   Kenya  2018  uniqueid_6060         Urban              Yes               7   \n",
       "2   Kenya  2018  uniqueid_6065         Rural               No               3   \n",
       "3   Kenya  2018  uniqueid_6072         Rural               No               6   \n",
       "4   Kenya  2018  uniqueid_6073         Urban               No               3   \n",
       "\n",
       "   age_of_respondent gender_of_respondent relationship_with_head  \\\n",
       "0                 30                 Male      Head of Household   \n",
       "1                 51                 Male      Head of Household   \n",
       "2                 77               Female                 Parent   \n",
       "3                 39               Female      Head of Household   \n",
       "4                 16                 Male                  Child   \n",
       "\n",
       "            marital_status                  education_level  \\\n",
       "0  Married/Living together              Secondary education   \n",
       "1  Married/Living together  Vocational/Specialised training   \n",
       "2  Married/Living together              No formal education   \n",
       "3  Married/Living together                Primary education   \n",
       "4     Single/Never Married              Secondary education   \n",
       "\n",
       "                       job_type  \n",
       "0  Formally employed Government  \n",
       "1     Formally employed Private  \n",
       "2          Remittance Dependent  \n",
       "3          Remittance Dependent  \n",
       "4          Remittance Dependent  "
      ]
     },
     "execution_count": 7,
     "metadata": {},
     "output_type": "execute_result"
    }
   ],
   "source": [
    "# Preview the first five rows of the test set\n",
    "test.head()"
   ]
  },
  {
   "cell_type": "code",
   "execution_count": 8,
   "metadata": {
    "colab": {
     "base_uri": "https://localhost:8080/",
     "height": 204
    },
    "id": "iwZ0JOrk22yg",
    "outputId": "ab8f0000-542e-43a5-a831-937fc9b6b047"
   },
   "outputs": [
    {
     "data": {
      "text/html": [
       "<div>\n",
       "<style scoped>\n",
       "    .dataframe tbody tr th:only-of-type {\n",
       "        vertical-align: middle;\n",
       "    }\n",
       "\n",
       "    .dataframe tbody tr th {\n",
       "        vertical-align: top;\n",
       "    }\n",
       "\n",
       "    .dataframe thead th {\n",
       "        text-align: right;\n",
       "    }\n",
       "</style>\n",
       "<table border=\"1\" class=\"dataframe\">\n",
       "  <thead>\n",
       "    <tr style=\"text-align: right;\">\n",
       "      <th></th>\n",
       "      <th>unique_id</th>\n",
       "      <th>bank_account</th>\n",
       "    </tr>\n",
       "  </thead>\n",
       "  <tbody>\n",
       "    <tr>\n",
       "      <th>0</th>\n",
       "      <td>uniqueid_1 x Kenya</td>\n",
       "      <td>0</td>\n",
       "    </tr>\n",
       "    <tr>\n",
       "      <th>1</th>\n",
       "      <td>uniqueid_2 x Kenya</td>\n",
       "      <td>0</td>\n",
       "    </tr>\n",
       "    <tr>\n",
       "      <th>2</th>\n",
       "      <td>uniqueid_3 x Kenya</td>\n",
       "      <td>0</td>\n",
       "    </tr>\n",
       "    <tr>\n",
       "      <th>3</th>\n",
       "      <td>uniqueid_4 x Kenya</td>\n",
       "      <td>0</td>\n",
       "    </tr>\n",
       "    <tr>\n",
       "      <th>4</th>\n",
       "      <td>uniqueid_5 x Kenya</td>\n",
       "      <td>0</td>\n",
       "    </tr>\n",
       "  </tbody>\n",
       "</table>\n",
       "</div>"
      ],
      "text/plain": [
       "            unique_id  bank_account\n",
       "0  uniqueid_1 x Kenya             0\n",
       "1  uniqueid_2 x Kenya             0\n",
       "2  uniqueid_3 x Kenya             0\n",
       "3  uniqueid_4 x Kenya             0\n",
       "4  uniqueid_5 x Kenya             0"
      ]
     },
     "execution_count": 8,
     "metadata": {},
     "output_type": "execute_result"
    }
   ],
   "source": [
    "# Preview the first five rows of the sample submission file\n",
    "ss.head()"
   ]
  },
  {
   "cell_type": "code",
   "execution_count": 9,
   "metadata": {
    "colab": {
     "base_uri": "https://localhost:8080/"
    },
    "id": "PpiShcfRIM58",
    "outputId": "4c582207-f858-412d-d3ba-902841b77a06"
   },
   "outputs": [
    {
     "name": "stdout",
     "output_type": "stream",
     "text": [
      "The shape of the train set is: (23524, 13)\n",
      "The shape of the test set is: (10086, 12)\n"
     ]
    }
   ],
   "source": [
    "# Check the shape of the train and test sets\n",
    "print(f'The shape of the train set is: {train.shape}\\nThe shape of the test set is: {test.shape}')"
   ]
  },
  {
   "cell_type": "markdown",
   "metadata": {
    "id": "oo9bQICy22yi"
   },
   "source": [
    "## Combine train and test set for easy preprocessing "
   ]
  },
  {
   "cell_type": "code",
   "execution_count": 10,
   "metadata": {
    "id": "hkQYtG_KLWX_"
   },
   "outputs": [],
   "source": [
    "# mapping the bank account with 0 to NO and 1 to YES\n",
    "train['bank_account'] = train['bank_account'].map({'No':0, 'Yes':1})"
   ]
  },
  {
   "cell_type": "code",
   "execution_count": 11,
   "metadata": {},
   "outputs": [
    {
     "data": {
      "text/plain": [
       "3312"
      ]
     },
     "execution_count": 11,
     "metadata": {},
     "output_type": "execute_result"
    }
   ],
   "source": [
    "train['bank_account'].sum()"
   ]
  },
  {
   "cell_type": "code",
   "execution_count": 12,
   "metadata": {},
   "outputs": [
    {
     "data": {
      "text/plain": [
       "country                   23524\n",
       "year                      23524\n",
       "uniqueid                  23524\n",
       "bank_account              23524\n",
       "location_type             23524\n",
       "cellphone_access          23524\n",
       "household_size            23524\n",
       "age_of_respondent         23524\n",
       "gender_of_respondent      23524\n",
       "relationship_with_head    23524\n",
       "marital_status            23524\n",
       "education_level           23524\n",
       "job_type                  23524\n",
       "dtype: int64"
      ]
     },
     "execution_count": 12,
     "metadata": {},
     "output_type": "execute_result"
    }
   ],
   "source": [
    "train.isnull().count()"
   ]
  },
  {
   "cell_type": "code",
   "execution_count": 13,
   "metadata": {},
   "outputs": [
    {
     "data": {
      "text/plain": [
       "country                   10086\n",
       "year                      10086\n",
       "uniqueid                  10086\n",
       "location_type             10086\n",
       "cellphone_access          10086\n",
       "household_size            10086\n",
       "age_of_respondent         10086\n",
       "gender_of_respondent      10086\n",
       "relationship_with_head    10086\n",
       "marital_status            10086\n",
       "education_level           10086\n",
       "job_type                  10086\n",
       "dtype: int64"
      ]
     },
     "execution_count": 13,
     "metadata": {},
     "output_type": "execute_result"
    }
   ],
   "source": [
    "test.isnull().count()"
   ]
  },
  {
   "cell_type": "code",
   "execution_count": 14,
   "metadata": {},
   "outputs": [],
   "source": [
    "# test data mapping\n",
    "#test['location_type'] = test['location_type'].map({'Rural':0, 'Urban':1})\n",
    "#test['cellphone_access'] = test['cellphone_access'].map({'No':0, 'Yes':1})\n",
    "#test['gender_of_respondent'] = test['gender_of_respondent'].map({'Female':0, 'Male':1})"
   ]
  },
  {
   "cell_type": "code",
   "execution_count": 15,
   "metadata": {
    "colab": {
     "base_uri": "https://localhost:8080/"
    },
    "id": "LMBnOTvv22yi",
    "outputId": "489d3013-bd41-4c41-f21e-24d12188af82"
   },
   "outputs": [],
   "source": [
    "# # Combine train and test set\n",
    "# ntrain = train.shape[0] # to be used to split train and test set from the combined dataframe\n",
    "\n",
    "# all_data = pd.concat((train, test)).reset_index(drop=True)\n",
    "# print(f'The shape of the combined dataframe is: {all_data.shape}')"
   ]
  },
  {
   "cell_type": "code",
   "execution_count": 16,
   "metadata": {
    "colab": {
     "base_uri": "https://localhost:8080/",
     "height": 309
    },
    "id": "Enhuekp922yj",
    "outputId": "421c0680-9b00-432b-cb07-4cf7dfbaf8a0",
    "scrolled": true
   },
   "outputs": [],
   "source": [
    "# # Preview the last five rows of the combined dataframe\n",
    "# all_data.tail()"
   ]
  },
  {
   "cell_type": "code",
   "execution_count": 17,
   "metadata": {},
   "outputs": [],
   "source": [
    "# df = all_data[['gender_of_respondent','location_type','household_size']]"
   ]
  },
  {
   "cell_type": "code",
   "execution_count": 18,
   "metadata": {},
   "outputs": [],
   "source": [
    "# # define categorical variables of df\n",
    "# df_categorical_features_column = [0,1]"
   ]
  },
  {
   "cell_type": "code",
   "execution_count": 17,
   "metadata": {},
   "outputs": [],
   "source": [
    "# # Elbow curve to find optimal K\n",
    "# # choosing optimal k\n",
    "# cost = []\n",
    "# K = range(1,8)\n",
    "# mark_array = df.values\n",
    "# for num_clusters in list(K):\n",
    "#     try:\n",
    "#         kproto = KPrototypes(n_clusters=num_clusters, verbose=0, max_iter=20)\n",
    "#         kproto.fit(mark_array, categorical=df_categorical_features_column)\n",
    "#         cost.append(kproto.cost_)\n",
    "#         print('Cluster initiation: {}'.format(num_clusters))\n",
    "        \n",
    "#     except:\n",
    "#         break\n",
    "        \n",
    "# plt.plot(K, cost, 'bx-')\n",
    "# plt.xlabel('No. of clusters')\n",
    "# plt.ylabel('Cost')\n",
    "# plt.title('Elbow Method For Optimal k')\n",
    "# plt.show()"
   ]
  },
  {
   "cell_type": "code",
   "execution_count": 18,
   "metadata": {},
   "outputs": [],
   "source": [
    "# # Building the model with 3 clusters\n",
    "# num_cluster = 3\n",
    "\n",
    "# kproto = KPrototypes(n_clusters=num_cluster, verbose=0, max_iter=20).fit(df.values, categorical=df_categorical_features_column)\n",
    "# clusters = kproto.predict(mark_array, categorical=df_categorical_features_column)"
   ]
  },
  {
   "cell_type": "code",
   "execution_count": 19,
   "metadata": {},
   "outputs": [],
   "source": [
    "# test.age_of_respondent.unique()"
   ]
  },
  {
   "cell_type": "code",
   "execution_count": 20,
   "metadata": {},
   "outputs": [],
   "source": [
    "# # function for categorzing age of respondents\n",
    "# def age_of_respondent_cat(x):\n",
    "#     if x < 40:\n",
    "#         return 'youth'\n",
    "#     elif x >= 40 and x < 65:\n",
    "#         return 'life'\n",
    "#     elif x >= 65:\n",
    "#         return 'old'"
   ]
  },
  {
   "cell_type": "code",
   "execution_count": 21,
   "metadata": {},
   "outputs": [],
   "source": [
    "# all_data['age_of_respondent'] = all_data['age_of_respondent'].apply(age_of_respondent_cat)"
   ]
  },
  {
   "cell_type": "code",
   "execution_count": 21,
   "metadata": {},
   "outputs": [],
   "source": [
    "# all_data.education_level.unique()"
   ]
  },
  {
   "cell_type": "code",
   "execution_count": 17,
   "metadata": {},
   "outputs": [],
   "source": [
    "# all_data['education_level'].replace(['No formal education', 'Primary education'], 'below_secondary', inplace=True)"
   ]
  },
  {
   "cell_type": "code",
   "execution_count": 18,
   "metadata": {},
   "outputs": [],
   "source": [
    "# all_data['education_level'].replace(['Tertiary education', 'Vocational/Specialised training'], 'Post secondary', inplace=True)"
   ]
  },
  {
   "cell_type": "code",
   "execution_count": 19,
   "metadata": {},
   "outputs": [],
   "source": [
    "# all_data['education_level'].replace('Other/Dont know/RTA', 'below_secondary', inplace=True)"
   ]
  },
  {
   "cell_type": "code",
   "execution_count": 22,
   "metadata": {
    "colab": {
     "base_uri": "https://localhost:8080/"
    },
    "id": "Zmhi38ur22yj",
    "outputId": "ebc4d76c-5074-4082-d567-b49baff1f798"
   },
   "outputs": [],
   "source": [
    "# # Check the column names and datatypes\n",
    "# all_data.info()"
   ]
  },
  {
   "cell_type": "code",
   "execution_count": 23,
   "metadata": {},
   "outputs": [],
   "source": [
    "# all_data['age_of_respondent'].unique()"
   ]
  },
  {
   "cell_type": "code",
   "execution_count": 24,
   "metadata": {},
   "outputs": [],
   "source": [
    "# all_data['education_level'].unique()"
   ]
  },
  {
   "cell_type": "code",
   "execution_count": 25,
   "metadata": {},
   "outputs": [],
   "source": [
    "# # function for categorzing household size\n",
    "# def household_size_cat(x):\n",
    "#     if x <= 2:\n",
    "#         return 'small'\n",
    "#     elif x > 2 and x <= 4:\n",
    "#         return 'medium'\n",
    "#     elif x > 4:\n",
    "#         return 'big'"
   ]
  },
  {
   "cell_type": "code",
   "execution_count": 24,
   "metadata": {},
   "outputs": [],
   "source": [
    "# all_data['household_size'] = all_data['household_size'].apply(household_size_cat)"
   ]
  },
  {
   "cell_type": "code",
   "execution_count": 26,
   "metadata": {},
   "outputs": [],
   "source": [
    "# all_data.household_size.unique()"
   ]
  },
  {
   "cell_type": "code",
   "execution_count": 27,
   "metadata": {},
   "outputs": [],
   "source": [
    "# all_data.relationship_with_head.unique()"
   ]
  },
  {
   "cell_type": "code",
   "execution_count": 28,
   "metadata": {},
   "outputs": [],
   "source": [
    "# all_data['relationship_with_head'].replace(['Other relative','Other non-relatives'], 'other', inplace=True)"
   ]
  },
  {
   "cell_type": "code",
   "execution_count": 29,
   "metadata": {},
   "outputs": [],
   "source": [
    "# all_data.marital_status.value_counts()"
   ]
  },
  {
   "cell_type": "code",
   "execution_count": 29,
   "metadata": {},
   "outputs": [],
   "source": [
    "# all_data['marital_status'].replace('Dont know', 'Divorced/Seperated', inplace=True)"
   ]
  },
  {
   "cell_type": "code",
   "execution_count": 16,
   "metadata": {},
   "outputs": [],
   "source": [
    "# Loading the csv file created in pycaret\n",
    "all_data = pd.read_csv('all data_updated.csv')"
   ]
  },
  {
   "cell_type": "code",
   "execution_count": 17,
   "metadata": {},
   "outputs": [
    {
     "data": {
      "text/html": [
       "<div>\n",
       "<style scoped>\n",
       "    .dataframe tbody tr th:only-of-type {\n",
       "        vertical-align: middle;\n",
       "    }\n",
       "\n",
       "    .dataframe tbody tr th {\n",
       "        vertical-align: top;\n",
       "    }\n",
       "\n",
       "    .dataframe thead th {\n",
       "        text-align: right;\n",
       "    }\n",
       "</style>\n",
       "<table border=\"1\" class=\"dataframe\">\n",
       "  <thead>\n",
       "    <tr style=\"text-align: right;\">\n",
       "      <th></th>\n",
       "      <th>country</th>\n",
       "      <th>year</th>\n",
       "      <th>bank_account</th>\n",
       "      <th>location_type</th>\n",
       "      <th>cellphone_access</th>\n",
       "      <th>household_size</th>\n",
       "      <th>age_of_respondent</th>\n",
       "      <th>gender_of_respondent</th>\n",
       "      <th>relationship_with_head</th>\n",
       "      <th>marital_status</th>\n",
       "      <th>education_level</th>\n",
       "      <th>job_type</th>\n",
       "      <th>clusters</th>\n",
       "      <th>house_size_cat</th>\n",
       "      <th>compress_edu_leve</th>\n",
       "      <th>bank_depend</th>\n",
       "      <th>age_of_respondent_categ</th>\n",
       "    </tr>\n",
       "  </thead>\n",
       "  <tbody>\n",
       "    <tr>\n",
       "      <th>0</th>\n",
       "      <td>Kenya</td>\n",
       "      <td>2018</td>\n",
       "      <td>1.0</td>\n",
       "      <td>Rural</td>\n",
       "      <td>Yes</td>\n",
       "      <td>3</td>\n",
       "      <td>24</td>\n",
       "      <td>Female</td>\n",
       "      <td>Spouse</td>\n",
       "      <td>Married/Living together</td>\n",
       "      <td>Secondary education</td>\n",
       "      <td>Self employed</td>\n",
       "      <td>0</td>\n",
       "      <td>medium</td>\n",
       "      <td>Secondary education</td>\n",
       "      <td>Non Bank Account Dependent</td>\n",
       "      <td>youth</td>\n",
       "    </tr>\n",
       "    <tr>\n",
       "      <th>1</th>\n",
       "      <td>Kenya</td>\n",
       "      <td>2018</td>\n",
       "      <td>0.0</td>\n",
       "      <td>Rural</td>\n",
       "      <td>No</td>\n",
       "      <td>5</td>\n",
       "      <td>70</td>\n",
       "      <td>Female</td>\n",
       "      <td>Head of Household</td>\n",
       "      <td>Widowed</td>\n",
       "      <td>No formal education</td>\n",
       "      <td>Government Dependent</td>\n",
       "      <td>0</td>\n",
       "      <td>large</td>\n",
       "      <td>Below Secondary</td>\n",
       "      <td>Bank Account Dependent</td>\n",
       "      <td>old</td>\n",
       "    </tr>\n",
       "    <tr>\n",
       "      <th>2</th>\n",
       "      <td>Kenya</td>\n",
       "      <td>2018</td>\n",
       "      <td>1.0</td>\n",
       "      <td>Urban</td>\n",
       "      <td>Yes</td>\n",
       "      <td>5</td>\n",
       "      <td>26</td>\n",
       "      <td>Male</td>\n",
       "      <td>Other</td>\n",
       "      <td>Single/Never Married</td>\n",
       "      <td>Vocational/Specialised training</td>\n",
       "      <td>Self employed</td>\n",
       "      <td>0</td>\n",
       "      <td>large</td>\n",
       "      <td>Post Secondary</td>\n",
       "      <td>Non Bank Account Dependent</td>\n",
       "      <td>youth</td>\n",
       "    </tr>\n",
       "    <tr>\n",
       "      <th>3</th>\n",
       "      <td>Kenya</td>\n",
       "      <td>2018</td>\n",
       "      <td>0.0</td>\n",
       "      <td>Rural</td>\n",
       "      <td>Yes</td>\n",
       "      <td>5</td>\n",
       "      <td>34</td>\n",
       "      <td>Female</td>\n",
       "      <td>Head of Household</td>\n",
       "      <td>Married/Living together</td>\n",
       "      <td>Primary education</td>\n",
       "      <td>Formally employed Private</td>\n",
       "      <td>0</td>\n",
       "      <td>large</td>\n",
       "      <td>Below Secondary</td>\n",
       "      <td>Bank Account Dependent</td>\n",
       "      <td>youth</td>\n",
       "    </tr>\n",
       "    <tr>\n",
       "      <th>4</th>\n",
       "      <td>Kenya</td>\n",
       "      <td>2018</td>\n",
       "      <td>0.0</td>\n",
       "      <td>Urban</td>\n",
       "      <td>No</td>\n",
       "      <td>8</td>\n",
       "      <td>26</td>\n",
       "      <td>Male</td>\n",
       "      <td>Child</td>\n",
       "      <td>Single/Never Married</td>\n",
       "      <td>Primary education</td>\n",
       "      <td>Informally employed</td>\n",
       "      <td>1</td>\n",
       "      <td>large</td>\n",
       "      <td>Below Secondary</td>\n",
       "      <td>Non Bank Account Dependent</td>\n",
       "      <td>youth</td>\n",
       "    </tr>\n",
       "  </tbody>\n",
       "</table>\n",
       "</div>"
      ],
      "text/plain": [
       "  country  year  bank_account location_type cellphone_access  household_size  \\\n",
       "0   Kenya  2018           1.0         Rural              Yes               3   \n",
       "1   Kenya  2018           0.0         Rural               No               5   \n",
       "2   Kenya  2018           1.0         Urban              Yes               5   \n",
       "3   Kenya  2018           0.0         Rural              Yes               5   \n",
       "4   Kenya  2018           0.0         Urban               No               8   \n",
       "\n",
       "   age_of_respondent gender_of_respondent relationship_with_head  \\\n",
       "0                 24               Female                 Spouse   \n",
       "1                 70               Female      Head of Household   \n",
       "2                 26                 Male                  Other   \n",
       "3                 34               Female      Head of Household   \n",
       "4                 26                 Male                  Child   \n",
       "\n",
       "            marital_status                  education_level  \\\n",
       "0  Married/Living together              Secondary education   \n",
       "1                  Widowed              No formal education   \n",
       "2     Single/Never Married  Vocational/Specialised training   \n",
       "3  Married/Living together                Primary education   \n",
       "4     Single/Never Married                Primary education   \n",
       "\n",
       "                    job_type  clusters house_size_cat    compress_edu_leve  \\\n",
       "0              Self employed         0         medium  Secondary education   \n",
       "1       Government Dependent         0          large      Below Secondary   \n",
       "2              Self employed         0          large       Post Secondary   \n",
       "3  Formally employed Private         0          large      Below Secondary   \n",
       "4        Informally employed         1          large      Below Secondary   \n",
       "\n",
       "                  bank_depend age_of_respondent_categ  \n",
       "0  Non Bank Account Dependent                   youth  \n",
       "1      Bank Account Dependent                     old  \n",
       "2  Non Bank Account Dependent                   youth  \n",
       "3      Bank Account Dependent                   youth  \n",
       "4  Non Bank Account Dependent                   youth  "
      ]
     },
     "execution_count": 17,
     "metadata": {},
     "output_type": "execute_result"
    }
   ],
   "source": [
    "all_data.head()"
   ]
  },
  {
   "cell_type": "code",
   "execution_count": 18,
   "metadata": {},
   "outputs": [
    {
     "data": {
      "text/html": [
       "<div>\n",
       "<style scoped>\n",
       "    .dataframe tbody tr th:only-of-type {\n",
       "        vertical-align: middle;\n",
       "    }\n",
       "\n",
       "    .dataframe tbody tr th {\n",
       "        vertical-align: top;\n",
       "    }\n",
       "\n",
       "    .dataframe thead th {\n",
       "        text-align: right;\n",
       "    }\n",
       "</style>\n",
       "<table border=\"1\" class=\"dataframe\">\n",
       "  <thead>\n",
       "    <tr style=\"text-align: right;\">\n",
       "      <th></th>\n",
       "      <th>country</th>\n",
       "      <th>year</th>\n",
       "      <th>bank_account</th>\n",
       "      <th>location_type</th>\n",
       "      <th>cellphone_access</th>\n",
       "      <th>household_size</th>\n",
       "      <th>age_of_respondent</th>\n",
       "      <th>gender_of_respondent</th>\n",
       "      <th>relationship_with_head</th>\n",
       "      <th>marital_status</th>\n",
       "      <th>education_level</th>\n",
       "      <th>job_type</th>\n",
       "      <th>compress_edu_leve</th>\n",
       "      <th>bank_depend</th>\n",
       "    </tr>\n",
       "  </thead>\n",
       "  <tbody>\n",
       "    <tr>\n",
       "      <th>0</th>\n",
       "      <td>Kenya</td>\n",
       "      <td>2018</td>\n",
       "      <td>1.0</td>\n",
       "      <td>Rural</td>\n",
       "      <td>Yes</td>\n",
       "      <td>3</td>\n",
       "      <td>24</td>\n",
       "      <td>Female</td>\n",
       "      <td>Spouse</td>\n",
       "      <td>Married/Living together</td>\n",
       "      <td>Secondary education</td>\n",
       "      <td>Self employed</td>\n",
       "      <td>Secondary education</td>\n",
       "      <td>Non Bank Account Dependent</td>\n",
       "    </tr>\n",
       "    <tr>\n",
       "      <th>1</th>\n",
       "      <td>Kenya</td>\n",
       "      <td>2018</td>\n",
       "      <td>0.0</td>\n",
       "      <td>Rural</td>\n",
       "      <td>No</td>\n",
       "      <td>5</td>\n",
       "      <td>70</td>\n",
       "      <td>Female</td>\n",
       "      <td>Head of Household</td>\n",
       "      <td>Widowed</td>\n",
       "      <td>No formal education</td>\n",
       "      <td>Government Dependent</td>\n",
       "      <td>Below Secondary</td>\n",
       "      <td>Bank Account Dependent</td>\n",
       "    </tr>\n",
       "    <tr>\n",
       "      <th>2</th>\n",
       "      <td>Kenya</td>\n",
       "      <td>2018</td>\n",
       "      <td>1.0</td>\n",
       "      <td>Urban</td>\n",
       "      <td>Yes</td>\n",
       "      <td>5</td>\n",
       "      <td>26</td>\n",
       "      <td>Male</td>\n",
       "      <td>Other</td>\n",
       "      <td>Single/Never Married</td>\n",
       "      <td>Vocational/Specialised training</td>\n",
       "      <td>Self employed</td>\n",
       "      <td>Post Secondary</td>\n",
       "      <td>Non Bank Account Dependent</td>\n",
       "    </tr>\n",
       "    <tr>\n",
       "      <th>3</th>\n",
       "      <td>Kenya</td>\n",
       "      <td>2018</td>\n",
       "      <td>0.0</td>\n",
       "      <td>Rural</td>\n",
       "      <td>Yes</td>\n",
       "      <td>5</td>\n",
       "      <td>34</td>\n",
       "      <td>Female</td>\n",
       "      <td>Head of Household</td>\n",
       "      <td>Married/Living together</td>\n",
       "      <td>Primary education</td>\n",
       "      <td>Formally employed Private</td>\n",
       "      <td>Below Secondary</td>\n",
       "      <td>Bank Account Dependent</td>\n",
       "    </tr>\n",
       "    <tr>\n",
       "      <th>4</th>\n",
       "      <td>Kenya</td>\n",
       "      <td>2018</td>\n",
       "      <td>0.0</td>\n",
       "      <td>Urban</td>\n",
       "      <td>No</td>\n",
       "      <td>8</td>\n",
       "      <td>26</td>\n",
       "      <td>Male</td>\n",
       "      <td>Child</td>\n",
       "      <td>Single/Never Married</td>\n",
       "      <td>Primary education</td>\n",
       "      <td>Informally employed</td>\n",
       "      <td>Below Secondary</td>\n",
       "      <td>Non Bank Account Dependent</td>\n",
       "    </tr>\n",
       "  </tbody>\n",
       "</table>\n",
       "</div>"
      ],
      "text/plain": [
       "  country  year  bank_account location_type cellphone_access  household_size  \\\n",
       "0   Kenya  2018           1.0         Rural              Yes               3   \n",
       "1   Kenya  2018           0.0         Rural               No               5   \n",
       "2   Kenya  2018           1.0         Urban              Yes               5   \n",
       "3   Kenya  2018           0.0         Rural              Yes               5   \n",
       "4   Kenya  2018           0.0         Urban               No               8   \n",
       "\n",
       "   age_of_respondent gender_of_respondent relationship_with_head  \\\n",
       "0                 24               Female                 Spouse   \n",
       "1                 70               Female      Head of Household   \n",
       "2                 26                 Male                  Other   \n",
       "3                 34               Female      Head of Household   \n",
       "4                 26                 Male                  Child   \n",
       "\n",
       "            marital_status                  education_level  \\\n",
       "0  Married/Living together              Secondary education   \n",
       "1                  Widowed              No formal education   \n",
       "2     Single/Never Married  Vocational/Specialised training   \n",
       "3  Married/Living together                Primary education   \n",
       "4     Single/Never Married                Primary education   \n",
       "\n",
       "                    job_type    compress_edu_leve                 bank_depend  \n",
       "0              Self employed  Secondary education  Non Bank Account Dependent  \n",
       "1       Government Dependent      Below Secondary      Bank Account Dependent  \n",
       "2              Self employed       Post Secondary  Non Bank Account Dependent  \n",
       "3  Formally employed Private      Below Secondary      Bank Account Dependent  \n",
       "4        Informally employed      Below Secondary  Non Bank Account Dependent  "
      ]
     },
     "execution_count": 18,
     "metadata": {},
     "output_type": "execute_result"
    }
   ],
   "source": [
    "all_data.drop(['age_of_respondent_categ', 'house_size_cat', 'clusters'], axis=1, inplace=True)\n",
    "all_data.head()"
   ]
  },
  {
   "cell_type": "code",
   "execution_count": 19,
   "metadata": {},
   "outputs": [
    {
     "data": {
      "text/plain": [
       "Index(['country', 'year', 'bank_account', 'location_type', 'cellphone_access',\n",
       "       'household_size', 'age_of_respondent', 'gender_of_respondent',\n",
       "       'relationship_with_head', 'marital_status', 'education_level',\n",
       "       'job_type', 'compress_edu_leve', 'bank_depend'],\n",
       "      dtype='object')"
      ]
     },
     "execution_count": 19,
     "metadata": {},
     "output_type": "execute_result"
    }
   ],
   "source": [
    "all_data.columns"
   ]
  },
  {
   "cell_type": "code",
   "execution_count": 20,
   "metadata": {},
   "outputs": [],
   "source": [
    "ntrain = train.shape[0] # to be used to split train and test set from the combined dataframe"
   ]
  },
  {
   "cell_type": "code",
   "execution_count": 21,
   "metadata": {
    "colab": {
     "base_uri": "https://localhost:8080/"
    },
    "id": "rOd8usWw22yp",
    "outputId": "03390245-04c6-4ed3-c2ba-d591aacb7c1a"
   },
   "outputs": [
    {
     "name": "stdout",
     "output_type": "stream",
     "text": [
      "year\n",
      "[2018 2016 2017] \n",
      "\n",
      "gender_of_respondent\n",
      "['Female' 'Male'] \n",
      "\n",
      "cellphone_access\n",
      "['Yes' 'No'] \n",
      "\n",
      "location_type\n",
      "['Rural' 'Urban'] \n",
      "\n",
      "country\n",
      "['Kenya' 'Rwanda' 'Tanzania' 'Uganda'] \n",
      "\n",
      "relationship_with_head\n",
      "['Spouse' 'Head of Household' 'Other' 'Child' 'Parent'] \n",
      "\n",
      "marital_status\n",
      "['Married/Living together' 'Widowed' 'Single/Never Married'\n",
      " 'Divorced/Seperated'] \n",
      "\n",
      "education_level\n",
      "['Secondary education' 'No formal education'\n",
      " 'Vocational/Specialised training' 'Primary education'\n",
      " 'Tertiary education'] \n",
      "\n",
      "job_type\n",
      "['Self employed' 'Government Dependent' 'Formally employed Private'\n",
      " 'Informally employed' 'Formally employed Government'\n",
      " 'Farming and Fishing' 'Remittance Dependent' 'Other Income'\n",
      " 'Dont Know/Refuse to answer' 'No Income'] \n",
      "\n",
      "compress_edu_leve\n",
      "['Secondary education' 'Below Secondary' 'Post Secondary'\n",
      " 'Below education'] \n",
      "\n",
      "bank_depend\n",
      "['Non Bank Account Dependent' 'Bank Account Dependent'] \n",
      "\n"
     ]
    }
   ],
   "source": [
    "# Check unique values for each categorical column, we removed age_of_respondent and household_size\n",
    "cat_cols = ['year','gender_of_respondent','cellphone_access','location_type','country',\n",
    "            'relationship_with_head', 'marital_status', 'education_level',\t'job_type', \n",
    "            'compress_edu_leve', 'bank_depend']\n",
    "for col in cat_cols:\n",
    "  print(col)\n",
    "  print(all_data[col].unique(), '\\n')"
   ]
  },
  {
   "cell_type": "code",
   "execution_count": 22,
   "metadata": {
    "colab": {
     "base_uri": "https://localhost:8080/",
     "height": 258
    },
    "id": "hzZXqfvE22y9",
    "outputId": "06376888-b7ed-4b64-8137-0ae1243421e0"
   },
   "outputs": [
    {
     "data": {
      "text/html": [
       "<div>\n",
       "<style scoped>\n",
       "    .dataframe tbody tr th:only-of-type {\n",
       "        vertical-align: middle;\n",
       "    }\n",
       "\n",
       "    .dataframe tbody tr th {\n",
       "        vertical-align: top;\n",
       "    }\n",
       "\n",
       "    .dataframe thead th {\n",
       "        text-align: right;\n",
       "    }\n",
       "</style>\n",
       "<table border=\"1\" class=\"dataframe\">\n",
       "  <thead>\n",
       "    <tr style=\"text-align: right;\">\n",
       "      <th></th>\n",
       "      <th>bank_account</th>\n",
       "      <th>household_size</th>\n",
       "      <th>age_of_respondent</th>\n",
       "      <th>year_2017</th>\n",
       "      <th>year_2018</th>\n",
       "      <th>gender_of_respondent_Male</th>\n",
       "      <th>cellphone_access_Yes</th>\n",
       "      <th>location_type_Urban</th>\n",
       "      <th>country_Rwanda</th>\n",
       "      <th>country_Tanzania</th>\n",
       "      <th>...</th>\n",
       "      <th>job_type_Government Dependent</th>\n",
       "      <th>job_type_Informally employed</th>\n",
       "      <th>job_type_No Income</th>\n",
       "      <th>job_type_Other Income</th>\n",
       "      <th>job_type_Remittance Dependent</th>\n",
       "      <th>job_type_Self employed</th>\n",
       "      <th>compress_edu_leve_Below education</th>\n",
       "      <th>compress_edu_leve_Post Secondary</th>\n",
       "      <th>compress_edu_leve_Secondary education</th>\n",
       "      <th>bank_depend_Non Bank Account Dependent</th>\n",
       "    </tr>\n",
       "  </thead>\n",
       "  <tbody>\n",
       "    <tr>\n",
       "      <th>0</th>\n",
       "      <td>1.0</td>\n",
       "      <td>3</td>\n",
       "      <td>24</td>\n",
       "      <td>0</td>\n",
       "      <td>1</td>\n",
       "      <td>0</td>\n",
       "      <td>1</td>\n",
       "      <td>0</td>\n",
       "      <td>0</td>\n",
       "      <td>0</td>\n",
       "      <td>...</td>\n",
       "      <td>0</td>\n",
       "      <td>0</td>\n",
       "      <td>0</td>\n",
       "      <td>0</td>\n",
       "      <td>0</td>\n",
       "      <td>1</td>\n",
       "      <td>0</td>\n",
       "      <td>0</td>\n",
       "      <td>1</td>\n",
       "      <td>1</td>\n",
       "    </tr>\n",
       "    <tr>\n",
       "      <th>1</th>\n",
       "      <td>0.0</td>\n",
       "      <td>5</td>\n",
       "      <td>70</td>\n",
       "      <td>0</td>\n",
       "      <td>1</td>\n",
       "      <td>0</td>\n",
       "      <td>0</td>\n",
       "      <td>0</td>\n",
       "      <td>0</td>\n",
       "      <td>0</td>\n",
       "      <td>...</td>\n",
       "      <td>1</td>\n",
       "      <td>0</td>\n",
       "      <td>0</td>\n",
       "      <td>0</td>\n",
       "      <td>0</td>\n",
       "      <td>0</td>\n",
       "      <td>0</td>\n",
       "      <td>0</td>\n",
       "      <td>0</td>\n",
       "      <td>0</td>\n",
       "    </tr>\n",
       "    <tr>\n",
       "      <th>2</th>\n",
       "      <td>1.0</td>\n",
       "      <td>5</td>\n",
       "      <td>26</td>\n",
       "      <td>0</td>\n",
       "      <td>1</td>\n",
       "      <td>1</td>\n",
       "      <td>1</td>\n",
       "      <td>1</td>\n",
       "      <td>0</td>\n",
       "      <td>0</td>\n",
       "      <td>...</td>\n",
       "      <td>0</td>\n",
       "      <td>0</td>\n",
       "      <td>0</td>\n",
       "      <td>0</td>\n",
       "      <td>0</td>\n",
       "      <td>1</td>\n",
       "      <td>0</td>\n",
       "      <td>1</td>\n",
       "      <td>0</td>\n",
       "      <td>1</td>\n",
       "    </tr>\n",
       "    <tr>\n",
       "      <th>3</th>\n",
       "      <td>0.0</td>\n",
       "      <td>5</td>\n",
       "      <td>34</td>\n",
       "      <td>0</td>\n",
       "      <td>1</td>\n",
       "      <td>0</td>\n",
       "      <td>1</td>\n",
       "      <td>0</td>\n",
       "      <td>0</td>\n",
       "      <td>0</td>\n",
       "      <td>...</td>\n",
       "      <td>0</td>\n",
       "      <td>0</td>\n",
       "      <td>0</td>\n",
       "      <td>0</td>\n",
       "      <td>0</td>\n",
       "      <td>0</td>\n",
       "      <td>0</td>\n",
       "      <td>0</td>\n",
       "      <td>0</td>\n",
       "      <td>0</td>\n",
       "    </tr>\n",
       "    <tr>\n",
       "      <th>4</th>\n",
       "      <td>0.0</td>\n",
       "      <td>8</td>\n",
       "      <td>26</td>\n",
       "      <td>0</td>\n",
       "      <td>1</td>\n",
       "      <td>1</td>\n",
       "      <td>0</td>\n",
       "      <td>1</td>\n",
       "      <td>0</td>\n",
       "      <td>0</td>\n",
       "      <td>...</td>\n",
       "      <td>0</td>\n",
       "      <td>1</td>\n",
       "      <td>0</td>\n",
       "      <td>0</td>\n",
       "      <td>0</td>\n",
       "      <td>0</td>\n",
       "      <td>0</td>\n",
       "      <td>0</td>\n",
       "      <td>0</td>\n",
       "      <td>1</td>\n",
       "    </tr>\n",
       "  </tbody>\n",
       "</table>\n",
       "<p>5 rows × 35 columns</p>\n",
       "</div>"
      ],
      "text/plain": [
       "   bank_account  household_size  age_of_respondent  year_2017  year_2018  \\\n",
       "0           1.0               3                 24          0          1   \n",
       "1           0.0               5                 70          0          1   \n",
       "2           1.0               5                 26          0          1   \n",
       "3           0.0               5                 34          0          1   \n",
       "4           0.0               8                 26          0          1   \n",
       "\n",
       "   gender_of_respondent_Male  cellphone_access_Yes  location_type_Urban  \\\n",
       "0                          0                     1                    0   \n",
       "1                          0                     0                    0   \n",
       "2                          1                     1                    1   \n",
       "3                          0                     1                    0   \n",
       "4                          1                     0                    1   \n",
       "\n",
       "   country_Rwanda  country_Tanzania  ...  job_type_Government Dependent  \\\n",
       "0               0                 0  ...                              0   \n",
       "1               0                 0  ...                              1   \n",
       "2               0                 0  ...                              0   \n",
       "3               0                 0  ...                              0   \n",
       "4               0                 0  ...                              0   \n",
       "\n",
       "   job_type_Informally employed  job_type_No Income  job_type_Other Income  \\\n",
       "0                             0                   0                      0   \n",
       "1                             0                   0                      0   \n",
       "2                             0                   0                      0   \n",
       "3                             0                   0                      0   \n",
       "4                             1                   0                      0   \n",
       "\n",
       "   job_type_Remittance Dependent  job_type_Self employed  \\\n",
       "0                              0                       1   \n",
       "1                              0                       0   \n",
       "2                              0                       1   \n",
       "3                              0                       0   \n",
       "4                              0                       0   \n",
       "\n",
       "   compress_edu_leve_Below education  compress_edu_leve_Post Secondary  \\\n",
       "0                                  0                                 0   \n",
       "1                                  0                                 0   \n",
       "2                                  0                                 1   \n",
       "3                                  0                                 0   \n",
       "4                                  0                                 0   \n",
       "\n",
       "   compress_edu_leve_Secondary education  \\\n",
       "0                                      1   \n",
       "1                                      0   \n",
       "2                                      0   \n",
       "3                                      0   \n",
       "4                                      0   \n",
       "\n",
       "   bank_depend_Non Bank Account Dependent  \n",
       "0                                       1  \n",
       "1                                       0  \n",
       "2                                       1  \n",
       "3                                       0  \n",
       "4                                       1  \n",
       "\n",
       "[5 rows x 35 columns]"
      ]
     },
     "execution_count": 22,
     "metadata": {},
     "output_type": "execute_result"
    }
   ],
   "source": [
    "# Encode categorical features\n",
    "all_data = pd.get_dummies(data = all_data, columns = cat_cols, drop_first=True)\n",
    "all_data.head()"
   ]
  },
  {
   "cell_type": "code",
   "execution_count": 23,
   "metadata": {
    "colab": {
     "base_uri": "https://localhost:8080/"
    },
    "id": "BibprFWLdRAy",
    "outputId": "d86b2e2d-52ce-4689-ba33-563f0447bef4"
   },
   "outputs": [
    {
     "data": {
      "text/plain": [
       "((23524, 35), (10086, 35))"
      ]
     },
     "execution_count": 23,
     "metadata": {},
     "output_type": "execute_result"
    }
   ],
   "source": [
    "# Separate train and test data from the combined dataframe\n",
    "train_df = all_data[:ntrain]\n",
    "test_df = all_data[ntrain:]\n",
    "\n",
    "# Check the shapes of the split dataset\n",
    "train_df.shape, test_df.shape"
   ]
  },
  {
   "cell_type": "code",
   "execution_count": 24,
   "metadata": {},
   "outputs": [
    {
     "data": {
      "text/plain": [
       "Index(['age_of_respondent', 'bank_depend_Non Bank Account Dependent',\n",
       "       'cellphone_access_Yes', 'compress_edu_leve_Below education',\n",
       "       'compress_edu_leve_Post Secondary',\n",
       "       'compress_edu_leve_Secondary education', 'country_Rwanda',\n",
       "       'country_Tanzania', 'country_Uganda',\n",
       "       'education_level_Primary education',\n",
       "       'education_level_Secondary education',\n",
       "       'education_level_Tertiary education',\n",
       "       'education_level_Vocational/Specialised training',\n",
       "       'gender_of_respondent_Male', 'household_size',\n",
       "       'job_type_Farming and Fishing', 'job_type_Formally employed Government',\n",
       "       'job_type_Formally employed Private', 'job_type_Government Dependent',\n",
       "       'job_type_Informally employed', 'job_type_No Income',\n",
       "       'job_type_Other Income', 'job_type_Remittance Dependent',\n",
       "       'job_type_Self employed', 'location_type_Urban',\n",
       "       'marital_status_Married/Living together',\n",
       "       'marital_status_Single/Never Married', 'marital_status_Widowed',\n",
       "       'relationship_with_head_Head of Household',\n",
       "       'relationship_with_head_Other', 'relationship_with_head_Parent',\n",
       "       'relationship_with_head_Spouse', 'year_2017', 'year_2018'],\n",
       "      dtype='object')"
      ]
     },
     "execution_count": 24,
     "metadata": {},
     "output_type": "execute_result"
    }
   ],
   "source": [
    "main_cols = all_data.columns.difference(['bank_account'])\n",
    "main_cols"
   ]
  },
  {
   "cell_type": "code",
   "execution_count": 25,
   "metadata": {
    "colab": {
     "base_uri": "https://localhost:8080/"
    },
    "id": "w0EL1Fk222y-",
    "outputId": "b31891c4-0d64-48ac-dd6d-ac80b1c4ecd1"
   },
   "outputs": [],
   "source": [
    "# Select main columns to be used in training\n",
    "#main_cols = all_data.columns.difference(date_cols+['ID', 'bank_account'])\n",
    "#main_cols = all_data.columns.difference('bank_account')\n",
    "X = train_df[main_cols]\n",
    "y = train_df['bank_account']\n",
    "\n",
    "# Split data into train and test sets\n",
    "X_train, X_test, y_train, y_test = train_test_split(X,y,test_size=0.3, random_state=42)"
   ]
  },
  {
   "cell_type": "code",
   "execution_count": 26,
   "metadata": {},
   "outputs": [],
   "source": [
    "import imblearn\n",
    "from collections import Counter\n",
    "from imblearn.over_sampling import SMOTE\n",
    "from imblearn.under_sampling import RandomUnderSampler"
   ]
  },
  {
   "cell_type": "code",
   "execution_count": 27,
   "metadata": {},
   "outputs": [
    {
     "name": "stdout",
     "output_type": "stream",
     "text": [
      "Counter({0.0: 14139, 1.0: 14139})\n"
     ]
    }
   ],
   "source": [
    "oversample = SMOTE()\n",
    "X_train, y_train = oversample.fit_resample(X_train, y_train)\n",
    "print(Counter(y_train))"
   ]
  },
  {
   "cell_type": "code",
   "execution_count": 28,
   "metadata": {},
   "outputs": [],
   "source": [
    "from sklearn.preprocessing import StandardScaler\n",
    "sc = StandardScaler()\n",
    "X_train = sc.fit_transform(X_train)\n",
    "X_test=sc.transform(X_test)"
   ]
  },
  {
   "cell_type": "markdown",
   "metadata": {
    "id": "pL-uhhyKUHWw"
   },
   "source": [
    "### Distribution of the target variable"
   ]
  },
  {
   "cell_type": "code",
   "execution_count": 42,
   "metadata": {
    "colab": {
     "base_uri": "https://localhost:8080/",
     "height": 297
    },
    "id": "lYzk7oDe22ym",
    "outputId": "12a66a45-b3b8-4baf-bc03-ae3c7961eef5"
   },
   "outputs": [],
   "source": [
    "# sns.countplot(train.bank_account)\n",
    "# plt.title('Target Distribution', fontdict={'size':14});"
   ]
  },
  {
   "cell_type": "code",
   "execution_count": 43,
   "metadata": {
    "colab": {
     "base_uri": "https://localhost:8080/",
     "height": 297
    },
    "id": "81wko0oKA-nz",
    "outputId": "4bf33afa-c9d4-40f1-88de-a4ee94e986df"
   },
   "outputs": [],
   "source": [
    "# sns.countplot(train.location_type)\n",
    "# plt.title('Location Distribution', fontdict={'size':14});"
   ]
  },
  {
   "cell_type": "code",
   "execution_count": 44,
   "metadata": {
    "colab": {
     "base_uri": "https://localhost:8080/",
     "height": 297
    },
    "id": "6NdtJatTBFGi",
    "outputId": "e704ac7e-ce85-4818-a699-04695599ed6c"
   },
   "outputs": [],
   "source": [
    "# sns.countplot(train.cellphone_access)\n",
    "# plt.title('Cellphone Access Distribution', fontdict={'size':14});"
   ]
  },
  {
   "cell_type": "markdown",
   "metadata": {
    "id": "x56zYP9RBNhI"
   },
   "source": [
    "Here we see the overall distribution for the whole train set. Can you see if there are any differences due to country?"
   ]
  },
  {
   "cell_type": "code",
   "execution_count": 24,
   "metadata": {},
   "outputs": [
    {
     "data": {
      "image/png": "[encoded data removed]",
      "text/plain": [
       "<Figure size 432x288 with 1 Axes>"
      ]
     },
     "metadata": {
      "needs_background": "light"
     },
     "output_type": "display_data"
    }
   ],
   "source": [
    "# sns.countplot(train.country)\n",
    "# plt.title('Country Distribution', fontdict={'size':14});"
   ]
  },
  {
   "cell_type": "markdown",
   "metadata": {},
   "source": [
    "## Exploratory Data Analysis"
   ]
  },
  {
   "cell_type": "code",
   "execution_count": 25,
   "metadata": {},
   "outputs": [
    {
     "data": {
      "text/plain": [
       "Text(0.5, 0, 'Country')"
      ]
     },
     "execution_count": 25,
     "metadata": {},
     "output_type": "execute_result"
    },
    {
     "data": {
      "image/png": "[encoded data removed]",
      "text/plain": [
       "<Figure size 720x432 with 1 Axes>"
      ]
     },
     "metadata": {
      "needs_background": "light"
     },
     "output_type": "display_data"
    }
   ],
   "source": [
    "# plt.figure(figsize=(10,6))\n",
    "# sns.countplot(x='country',hue='bank_account',data=train, palette='Set1')\n",
    "# plt.title(\"Bar chart of country colored by bank account\", fontsize=17)\n",
    "# plt.xlabel(\"Country\", fontsize=15)"
   ]
  },
  {
   "cell_type": "code",
   "execution_count": 26,
   "metadata": {},
   "outputs": [
    {
     "data": {
      "text/plain": [
       "Text(0.5, 0, 'Cellphone access')"
      ]
     },
     "execution_count": 26,
     "metadata": {},
     "output_type": "execute_result"
    },
    {
     "data": {
      "image/png": "[encoded data removed]",
      "text/plain": [
       "<Figure size 720x432 with 1 Axes>"
      ]
     },
     "metadata": {
      "needs_background": "light"
     },
     "output_type": "display_data"
    }
   ],
   "source": [
    "# plt.figure(figsize=(10,6))\n",
    "# sns.countplot(x='cellphone_access',hue='bank_account',data=train, palette='Set1')\n",
    "# plt.title(\"Bar chart of cellphone access colored by bank account\", fontsize=17)\n",
    "# plt.xlabel(\"Cellphone access\", fontsize=15)"
   ]
  },
  {
   "cell_type": "code",
   "execution_count": 27,
   "metadata": {},
   "outputs": [
    {
     "data": {
      "text/plain": [
       "Text(0.5, 0, 'location type')"
      ]
     },
     "execution_count": 27,
     "metadata": {},
     "output_type": "execute_result"
    },
    {
     "data": {
      "image/png": "[encoded data removed]",
      "text/plain": [
       "<Figure size 720x432 with 1 Axes>"
      ]
     },
     "metadata": {
      "needs_background": "light"
     },
     "output_type": "display_data"
    }
   ],
   "source": [
    "# plt.figure(figsize=(10,6))\n",
    "# sns.countplot(x='location_type',hue='bank_account',data=train, palette='Set1')\n",
    "# plt.title(\"Bar chart of location type colored by bank account\", fontsize=17)\n",
    "# plt.xlabel(\"location type\", fontsize=15)"
   ]
  },
  {
   "cell_type": "code",
   "execution_count": 28,
   "metadata": {},
   "outputs": [
    {
     "data": {
      "text/html": [
       "<div>\n",
       "<style scoped>\n",
       "    .dataframe tbody tr th:only-of-type {\n",
       "        vertical-align: middle;\n",
       "    }\n",
       "\n",
       "    .dataframe tbody tr th {\n",
       "        vertical-align: top;\n",
       "    }\n",
       "\n",
       "    .dataframe thead th {\n",
       "        text-align: right;\n",
       "    }\n",
       "</style>\n",
       "<table border=\"1\" class=\"dataframe\">\n",
       "  <thead>\n",
       "    <tr style=\"text-align: right;\">\n",
       "      <th></th>\n",
       "      <th>bank_account</th>\n",
       "    </tr>\n",
       "    <tr>\n",
       "      <th>location_type</th>\n",
       "      <th></th>\n",
       "    </tr>\n",
       "  </thead>\n",
       "  <tbody>\n",
       "    <tr>\n",
       "      <th>Rural</th>\n",
       "      <td>1671</td>\n",
       "    </tr>\n",
       "    <tr>\n",
       "      <th>Urban</th>\n",
       "      <td>1641</td>\n",
       "    </tr>\n",
       "  </tbody>\n",
       "</table>\n",
       "</div>"
      ],
      "text/plain": [
       "               bank_account\n",
       "location_type              \n",
       "Rural                  1671\n",
       "Urban                  1641"
      ]
     },
     "execution_count": 28,
     "metadata": {},
     "output_type": "execute_result"
    }
   ],
   "source": [
    "# # Interesting visualization for location type\n",
    "# train_lt = train[['location_type','bank_account']]\n",
    "# train_lt = train_lt.groupby(['location_type']).sum()\n",
    "# train_lt"
   ]
  },
  {
   "cell_type": "code",
   "execution_count": 29,
   "metadata": {},
   "outputs": [
    {
     "data": {
      "text/plain": [
       "Text(0.5, 0, 'education level')"
      ]
     },
     "execution_count": 29,
     "metadata": {},
     "output_type": "execute_result"
    },
    {
     "data": {
      "image/png": "[encoded data removed]",
      "text/plain": [
       "<Figure size 1080x432 with 1 Axes>"
      ]
     },
     "metadata": {
      "needs_background": "light"
     },
     "output_type": "display_data"
    }
   ],
   "source": [
    "# plt.figure(figsize=(15,6))\n",
    "# sns.countplot(x='education_level',hue='bank_account',data=train, palette='Set1')\n",
    "# plt.title(\"Bar chart of education level colored by bank account\", fontsize=17)\n",
    "# plt.xlabel(\"education level\", fontsize=15)"
   ]
  },
  {
   "cell_type": "code",
   "execution_count": 30,
   "metadata": {},
   "outputs": [
    {
     "data": {
      "text/plain": [
       "Text(0.5, 0, 'job type')"
      ]
     },
     "execution_count": 30,
     "metadata": {},
     "output_type": "execute_result"
    },
    {
     "data": {
      "image/png": "[encoded data removed]",
      "text/plain": [
       "<Figure size 1800x720 with 1 Axes>"
      ]
     },
     "metadata": {
      "needs_background": "light"
     },
     "output_type": "display_data"
    }
   ],
   "source": [
    "# plt.figure(figsize=(25,10))\n",
    "# sns.countplot(x='job_type',hue='bank_account',data=train, palette='Set1')\n",
    "# plt.title(\"Bar chart of job type colored by bank account\", fontsize=17)\n",
    "# plt.xlabel(\"job type\", fontsize=15)"
   ]
  },
  {
   "cell_type": "code",
   "execution_count": 31,
   "metadata": {},
   "outputs": [
    {
     "data": {
      "text/plain": [
       "Text(0.5, 0, 'marital status')"
      ]
     },
     "execution_count": 31,
     "metadata": {},
     "output_type": "execute_result"
    },
    {
     "data": {
      "image/png": "[encoded data removed]",
      "text/plain": [
       "<Figure size 720x432 with 1 Axes>"
      ]
     },
     "metadata": {
      "needs_background": "light"
     },
     "output_type": "display_data"
    }
   ],
   "source": [
    "# plt.figure(figsize=(10,6))\n",
    "# sns.countplot(x='marital_status',hue='bank_account',data=train, palette='Set1')\n",
    "# plt.title(\"Bar chart of marital status colored by bank account\", fontsize=17)\n",
    "# plt.xlabel(\"marital status\", fontsize=15)"
   ]
  },
  {
   "cell_type": "code",
   "execution_count": 32,
   "metadata": {},
   "outputs": [
    {
     "data": {
      "text/plain": [
       "Text(0.5, 0, 'relationship with head')"
      ]
     },
     "execution_count": 32,
     "metadata": {},
     "output_type": "execute_result"
    },
    {
     "data": {
      "image/png": "[encoded data removed]",
      "text/plain": [
       "<Figure size 720x432 with 1 Axes>"
      ]
     },
     "metadata": {
      "needs_background": "light"
     },
     "output_type": "display_data"
    }
   ],
   "source": [
    "# plt.figure(figsize=(10,6))\n",
    "# sns.countplot(x='relationship_with_head',hue='bank_account',data=train, palette='Set1')\n",
    "# plt.title(\"Bar chart of relationship with head colored by bank account\", fontsize=17)\n",
    "# plt.xlabel(\"relationship with head\", fontsize=15)"
   ]
  },
  {
   "cell_type": "code",
   "execution_count": 33,
   "metadata": {},
   "outputs": [
    {
     "data": {
      "text/plain": [
       "Text(0.5, 0, 'year')"
      ]
     },
     "execution_count": 33,
     "metadata": {},
     "output_type": "execute_result"
    },
    {
     "data": {
      "image/png": "[encoded data removed]",
      "text/plain": [
       "<Figure size 720x432 with 1 Axes>"
      ]
     },
     "metadata": {
      "needs_background": "light"
     },
     "output_type": "display_data"
    }
   ],
   "source": [
    "# plt.figure(figsize=(10,6))\n",
    "# sns.countplot(x='year',hue='bank_account',data=train, palette='Set1')\n",
    "# plt.title(\"Bar chart of year colored by bank account\", fontsize=17)\n",
    "# plt.xlabel(\"year\", fontsize=15)"
   ]
  },
  {
   "cell_type": "code",
   "execution_count": 34,
   "metadata": {},
   "outputs": [
    {
     "name": "stdout",
     "output_type": "stream",
     "text": [
      "Number of observations for the year 2016:  8735\n",
      " \n",
      "Number of 0servations for the year 2017:  6620\n",
      " \n",
      "Number of 0servations for the year 2018:  8169\n"
     ]
    }
   ],
   "source": [
    "# print('Number of observations for the year 2016: ', train[train['year'] == 2016].shape[0])\n",
    "# print(' ')\n",
    "# print('Number of 0servations for the year 2017: ', train[train['year'] == 2017].shape[0])\n",
    "# print(' ')\n",
    "# print('Number of 0servations for the year 2018: ', train[train['year'] == 2018].shape[0])"
   ]
  },
  {
   "cell_type": "code",
   "execution_count": 35,
   "metadata": {},
   "outputs": [
    {
     "data": {
      "text/html": [
       "<div>\n",
       "<style scoped>\n",
       "    .dataframe tbody tr th:only-of-type {\n",
       "        vertical-align: middle;\n",
       "    }\n",
       "\n",
       "    .dataframe tbody tr th {\n",
       "        vertical-align: top;\n",
       "    }\n",
       "\n",
       "    .dataframe thead th {\n",
       "        text-align: right;\n",
       "    }\n",
       "</style>\n",
       "<table border=\"1\" class=\"dataframe\">\n",
       "  <thead>\n",
       "    <tr style=\"text-align: right;\">\n",
       "      <th></th>\n",
       "      <th>bank_account</th>\n",
       "    </tr>\n",
       "    <tr>\n",
       "      <th>year</th>\n",
       "      <th></th>\n",
       "    </tr>\n",
       "  </thead>\n",
       "  <tbody>\n",
       "    <tr>\n",
       "      <th>2016</th>\n",
       "      <td>1003</td>\n",
       "    </tr>\n",
       "    <tr>\n",
       "      <th>2017</th>\n",
       "      <td>607</td>\n",
       "    </tr>\n",
       "    <tr>\n",
       "      <th>2018</th>\n",
       "      <td>1702</td>\n",
       "    </tr>\n",
       "  </tbody>\n",
       "</table>\n",
       "</div>"
      ],
      "text/plain": [
       "      bank_account\n",
       "year              \n",
       "2016          1003\n",
       "2017           607\n",
       "2018          1702"
      ]
     },
     "execution_count": 35,
     "metadata": {},
     "output_type": "execute_result"
    }
   ],
   "source": [
    "# train_year = train[['year','bank_account']]\n",
    "# train_year = train_year.groupby(['year']).sum()\n",
    "# train_year"
   ]
  },
  {
   "cell_type": "markdown",
   "metadata": {},
   "source": [
    "Clearly feature 'year' behaves like ordinal data"
   ]
  },
  {
   "cell_type": "code",
   "execution_count": 35,
   "metadata": {},
   "outputs": [],
   "source": [
    "# after running this cell, go back and run the all_data cell\n",
    "#train['location_type'] = train['location_type'].map({'Rural':0, 'Urban':1})\n",
    "#train['cellphone_access'] = train['cellphone_access'].map({'No':0, 'Yes':1})\n",
    "#train['gender_of_respondent'] = train['gender_of_respondent'].map({'Female':0, 'Male':1})"
   ]
  },
  {
   "cell_type": "markdown",
   "metadata": {
    "id": "7rZ9LClahj5F"
   },
   "source": [
    "### Number of unique values per categorical column"
   ]
  },
  {
   "cell_type": "markdown",
   "metadata": {
    "id": "Ppmv1kB5hvWs"
   },
   "source": [
    "### Feature Engineering\n"
   ]
  },
  {
   "cell_type": "markdown",
   "metadata": {
    "id": "XOnSMk9im9EC"
   },
   "source": [
    "#### Try different strategies of dealing with categorical variables\n",
    "Tips:\n",
    " - One hot encoding\n",
    " - Label encoding\n",
    " - Target encoding\n",
    " - Reduce the number of unique values..."
   ]
  },
  {
   "cell_type": "code",
   "execution_count": 53,
   "metadata": {},
   "outputs": [
    {
     "data": {
      "text/plain": [
       "41"
      ]
     },
     "execution_count": 53,
     "metadata": {},
     "output_type": "execute_result"
    }
   ],
   "source": [
    "len(all_data.columns)"
   ]
  },
  {
   "cell_type": "markdown",
   "metadata": {
    "id": "Rv9axjwXh2Ij"
   },
   "source": [
    "### Training and making predictions\n",
    "Tips:\n",
    "- Is lgbm the best model for this challenge?\n",
    "- Parameter tuning\n",
    " - Grid search, random search, perhaps bayesian search works better...\n",
    "\n"
   ]
  },
  {
   "cell_type": "code",
   "execution_count": 41,
   "metadata": {},
   "outputs": [],
   "source": [
    "#from sklearn.preprocessing import StandardScaler\n",
    "#sc = StandardScaler()\n",
    "#X_train = sc.fit_transform(X_train)\n",
    "#X_test=sc.transform(X_test)"
   ]
  },
  {
   "cell_type": "markdown",
   "metadata": {},
   "source": [
    "### checking extratreeclassifier"
   ]
  },
  {
   "cell_type": "code",
   "execution_count": 22,
   "metadata": {},
   "outputs": [
    {
     "name": "stdout",
     "output_type": "stream",
     "text": [
      "classification report:\n",
      " \n",
      "              precision    recall  f1-score   support\n",
      "\n",
      "         0.0       0.92      0.91      0.91      6073\n",
      "         1.0       0.47      0.51      0.49       985\n",
      "\n",
      "    accuracy                           0.85      7058\n",
      "   macro avg       0.69      0.71      0.70      7058\n",
      "weighted avg       0.86      0.85      0.85      7058\n",
      "\n",
      "confusion matrix:\n",
      " \n",
      "[[5508  565]\n",
      " [ 487  498]]\n",
      "Accuracy of prediction: 0.851\n",
      " \n",
      "accuracy_score:  0.8509492774156985\n"
     ]
    }
   ],
   "source": [
    "from sklearn.ensemble import ExtraTreesClassifier\n",
    "\n",
    "# Train model\n",
    "et_clf = ExtraTreesClassifier(bootstrap=True, ccp_alpha=0.0, class_weight=None,\n",
    "                                criterion='gini', max_depth=110, max_features='sqrt',\n",
    "                                max_leaf_nodes=None, max_samples=None,\n",
    "                                min_impurity_decrease=0.0, min_impurity_split=None,\n",
    "                                min_samples_leaf=1, min_samples_split=5,\n",
    "                                min_weight_fraction_leaf=0.0, n_estimators=120, n_jobs=-1,\n",
    "                                oob_score=False, random_state=123, verbose=0,\n",
    "                                warm_start=False)\n",
    "\n",
    "et_clf.fit(X_train, y_train)\n",
    "\n",
    "# Make predictions\n",
    "y_pred = et_clf.predict(X_test)\n",
    "\n",
    "# Check the accuracy score of the model\n",
    "#accuracy_score(y_pred,y_test)\n",
    "from sklearn.metrics import classification_report,confusion_matrix\n",
    "# classification report\n",
    "print('classification report:')\n",
    "print(' ')\n",
    "print(classification_report(y_test,y_pred))\n",
    "# confusion matrix\n",
    "print('confusion matrix:')\n",
    "print(' ')\n",
    "cm=confusion_matrix(y_test,y_pred)\n",
    "print(cm)\n",
    "print (\"Accuracy of prediction:\",round((cm[0,0]+cm[1,1])/cm.sum(),3))\n",
    "print(' ')\n",
    "print('accuracy_score: ',accuracy_score(y_pred,y_test))"
   ]
  },
  {
   "cell_type": "code",
   "execution_count": 46,
   "metadata": {},
   "outputs": [],
   "source": [
    "# pip install catboost"
   ]
  },
  {
   "cell_type": "code",
   "execution_count": 24,
   "metadata": {},
   "outputs": [],
   "source": [
    "from catboost import CatBoostClassifier"
   ]
  },
  {
   "cell_type": "code",
   "execution_count": 64,
   "metadata": {},
   "outputs": [],
   "source": [
    "CatBoostClassifier?"
   ]
  },
  {
   "cell_type": "markdown",
   "metadata": {},
   "source": [
    "### Checking CatBoostClassifier"
   ]
  },
  {
   "cell_type": "code",
   "execution_count": 25,
   "metadata": {},
   "outputs": [
    {
     "name": "stdout",
     "output_type": "stream",
     "text": [
      "classification report:\n",
      " \n",
      "              precision    recall  f1-score   support\n",
      "\n",
      "         0.0       0.92      0.91      0.92      6073\n",
      "         1.0       0.48      0.51      0.49       985\n",
      "\n",
      "    accuracy                           0.86      7058\n",
      "   macro avg       0.70      0.71      0.70      7058\n",
      "weighted avg       0.86      0.86      0.86      7058\n",
      "\n",
      "confusion matrix:\n",
      " \n",
      "[[5536  537]\n",
      " [ 486  499]]\n",
      "Accuracy of prediction: 0.855\n",
      " \n",
      "accuracy_score:  0.8550580901105129\n"
     ]
    }
   ],
   "source": [
    "# Train model\n",
    "cb_clf = CatBoostClassifier(verbose=False)\n",
    "cb_clf.fit(X_train, y_train)\n",
    "\n",
    "# Make predictions\n",
    "y_pred = cb_clf.predict(X_test)\n",
    "\n",
    "# Check the accuracy score of the model\n",
    "#accuracy_score(y_pred,y_test)\n",
    "from sklearn.metrics import classification_report,confusion_matrix\n",
    "# classification report\n",
    "print('classification report:')\n",
    "print(' ')\n",
    "print(classification_report(y_test,y_pred))\n",
    "# confusion matrix\n",
    "print('confusion matrix:')\n",
    "print(' ')\n",
    "cm=confusion_matrix(y_test,y_pred)\n",
    "print(cm)\n",
    "print (\"Accuracy of prediction:\",round((cm[0,0]+cm[1,1])/cm.sum(),3))\n",
    "print(' ')\n",
    "print('accuracy_score: ',accuracy_score(y_pred,y_test))"
   ]
  },
  {
   "cell_type": "markdown",
   "metadata": {},
   "source": [
    "### Checking gradientboostingclassifier"
   ]
  },
  {
   "cell_type": "code",
   "execution_count": 26,
   "metadata": {},
   "outputs": [
    {
     "name": "stdout",
     "output_type": "stream",
     "text": [
      "classification report:\n",
      " \n",
      "              precision    recall  f1-score   support\n",
      "\n",
      "         0.0       0.91      0.90      0.90      6073\n",
      "         1.0       0.42      0.45      0.44       985\n",
      "\n",
      "    accuracy                           0.84      7058\n",
      "   macro avg       0.66      0.68      0.67      7058\n",
      "weighted avg       0.84      0.84      0.84      7058\n",
      "\n",
      "confusion matrix:\n",
      " \n",
      "[[5450  623]\n",
      " [ 538  447]]\n",
      "Accuracy of prediction: 0.836\n",
      " \n",
      "accuracy_score:  0.8355058090110513\n"
     ]
    }
   ],
   "source": [
    "from sklearn.ensemble import GradientBoostingClassifier\n",
    "\n",
    "# Train model\n",
    "gb_clf = GradientBoostingClassifier(ccp_alpha=0.0, criterion='friedman_mse', init=None,\n",
    "                                    learning_rate=0.29, loss='deviance', max_depth=80,\n",
    "                                    max_features='auto', max_leaf_nodes=None,\n",
    "                                    min_impurity_decrease=0.0, min_impurity_split=None,\n",
    "                                    min_samples_leaf=2, min_samples_split=10,\n",
    "                                    min_weight_fraction_leaf=0.0, n_estimators=55,\n",
    "                                    n_iter_no_change=None,\n",
    "                                    random_state=123, subsample=0.6500000000000001,\n",
    "                                    tol=0.0001, validation_fraction=0.1, verbose=0,\n",
    "                                    warm_start=False)\n",
    "gb_clf.fit(X_train, y_train)\n",
    "\n",
    "# Make predictions\n",
    "y_pred = gb_clf.predict(X_test)\n",
    "\n",
    "# Check the accuracy score of the model\n",
    "#accuracy_score(y_pred,y_test)\n",
    "from sklearn.metrics import classification_report,confusion_matrix\n",
    "# classification report\n",
    "print('classification report:')\n",
    "print(' ')\n",
    "print(classification_report(y_test,y_pred))\n",
    "# confusion matrix\n",
    "print('confusion matrix:')\n",
    "print(' ')\n",
    "cm=confusion_matrix(y_test,y_pred)\n",
    "print(cm)\n",
    "print (\"Accuracy of prediction:\",round((cm[0,0]+cm[1,1])/cm.sum(),3))\n",
    "print(' ')\n",
    "print('accuracy_score: ',accuracy_score(y_pred,y_test))"
   ]
  },
  {
   "cell_type": "markdown",
   "metadata": {},
   "source": [
    "### Checking LGBMClassifier"
   ]
  },
  {
   "cell_type": "code",
   "execution_count": 27,
   "metadata": {
    "colab": {
     "base_uri": "https://localhost:8080/"
    },
    "id": "w0EL1Fk222y-",
    "outputId": "b31891c4-0d64-48ac-dd6d-ac80b1c4ecd1"
   },
   "outputs": [
    {
     "name": "stdout",
     "output_type": "stream",
     "text": [
      "classification report:\n",
      " \n",
      "              precision    recall  f1-score   support\n",
      "\n",
      "         0.0       0.92      0.91      0.92      6073\n",
      "         1.0       0.49      0.51      0.50       985\n",
      "\n",
      "    accuracy                           0.86      7058\n",
      "   macro avg       0.71      0.71      0.71      7058\n",
      "weighted avg       0.86      0.86      0.86      7058\n",
      "\n",
      "confusion matrix:\n",
      " \n",
      "[[5554  519]\n",
      " [ 483  502]]\n",
      "Accuracy of prediction: 0.858\n",
      " \n",
      "accuracy_score:  0.858033437234344\n"
     ]
    }
   ],
   "source": [
    "# Train model\n",
    "model = LGBMClassifier(boosting_type='gbdt', objective='binary', class_weight=None, colsample_bytree=1.0,\n",
    "                        importance_type='split', learning_rate=0.1, max_depth=30,\n",
    "                        min_child_samples=20, min_child_weight=0.001, min_split_gain=0,\n",
    "                        n_estimators=100, n_jobs=-1, num_leaves=70, metric ='auc',\n",
    "                        random_state=123, reg_alpha=0.1, reg_lambda=0.5, silent=True,\n",
    "                        subsample=1.0, subsample_for_bin=200000, subsample_freq=0)\n",
    "\n",
    "model.fit(X_train, y_train)\n",
    "\n",
    "# Make predictions\n",
    "y_pred = model.predict(X_test)\n",
    "\n",
    "# Check the accuracy score of the model\n",
    "#accuracy_score(y_pred,y_test)\n",
    "from sklearn.metrics import classification_report,confusion_matrix\n",
    "# classification report\n",
    "print('classification report:')\n",
    "print(' ')\n",
    "print(classification_report(y_test,y_pred))\n",
    "# confusion matrix\n",
    "print('confusion matrix:')\n",
    "print(' ')\n",
    "cm=confusion_matrix(y_test,y_pred)\n",
    "print(cm)\n",
    "print (\"Accuracy of prediction:\",round((cm[0,0]+cm[1,1])/cm.sum(),3))\n",
    "print(' ')\n",
    "print('accuracy_score: ',accuracy_score(y_pred,y_test))"
   ]
  },
  {
   "cell_type": "markdown",
   "metadata": {},
   "source": [
    "### Logistic Regression"
   ]
  },
  {
   "cell_type": "code",
   "execution_count": 29,
   "metadata": {},
   "outputs": [
    {
     "name": "stdout",
     "output_type": "stream",
     "text": [
      "classification report:\n",
      " \n",
      "              precision    recall  f1-score   support\n",
      "\n",
      "         0.0       0.92      0.89      0.90      6073\n",
      "         1.0       0.43      0.54      0.48       985\n",
      "\n",
      "    accuracy                           0.84      7058\n",
      "   macro avg       0.68      0.71      0.69      7058\n",
      "weighted avg       0.85      0.84      0.85      7058\n",
      "\n",
      "confusion matrix:\n",
      " \n",
      "[[5379  694]\n",
      " [ 451  534]]\n",
      "Accuracy of prediction: 0.838\n",
      " \n",
      "accuracy_score:  0.8377727401530178\n"
     ]
    }
   ],
   "source": [
    "from sklearn.linear_model import LogisticRegression\n",
    "lr_clf = LogisticRegression(C=100, penalty= 'l2', solver= 'liblinear')\n",
    "\n",
    "# C=1.94, class_weight=None, dual=False, fit_intercept=True,\n",
    "#                             intercept_scaling=1, l1_ratio=None, max_iter=100,\n",
    "#                             multi_class='auto', n_jobs=-1, penalty='l2',\n",
    "#                             random_state=123, solver='lbfgs', tol=0.0001, verbose=0,\n",
    "#                             warm_start=False\n",
    "\n",
    "lr_clf.fit(X_train, y_train)\n",
    "\n",
    "# Make predictions\n",
    "y_pred = lr_clf.predict(X_test)\n",
    "\n",
    "# Check the accuracy score of the model\n",
    "#accuracy_score(y_pred,y_test)\n",
    "from sklearn.metrics import classification_report,confusion_matrix\n",
    "# classification report\n",
    "print('classification report:')\n",
    "print(' ')\n",
    "print(classification_report(y_test,y_pred))\n",
    "# confusion matrix\n",
    "print('confusion matrix:')\n",
    "print(' ')\n",
    "cm=confusion_matrix(y_test,y_pred)\n",
    "print(cm)\n",
    "print (\"Accuracy of prediction:\",round((cm[0,0]+cm[1,1])/cm.sum(),3))\n",
    "print(' ')\n",
    "print('accuracy_score: ',accuracy_score(y_pred,y_test))"
   ]
  },
  {
   "cell_type": "code",
   "execution_count": 33,
   "metadata": {},
   "outputs": [
    {
     "ename": "NameError",
     "evalue": "name 'GridSearchCV' is not defined",
     "output_type": "error",
     "traceback": [
      "\u001b[1;31m---------------------------------------------------------------------------\u001b[0m",
      "\u001b[1;31mNameError\u001b[0m                                 Traceback (most recent call last)",
      "\u001b[1;32m<ipython-input-33-4dfab7776113>\u001b[0m in \u001b[0;36m<module>\u001b[1;34m\u001b[0m\n\u001b[0;32m     10\u001b[0m \u001b[0mspace\u001b[0m\u001b[1;33m[\u001b[0m\u001b[1;34m'C'\u001b[0m\u001b[1;33m]\u001b[0m \u001b[1;33m=\u001b[0m \u001b[1;33m[\u001b[0m\u001b[1;36m1e-5\u001b[0m\u001b[1;33m,\u001b[0m \u001b[1;36m1e-4\u001b[0m\u001b[1;33m,\u001b[0m \u001b[1;36m1e-3\u001b[0m\u001b[1;33m,\u001b[0m \u001b[1;36m1e-2\u001b[0m\u001b[1;33m,\u001b[0m \u001b[1;36m1e-1\u001b[0m\u001b[1;33m,\u001b[0m \u001b[1;36m1\u001b[0m\u001b[1;33m,\u001b[0m \u001b[1;36m2\u001b[0m\u001b[1;33m,\u001b[0m \u001b[1;36m3\u001b[0m\u001b[1;33m,\u001b[0m \u001b[1;36m10\u001b[0m\u001b[1;33m,\u001b[0m \u001b[1;36m100\u001b[0m\u001b[1;33m]\u001b[0m\u001b[1;33m\u001b[0m\u001b[1;33m\u001b[0m\u001b[0m\n\u001b[0;32m     11\u001b[0m \u001b[1;31m# define search\u001b[0m\u001b[1;33m\u001b[0m\u001b[1;33m\u001b[0m\u001b[1;33m\u001b[0m\u001b[0m\n\u001b[1;32m---> 12\u001b[1;33m \u001b[0msearch\u001b[0m \u001b[1;33m=\u001b[0m \u001b[0mGridSearchCV\u001b[0m\u001b[1;33m(\u001b[0m\u001b[0mlr_clf\u001b[0m\u001b[1;33m,\u001b[0m \u001b[0mspace\u001b[0m\u001b[1;33m,\u001b[0m \u001b[0mscoring\u001b[0m\u001b[1;33m=\u001b[0m\u001b[1;34m'accuracy'\u001b[0m\u001b[1;33m,\u001b[0m \u001b[0mn_jobs\u001b[0m\u001b[1;33m=\u001b[0m\u001b[1;33m-\u001b[0m\u001b[1;36m1\u001b[0m\u001b[1;33m,\u001b[0m \u001b[0mcv\u001b[0m\u001b[1;33m=\u001b[0m\u001b[0mcv\u001b[0m\u001b[1;33m)\u001b[0m\u001b[1;33m\u001b[0m\u001b[1;33m\u001b[0m\u001b[0m\n\u001b[0m\u001b[0;32m     13\u001b[0m \u001b[1;31m# execute search\u001b[0m\u001b[1;33m\u001b[0m\u001b[1;33m\u001b[0m\u001b[1;33m\u001b[0m\u001b[0m\n\u001b[0;32m     14\u001b[0m \u001b[0mresult\u001b[0m \u001b[1;33m=\u001b[0m \u001b[0msearch\u001b[0m\u001b[1;33m.\u001b[0m\u001b[0mfit\u001b[0m\u001b[1;33m(\u001b[0m\u001b[0mX_train\u001b[0m\u001b[1;33m,\u001b[0m \u001b[0my_train\u001b[0m\u001b[1;33m)\u001b[0m\u001b[1;33m\u001b[0m\u001b[1;33m\u001b[0m\u001b[0m\n",
      "\u001b[1;31mNameError\u001b[0m: name 'GridSearchCV' is not defined"
     ]
    }
   ],
   "source": [
    "# GridSearchCV tuning for logistic regression\n",
    "\n",
    "from sklearn.model_selection import RepeatedStratifiedKFold\n",
    "\n",
    "cv = RepeatedStratifiedKFold(n_splits=10, n_repeats=3, random_state=1)\n",
    "# define search space\n",
    "space = dict()\n",
    "space['solver'] = ['newton-cg', 'lbfgs', 'liblinear']\n",
    "space['penalty'] = ['none', 'l1', 'l2', 'elasticnet']\n",
    "space['C'] = [1e-5, 1e-4, 1e-3, 1e-2, 1e-1, 1, 2, 3, 10, 100]\n",
    "# define search\n",
    "search = GridSearchCV(lr_clf, space, scoring='accuracy', n_jobs=-1, cv=cv)\n",
    "# execute search\n",
    "result = search.fit(X_train, y_train)\n",
    "# summarize result\n",
    "print('Best Score: %s' % result.best_score_)\n",
    "print('Best Hyperparameters: %s' % result.best_params_)"
   ]
  },
  {
   "cell_type": "markdown",
   "metadata": {},
   "source": [
    "### Naive Bayes"
   ]
  },
  {
   "cell_type": "code",
   "execution_count": 30,
   "metadata": {},
   "outputs": [
    {
     "name": "stdout",
     "output_type": "stream",
     "text": [
      "classification report:\n",
      " \n",
      "              precision    recall  f1-score   support\n",
      "\n",
      "         0.0       0.94      0.75      0.83      6073\n",
      "         1.0       0.31      0.69      0.43       985\n",
      "\n",
      "    accuracy                           0.74      7058\n",
      "   macro avg       0.62      0.72      0.63      7058\n",
      "weighted avg       0.85      0.74      0.78      7058\n",
      "\n",
      "confusion matrix:\n",
      " \n",
      "[[4565 1508]\n",
      " [ 304  681]]\n",
      "Accuracy of prediction: 0.743\n",
      " \n",
      "accuracy_score:  0.7432700481722868\n"
     ]
    }
   ],
   "source": [
    "from sklearn.naive_bayes import GaussianNB\n",
    "nb_clf= GaussianNB()\n",
    "nb_clf.fit(X_train, y_train)\n",
    "           \n",
    "# Make predictions\n",
    "y_pred = nb_clf.predict(X_test)\n",
    "\n",
    "# Check the accuracy score of the model\n",
    "#accuracy_score(y_pred,y_test)\n",
    "from sklearn.metrics import classification_report,confusion_matrix\n",
    "# classification report\n",
    "print('classification report:')\n",
    "print(' ')\n",
    "print(classification_report(y_test,y_pred))\n",
    "# confusion matrix\n",
    "print('confusion matrix:')\n",
    "print(' ')\n",
    "cm=confusion_matrix(y_test,y_pred)\n",
    "print(cm)\n",
    "print (\"Accuracy of prediction:\",round((cm[0,0]+cm[1,1])/cm.sum(),3))\n",
    "print(' ')\n",
    "print('accuracy_score: ',accuracy_score(y_pred,y_test))"
   ]
  },
  {
   "cell_type": "markdown",
   "metadata": {},
   "source": [
    "### RandomForestClassifier"
   ]
  },
  {
   "cell_type": "code",
   "execution_count": 31,
   "metadata": {},
   "outputs": [
    {
     "name": "stdout",
     "output_type": "stream",
     "text": [
      "classification report:\n",
      " \n",
      "              precision    recall  f1-score   support\n",
      "\n",
      "         0.0       0.92      0.90      0.91      6073\n",
      "         1.0       0.44      0.49      0.46       985\n",
      "\n",
      "    accuracy                           0.84      7058\n",
      "   macro avg       0.68      0.69      0.69      7058\n",
      "weighted avg       0.85      0.84      0.85      7058\n",
      "\n",
      "confusion matrix:\n",
      " \n",
      "[[5463  610]\n",
      " [ 503  482]]\n",
      "Accuracy of prediction: 0.842\n",
      " \n",
      "accuracy_score:  0.842306602436951\n"
     ]
    }
   ],
   "source": [
    "from sklearn.ensemble import RandomForestClassifier\n",
    "rf_clf = RandomForestClassifier(bootstrap=False, criterion='entropy', max_depth=23,\n",
    "                               min_samples_split=5, n_estimators=103, n_jobs=-1,\n",
    "                               random_state=123)\n",
    "    \n",
    "\n",
    "\n",
    "#RandomForestClassifier(bootstrap=False, ccp_alpha=0.0, class_weight=None,\n",
    "#criterion='entropy', max_depth=20, max_features='auto',\n",
    "#max_leaf_nodes=None, max_samples=None,\n",
    "#min_impurity_decrease=0.0, min_impurity_split=None,\n",
    "#min_samples_leaf=2, min_samples_split=7,\n",
    "#min_weight_fraction_leaf=0.0, n_estimators=80, n_jobs=-1,\n",
    "#oob_score=False, random_state=123, verbose=0,\n",
    "#warm_start=False)\n",
    "\n",
    "rf_clf.fit(X_train, y_train)\n",
    "#'n_estimators': 50, 'min_samples_split': 2, 'min_samples_leaf': 1, 'max_depth': 25\n",
    "# Make predictions\n",
    "y_pred = rf_clf.predict(X_test)\n",
    "\n",
    "# Check the accuracy score of the model\n",
    "#accuracy_score(y_pred,y_test)\n",
    "from sklearn.metrics import classification_report,confusion_matrix\n",
    "# classification report\n",
    "print('classification report:')\n",
    "print(' ')\n",
    "print(classification_report(y_test,y_pred))\n",
    "# confusion matrix\n",
    "print('confusion matrix:')\n",
    "print(' ')\n",
    "cm=confusion_matrix(y_test,y_pred)\n",
    "print(cm)\n",
    "print (\"Accuracy of prediction:\",round((cm[0,0]+cm[1,1])/cm.sum(),3))\n",
    "print(' ')\n",
    "print('accuracy_score: ',accuracy_score(y_pred,y_test))"
   ]
  },
  {
   "cell_type": "code",
   "execution_count": 56,
   "metadata": {},
   "outputs": [],
   "source": [
    "from sklearn.model_selection import GridSearchCV"
   ]
  },
  {
   "cell_type": "code",
   "execution_count": 91,
   "metadata": {},
   "outputs": [
    {
     "name": "stdout",
     "output_type": "stream",
     "text": [
      "Fitting 5 folds for each of 300 candidates, totalling 1500 fits\n"
     ]
    }
   ],
   "source": [
    "# GridSearchCV tuning for randomforestclassifier\n",
    "\n",
    "n_estimators = [67, 71, 80, 86, 103]\n",
    "max_depth = [6, 13, 20, 23, 33]\n",
    "min_samples_split = [3, 5, 7, 9]\n",
    "min_samples_leaf = [1, 2, 5] \n",
    "\n",
    "hyperF = dict(n_estimators = n_estimators, max_depth = max_depth,  \n",
    "              min_samples_split = min_samples_split, \n",
    "             min_samples_leaf = min_samples_leaf)\n",
    "\n",
    "gridF = GridSearchCV(rf_clf, hyperF, cv = 5, verbose = 1)\n",
    "bestF = gridF.fit(X_train, y_train)"
   ]
  },
  {
   "cell_type": "code",
   "execution_count": 92,
   "metadata": {},
   "outputs": [
    {
     "name": "stdout",
     "output_type": "stream",
     "text": [
      " Results from Grid Search \n",
      "\n",
      " The best estimator across ALL searched params:\n",
      " RandomForestClassifier(bootstrap=False, criterion='entropy', max_depth=23,\n",
      "                       min_samples_split=5, n_estimators=103, n_jobs=-1,\n",
      "                       random_state=123)\n",
      "\n",
      " The best score across ALL searched params:\n",
      " 0.8989696004462135\n",
      "\n",
      " The best parameters across ALL searched params:\n",
      " {'max_depth': 23, 'min_samples_leaf': 1, 'min_samples_split': 5, 'n_estimators': 103}\n"
     ]
    }
   ],
   "source": [
    "print(\" Results from Grid Search \" )\n",
    "print(\"\\n The best estimator across ALL searched params:\\n\",bestF.best_estimator_)\n",
    "print(\"\\n The best score across ALL searched params:\\n\",bestF.best_score_)\n",
    "print(\"\\n The best parameters across ALL searched params:\\n\",bestF.best_params_)"
   ]
  },
  {
   "cell_type": "code",
   "execution_count": 55,
   "metadata": {},
   "outputs": [],
   "source": [
    "from sklearn.model_selection import RandomizedSearchCV"
   ]
  },
  {
   "cell_type": "code",
   "execution_count": 63,
   "metadata": {},
   "outputs": [
    {
     "name": "stdout",
     "output_type": "stream",
     "text": [
      "Fitting 5 folds for each of 100 candidates, totalling 500 fits\n"
     ]
    }
   ],
   "source": [
    "# Randomizedsearchcv tuning for randomforestCV\n",
    "\n",
    "n_estimators = [50, 100, 120, 150, 200]\n",
    "max_depth = [5, 8, 15, 20, 25]\n",
    "min_samples_split = [2, 5, 10, 15, 20, 25]\n",
    "min_samples_leaf = [1, 2, 5, 8, 15] \n",
    "\n",
    "hyperF = dict(n_estimators = n_estimators, max_depth = max_depth,  \n",
    "              min_samples_split = min_samples_split, \n",
    "             min_samples_leaf = min_samples_leaf)\n",
    "\n",
    "gridF1 = RandomizedSearchCV(rf_clf, hyperF, cv = 5, n_iter=100, verbose = 1)\n",
    "bestF1 = gridF1.fit(X_train, y_train)"
   ]
  },
  {
   "cell_type": "code",
   "execution_count": 64,
   "metadata": {},
   "outputs": [
    {
     "name": "stdout",
     "output_type": "stream",
     "text": [
      " Results from Grid Search \n",
      "\n",
      " The best estimator across ALL searched params:\n",
      " RandomForestClassifier(max_depth=25, n_estimators=50, random_state=0)\n",
      "\n",
      " The best score across ALL searched params:\n",
      " 0.8552595742711823\n",
      "\n",
      " The best parameters across ALL searched params:\n",
      " {'n_estimators': 50, 'min_samples_split': 2, 'min_samples_leaf': 1, 'max_depth': 25}\n"
     ]
    }
   ],
   "source": [
    "print(\" Results from Grid Search \" )\n",
    "print(\"\\n The best estimator across ALL searched params:\\n\",bestF1.best_estimator_)\n",
    "print(\"\\n The best score across ALL searched params:\\n\",bestF1.best_score_)\n",
    "print(\"\\n The best parameters across ALL searched params:\\n\",bestF1.best_params_)"
   ]
  },
  {
   "cell_type": "markdown",
   "metadata": {},
   "source": [
    "### DecisionTreeClassifier"
   ]
  },
  {
   "cell_type": "code",
   "execution_count": 31,
   "metadata": {},
   "outputs": [
    {
     "name": "stdout",
     "output_type": "stream",
     "text": [
      "classification report:\n",
      " \n",
      "              precision    recall  f1-score   support\n",
      "\n",
      "         0.0       0.90      0.89      0.90      6073\n",
      "         1.0       0.37      0.42      0.39       985\n",
      "\n",
      "    accuracy                           0.82      7058\n",
      "   macro avg       0.64      0.65      0.64      7058\n",
      "weighted avg       0.83      0.82      0.83      7058\n",
      "\n",
      "confusion matrix:\n",
      " \n",
      "[[5387  686]\n",
      " [ 575  410]]\n",
      "Accuracy of prediction: 0.821\n",
      " \n",
      "accuracy_score:  0.8213374893737603\n"
     ]
    }
   ],
   "source": [
    "from sklearn.tree import DecisionTreeClassifier\n",
    "dec_clf = DecisionTreeClassifier(ccp_alpha=0.0, class_weight=None, criterion='entropy',\n",
    "                                    max_depth=33, max_features=34, max_leaf_nodes=None,\n",
    "                                    min_impurity_decrease=0.0, min_impurity_split=None,\n",
    "                                    min_samples_leaf=4, min_samples_split=2,\n",
    "                                    min_weight_fraction_leaf=0.0, \n",
    "                                    random_state=123, splitter='best')\n",
    "dec_clf.fit(X_train, y_train)\n",
    "\n",
    "# Make predictions\n",
    "y_pred = dec_clf.predict(X_test)\n",
    "\n",
    "# Check the accuracy score of the model\n",
    "#accuracy_score(y_pred,y_test)\n",
    "from sklearn.metrics import classification_report,confusion_matrix\n",
    "# classification report\n",
    "print('classification report:')\n",
    "print(' ')\n",
    "print(classification_report(y_test,y_pred))\n",
    "# confusion matrix\n",
    "print('confusion matrix:')\n",
    "print(' ')\n",
    "cm=confusion_matrix(y_test,y_pred)\n",
    "print(cm)\n",
    "print (\"Accuracy of prediction:\",round((cm[0,0]+cm[1,1])/cm.sum(),3))\n",
    "print(' ')\n",
    "print('accuracy_score: ',accuracy_score(y_pred,y_test))"
   ]
  },
  {
   "cell_type": "code",
   "execution_count": 32,
   "metadata": {},
   "outputs": [
    {
     "name": "stdout",
     "output_type": "stream",
     "text": [
      "classification report:\n",
      " \n",
      "              precision    recall  f1-score   support\n",
      "\n",
      "         0.0       0.92      0.90      0.91      6073\n",
      "         1.0       0.47      0.52      0.49       985\n",
      "\n",
      "    accuracy                           0.85      7058\n",
      "   macro avg       0.69      0.71      0.70      7058\n",
      "weighted avg       0.86      0.85      0.85      7058\n",
      "\n",
      "confusion matrix:\n",
      " \n",
      "[[5495  578]\n",
      " [ 476  509]]\n",
      "Accuracy of prediction: 0.851\n",
      " \n",
      "accuracy_score:  0.8506659110229526\n"
     ]
    }
   ],
   "source": [
    "from sklearn.linear_model import RidgeClassifier\n",
    "\n",
    "\n",
    "rig_clf = RidgeClassifier(normalize=False, random_state=100, tol=0.1)\n",
    "rig_clf.fit(X_train, y_train)\n",
    "\n",
    "# Make predictions\n",
    "y_pred = rig_clf.predict(X_test)\n",
    "\n",
    "# Check the accuracy score of the model\n",
    "#accuracy_score(y_pred,y_test)\n",
    "from sklearn.metrics import classification_report,confusion_matrix\n",
    "# classification report\n",
    "print('classification report:')\n",
    "print(' ')\n",
    "print(classification_report(y_test,y_pred))\n",
    "# confusion matrix\n",
    "print('confusion matrix:')\n",
    "print(' ')\n",
    "cm=confusion_matrix(y_test,y_pred)\n",
    "print(cm)\n",
    "print (\"Accuracy of prediction:\",round((cm[0,0]+cm[1,1])/cm.sum(),3))\n",
    "print(' ')\n",
    "print('accuracy_score: ',accuracy_score(y_pred,y_test))"
   ]
  },
  {
   "cell_type": "markdown",
   "metadata": {},
   "source": [
    "### XGboost"
   ]
  },
  {
   "cell_type": "code",
   "execution_count": 57,
   "metadata": {},
   "outputs": [],
   "source": [
    "# from xgboost import XGBClassifier\n",
    "# xgb_clf= XGBClassifier()\n",
    "# xgb_clf.fit(X_train, y_train)\n",
    "            \n",
    "# # Make predictions\n",
    "# y_pred = xgb_clf.predict(X_test)\n",
    "\n",
    "# # Check the accuracy score of the model\n",
    "# #accuracy_score(y_pred,y_test)\n",
    "# from sklearn.metrics import classification_report,confusion_matrix\n",
    "# # classification report\n",
    "# print('classification report:')\n",
    "# print(' ')\n",
    "# print(classification_report(y_test,y_pred))\n",
    "# # confusion matrix\n",
    "# print('confusion matrix:')\n",
    "# print(' ')\n",
    "# cm=confusion_matrix(y_test,y_pred)\n",
    "# print(cm)\n",
    "# print (\"Accuracy of prediction:\",round((cm[0,0]+cm[1,1])/cm.sum(),3))\n",
    "# print(' ')\n",
    "# print('accuracy_score: ',accuracy_score(y_pred,y_test))"
   ]
  },
  {
   "cell_type": "markdown",
   "metadata": {},
   "source": [
    "### Trying ensembles"
   ]
  },
  {
   "cell_type": "markdown",
   "metadata": {},
   "source": [
    "### Ensemble of logistic, naive bayes and decision tree"
   ]
  },
  {
   "cell_type": "code",
   "execution_count": 33,
   "metadata": {},
   "outputs": [],
   "source": [
    "from sklearn.pipeline import Pipeline\n",
    "from sklearn.svm import SVC\n",
    "from sklearn.ensemble import VotingClassifier"
   ]
  },
  {
   "cell_type": "code",
   "execution_count": 33,
   "metadata": {},
   "outputs": [
    {
     "name": "stdout",
     "output_type": "stream",
     "text": [
      "classification report:\n",
      " \n",
      "              precision    recall  f1-score   support\n",
      "\n",
      "         0.0       0.93      0.86      0.89      6073\n",
      "         1.0       0.41      0.57      0.47       985\n",
      "\n",
      "    accuracy                           0.82      7058\n",
      "   macro avg       0.67      0.72      0.68      7058\n",
      "weighted avg       0.85      0.82      0.84      7058\n",
      "\n",
      "confusion matrix:\n",
      " \n",
      "[[5249  824]\n",
      " [ 423  562]]\n",
      "Accuracy of prediction: 0.823\n",
      " \n",
      "accuracy_score:  0.8233210541229811\n"
     ]
    }
   ],
   "source": [
    "voting_clf = VotingClassifier(\n",
    " estimators=[('lr', lr_clf), ('nb', nb_clf), ('dec', dec_clf)],\n",
    " voting='hard')\n",
    "voting_clf.fit(X_train, y_train)\n",
    "\n",
    "# Make predictions\n",
    "y_pred = voting_clf.predict(X_test)\n",
    "\n",
    "# Check the accuracy score of the model\n",
    "#accuracy_score(y_pred,y_test)\n",
    "from sklearn.metrics import classification_report,confusion_matrix\n",
    "# classification report\n",
    "print('classification report:')\n",
    "print(' ')\n",
    "print(classification_report(y_test,y_pred))\n",
    "# confusion matrix\n",
    "print('confusion matrix:')\n",
    "print(' ')\n",
    "cm=confusion_matrix(y_test,y_pred)\n",
    "print(cm)\n",
    "print (\"Accuracy of prediction:\",round((cm[0,0]+cm[1,1])/cm.sum(),3))\n",
    "print(' ')\n",
    "print('accuracy_score: ',accuracy_score(y_pred,y_test))"
   ]
  },
  {
   "cell_type": "markdown",
   "metadata": {},
   "source": [
    "### Ensemble of ridge and randomforest"
   ]
  },
  {
   "cell_type": "code",
   "execution_count": 34,
   "metadata": {},
   "outputs": [
    {
     "name": "stdout",
     "output_type": "stream",
     "text": [
      "classification report:\n",
      " \n",
      "              precision    recall  f1-score   support\n",
      "\n",
      "         0.0       0.91      0.96      0.93      6073\n",
      "         1.0       0.60      0.38      0.47       985\n",
      "\n",
      "    accuracy                           0.88      7058\n",
      "   macro avg       0.75      0.67      0.70      7058\n",
      "weighted avg       0.86      0.88      0.87      7058\n",
      "\n",
      "confusion matrix:\n",
      " \n",
      "[[5824  249]\n",
      " [ 607  378]]\n",
      "Accuracy of prediction: 0.879\n",
      " \n",
      "accuracy_score:  0.8787191839047889\n"
     ]
    }
   ],
   "source": [
    "voting_clf2 = VotingClassifier(\n",
    " estimators=[('ridge', rig_clf),('rf', rf_clf)],\n",
    " voting='hard')\n",
    "voting_clf2.fit(X_train, y_train)\n",
    "\n",
    "# Make predictions\n",
    "y_pred = voting_clf2.predict(X_test)\n",
    "\n",
    "# Check the accuracy score of the model\n",
    "#accuracy_score(y_pred,y_test)\n",
    "from sklearn.metrics import classification_report,confusion_matrix\n",
    "# classification report\n",
    "print('classification report:')\n",
    "print(' ')\n",
    "print(classification_report(y_test,y_pred))\n",
    "# confusion matrix\n",
    "print('confusion matrix:')\n",
    "print(' ')\n",
    "cm=confusion_matrix(y_test,y_pred)\n",
    "print(cm)\n",
    "print (\"Accuracy of prediction:\",round((cm[0,0]+cm[1,1])/cm.sum(),3))\n",
    "print(' ')\n",
    "print('accuracy_score: ',accuracy_score(y_pred,y_test))"
   ]
  },
  {
   "cell_type": "markdown",
   "metadata": {},
   "source": [
    "### logistic and random forest"
   ]
  },
  {
   "cell_type": "code",
   "execution_count": 35,
   "metadata": {},
   "outputs": [
    {
     "name": "stdout",
     "output_type": "stream",
     "text": [
      "classification report:\n",
      " \n",
      "              precision    recall  f1-score   support\n",
      "\n",
      "         0.0       0.91      0.96      0.93      6073\n",
      "         1.0       0.59      0.39      0.47       985\n",
      "\n",
      "    accuracy                           0.88      7058\n",
      "   macro avg       0.75      0.67      0.70      7058\n",
      "weighted avg       0.86      0.88      0.87      7058\n",
      "\n",
      "confusion matrix:\n",
      " \n",
      "[[5804  269]\n",
      " [ 599  386]]\n",
      "Accuracy of prediction: 0.877\n",
      " \n",
      "accuracy_score:  0.8770189855483139\n"
     ]
    }
   ],
   "source": [
    "# We submitted result from this for 3rd last submission\n",
    "\n",
    "voting_clf3 = VotingClassifier(\n",
    " estimators=[('lr', lr_clf),('rf', rf_clf)],\n",
    " voting='hard')\n",
    "voting_clf3.fit(X_train, y_train)\n",
    "\n",
    "# Make predictions\n",
    "y_pred = voting_clf3.predict(X_test)\n",
    "\n",
    "# Check the accuracy score of the model\n",
    "#accuracy_score(y_pred,y_test)\n",
    "from sklearn.metrics import classification_report,confusion_matrix\n",
    "# classification report\n",
    "print('classification report:')\n",
    "print(' ')\n",
    "print(classification_report(y_test,y_pred))\n",
    "# confusion matrix\n",
    "print('confusion matrix:')\n",
    "print(' ')\n",
    "cm=confusion_matrix(y_test,y_pred)\n",
    "print(cm)\n",
    "print (\"Accuracy of prediction:\",round((cm[0,0]+cm[1,1])/cm.sum(),3))\n",
    "print(' ')\n",
    "print('accuracy_score: ',accuracy_score(y_pred,y_test))"
   ]
  },
  {
   "cell_type": "markdown",
   "metadata": {},
   "source": [
    "### logistic, ridge and randomforest"
   ]
  },
  {
   "cell_type": "code",
   "execution_count": 52,
   "metadata": {},
   "outputs": [
    {
     "name": "stdout",
     "output_type": "stream",
     "text": [
      "classification report:\n",
      " \n",
      "              precision    recall  f1-score   support\n",
      "\n",
      "         0.0       0.92      0.90      0.91      6073\n",
      "         1.0       0.47      0.53      0.50       985\n",
      "\n",
      "    accuracy                           0.85      7058\n",
      "   macro avg       0.70      0.72      0.70      7058\n",
      "weighted avg       0.86      0.85      0.85      7058\n",
      "\n",
      "confusion matrix:\n",
      " \n",
      "[[5480  593]\n",
      " [ 463  522]]\n",
      "Accuracy of prediction: 0.85\n",
      " \n",
      "accuracy_score:  0.8503825446302069\n"
     ]
    }
   ],
   "source": [
    "voting_clf4 = VotingClassifier(\n",
    " estimators=[('lr', lr_clf), ('ridge', rig_clf), ('rf', rf_clf)],\n",
    " voting='hard'\n",
    ")\n",
    "voting_clf4.fit(X_train, y_train)\n",
    "\n",
    "# Make predictions\n",
    "y_pred = voting_clf4.predict(X_test)\n",
    "\n",
    "# Check the accuracy score of the model\n",
    "#accuracy_score(y_pred,y_test)\n",
    "from sklearn.metrics import classification_report,confusion_matrix\n",
    "# classification report\n",
    "print('classification report:')\n",
    "print(' ')\n",
    "print(classification_report(y_test,y_pred))\n",
    "# confusion matrix\n",
    "print('confusion matrix:')\n",
    "print(' ')\n",
    "cm=confusion_matrix(y_test,y_pred)\n",
    "print(cm)\n",
    "print (\"Accuracy of prediction:\",round((cm[0,0]+cm[1,1])/cm.sum(),3))\n",
    "print(' ')\n",
    "print('accuracy_score: ',accuracy_score(y_pred,y_test))"
   ]
  },
  {
   "cell_type": "markdown",
   "metadata": {},
   "source": [
    "### logistic, randomForest, ctboost and lgbmclassifier"
   ]
  },
  {
   "cell_type": "code",
   "execution_count": 48,
   "metadata": {},
   "outputs": [
    {
     "name": "stdout",
     "output_type": "stream",
     "text": [
      "classification report:\n",
      " \n",
      "              precision    recall  f1-score   support\n",
      "\n",
      "         0.0       0.91      0.93      0.92      6073\n",
      "         1.0       0.52      0.45      0.49       985\n",
      "\n",
      "    accuracy                           0.87      7058\n",
      "   macro avg       0.72      0.69      0.70      7058\n",
      "weighted avg       0.86      0.87      0.86      7058\n",
      "\n",
      "confusion matrix:\n",
      " \n",
      "[[5669  404]\n",
      " [ 539  446]]\n",
      "Accuracy of prediction: 0.866\n",
      " \n",
      "accuracy_score:  0.8663927458203458\n"
     ]
    }
   ],
   "source": [
    "from sklearn.pipeline import Pipeline\n",
    "from sklearn.svm import SVC\n",
    "from sklearn.ensemble import VotingClassifier\n",
    "\n",
    "voting_clf5 = VotingClassifier(\n",
    " estimators=[('lr', lr_clf), ('rf', rf_clf), ('lgbm', model), ('cat', cb_clf)],\n",
    " voting='hard')\n",
    "voting_clf5.fit(X_train, y_train)\n",
    "\n",
    "# Make predictions\n",
    "y_pred = voting_clf5.predict(X_test)\n",
    "\n",
    "# Check the accuracy score of the model\n",
    "#accuracy_score(y_pred,y_test)\n",
    "from sklearn.metrics import classification_report,confusion_matrix\n",
    "# classification report\n",
    "print('classification report:')\n",
    "print(' ')\n",
    "print(classification_report(y_test,y_pred))\n",
    "# confusion matrix\n",
    "print('confusion matrix:')\n",
    "print(' ')\n",
    "cm=confusion_matrix(y_test,y_pred)\n",
    "print(cm)\n",
    "print (\"Accuracy of prediction:\",round((cm[0,0]+cm[1,1])/cm.sum(),3))\n",
    "print(' ')\n",
    "print('accuracy_score: ',accuracy_score(y_pred,y_test))"
   ]
  },
  {
   "cell_type": "markdown",
   "metadata": {},
   "source": [
    "### gradientboost, randomforest, lgbm, catboost"
   ]
  },
  {
   "cell_type": "code",
   "execution_count": 63,
   "metadata": {},
   "outputs": [
    {
     "name": "stdout",
     "output_type": "stream",
     "text": [
      "classification report:\n",
      " \n",
      "              precision    recall  f1-score   support\n",
      "\n",
      "         0.0       0.91      0.94      0.92      6073\n",
      "         1.0       0.54      0.43      0.47       985\n",
      "\n",
      "    accuracy                           0.87      7058\n",
      "   macro avg       0.72      0.68      0.70      7058\n",
      "weighted avg       0.86      0.87      0.86      7058\n",
      "\n",
      "confusion matrix:\n",
      " \n",
      "[[5711  362]\n",
      " [ 566  419]]\n",
      "Accuracy of prediction: 0.869\n",
      " \n",
      "accuracy_score:  0.8685179937659394\n"
     ]
    }
   ],
   "source": [
    "from sklearn.pipeline import Pipeline\n",
    "from sklearn.svm import SVC\n",
    "from sklearn.ensemble import VotingClassifier\n",
    "\n",
    "voting_clf6 = VotingClassifier(\n",
    " estimators=[('gboost', gb_clf), ('rf', rf_clf), ('lgbm', model), ('cat', cb_clf)],\n",
    " voting='hard')\n",
    "voting_clf6.fit(X_train, y_train)\n",
    "\n",
    "# Make predictions\n",
    "y_pred = voting_clf6.predict(X_test)\n",
    "\n",
    "# Check the accuracy score of the model\n",
    "#accuracy_score(y_pred,y_test)\n",
    "from sklearn.metrics import classification_report,confusion_matrix\n",
    "# classification report\n",
    "print('classification report:')\n",
    "print(' ')\n",
    "print(classification_report(y_test,y_pred))\n",
    "# confusion matrix\n",
    "print('confusion matrix:')\n",
    "print(' ')\n",
    "cm=confusion_matrix(y_test,y_pred)\n",
    "print(cm)\n",
    "print (\"Accuracy of prediction:\",round((cm[0,0]+cm[1,1])/cm.sum(),3))\n",
    "print(' ')\n",
    "print('accuracy_score: ',accuracy_score(y_pred,y_test))"
   ]
  },
  {
   "cell_type": "code",
   "execution_count": 64,
   "metadata": {},
   "outputs": [],
   "source": [
    "# # view the feature scores for randomforest\n",
    "\n",
    "# feature_scores = pd.Series(rf_clf.feature_importances_, index=X_train.columns).sort_values(ascending=False)\n",
    "\n",
    "# feature_scores"
   ]
  },
  {
   "cell_type": "code",
   "execution_count": 65,
   "metadata": {},
   "outputs": [],
   "source": [
    "# # Creating a seaborn bar plot\n",
    "# plt.figure(figsize=(10,15))\n",
    "# sns.barplot(x=feature_scores, y=feature_scores.index)\n",
    "\n",
    "\n",
    "\n",
    "# # Add labels to the graph\n",
    "\n",
    "# plt.xlabel('Feature Importance Score')\n",
    "\n",
    "# plt.ylabel('Features')\n",
    "\n",
    "\n",
    "\n",
    "# # Add title to the graph\n",
    "\n",
    "# plt.title(\"Visualizing Important Features\")\n",
    "\n",
    "\n",
    "\n",
    "# # Visualize the graph\n",
    "\n",
    "# plt.show()"
   ]
  },
  {
   "cell_type": "markdown",
   "metadata": {},
   "source": [
    "Accuracy drops, lets drop marital_status_Dont know and job_type_Dont Know/Refuse to answer, then check accuracy"
   ]
  },
  {
   "cell_type": "code",
   "execution_count": 59,
   "metadata": {},
   "outputs": [],
   "source": [
    "# Select main columns to be used in training\n",
    "#main_cols = all_data.columns.difference(date_cols+['ID', 'bank_account'])\n",
    "main_cols = all_data.columns.difference(['uniqueid', 'bank_account'])\n",
    "X = train_df[main_cols]\n",
    "y = train_df['bank_account']\n",
    "\n",
    "# Split data into train and test sets\n",
    "X_train, X_test, y_train, y_test = train_test_split(X,y,test_size=0.3, random_state=42)"
   ]
  },
  {
   "cell_type": "markdown",
   "metadata": {},
   "source": [
    "dropping a further feature in education_level_Other/Dont know/RTA"
   ]
  },
  {
   "cell_type": "markdown",
   "metadata": {
    "id": "k_LHEtrph7Kk"
   },
   "source": [
    "### Making predictions of the test set and creating a submission file"
   ]
  },
  {
   "cell_type": "code",
   "execution_count": 36,
   "metadata": {
    "colab": {
     "base_uri": "https://localhost:8080/",
     "height": 265
    },
    "id": "OP8EX6NZfSCP",
    "outputId": "7c289186-08b5-48f0-e92a-a1c32b711a09"
   },
   "outputs": [],
   "source": [
    "# Make prediction on the test set\n",
    "test_df = test_df[main_cols]\n",
    "new_predictions = voting_clf2.predict(test_df)"
   ]
  },
  {
   "cell_type": "code",
   "execution_count": 37,
   "metadata": {},
   "outputs": [
    {
     "data": {
      "text/html": [
       "<div>\n",
       "<style scoped>\n",
       "    .dataframe tbody tr th:only-of-type {\n",
       "        vertical-align: middle;\n",
       "    }\n",
       "\n",
       "    .dataframe tbody tr th {\n",
       "        vertical-align: top;\n",
       "    }\n",
       "\n",
       "    .dataframe thead th {\n",
       "        text-align: right;\n",
       "    }\n",
       "</style>\n",
       "<table border=\"1\" class=\"dataframe\">\n",
       "  <thead>\n",
       "    <tr style=\"text-align: right;\">\n",
       "      <th></th>\n",
       "      <th>age_of_respondent</th>\n",
       "      <th>age_of_respondent_categ_old</th>\n",
       "      <th>age_of_respondent_categ_youth</th>\n",
       "      <th>bank_depend_Non Bank Account Dependent</th>\n",
       "      <th>cellphone_access_Yes</th>\n",
       "      <th>clusters_1</th>\n",
       "      <th>clusters_2</th>\n",
       "      <th>compress_edu_leve_Below education</th>\n",
       "      <th>compress_edu_leve_Post Secondary</th>\n",
       "      <th>compress_edu_leve_Secondary education</th>\n",
       "      <th>...</th>\n",
       "      <th>location_type_Urban</th>\n",
       "      <th>marital_status_Married/Living together</th>\n",
       "      <th>marital_status_Single/Never Married</th>\n",
       "      <th>marital_status_Widowed</th>\n",
       "      <th>relationship_with_head_Head of Household</th>\n",
       "      <th>relationship_with_head_Other</th>\n",
       "      <th>relationship_with_head_Parent</th>\n",
       "      <th>relationship_with_head_Spouse</th>\n",
       "      <th>year_2017</th>\n",
       "      <th>year_2018</th>\n",
       "    </tr>\n",
       "  </thead>\n",
       "  <tbody>\n",
       "    <tr>\n",
       "      <th>23524</th>\n",
       "      <td>30</td>\n",
       "      <td>0</td>\n",
       "      <td>1</td>\n",
       "      <td>0</td>\n",
       "      <td>1</td>\n",
       "      <td>0</td>\n",
       "      <td>1</td>\n",
       "      <td>0</td>\n",
       "      <td>0</td>\n",
       "      <td>1</td>\n",
       "      <td>...</td>\n",
       "      <td>1</td>\n",
       "      <td>1</td>\n",
       "      <td>0</td>\n",
       "      <td>0</td>\n",
       "      <td>1</td>\n",
       "      <td>0</td>\n",
       "      <td>0</td>\n",
       "      <td>0</td>\n",
       "      <td>0</td>\n",
       "      <td>1</td>\n",
       "    </tr>\n",
       "    <tr>\n",
       "      <th>23525</th>\n",
       "      <td>51</td>\n",
       "      <td>0</td>\n",
       "      <td>0</td>\n",
       "      <td>0</td>\n",
       "      <td>1</td>\n",
       "      <td>1</td>\n",
       "      <td>0</td>\n",
       "      <td>0</td>\n",
       "      <td>1</td>\n",
       "      <td>0</td>\n",
       "      <td>...</td>\n",
       "      <td>1</td>\n",
       "      <td>1</td>\n",
       "      <td>0</td>\n",
       "      <td>0</td>\n",
       "      <td>1</td>\n",
       "      <td>0</td>\n",
       "      <td>0</td>\n",
       "      <td>0</td>\n",
       "      <td>0</td>\n",
       "      <td>1</td>\n",
       "    </tr>\n",
       "    <tr>\n",
       "      <th>23526</th>\n",
       "      <td>77</td>\n",
       "      <td>1</td>\n",
       "      <td>0</td>\n",
       "      <td>0</td>\n",
       "      <td>0</td>\n",
       "      <td>0</td>\n",
       "      <td>0</td>\n",
       "      <td>0</td>\n",
       "      <td>0</td>\n",
       "      <td>0</td>\n",
       "      <td>...</td>\n",
       "      <td>0</td>\n",
       "      <td>1</td>\n",
       "      <td>0</td>\n",
       "      <td>0</td>\n",
       "      <td>0</td>\n",
       "      <td>0</td>\n",
       "      <td>1</td>\n",
       "      <td>0</td>\n",
       "      <td>0</td>\n",
       "      <td>1</td>\n",
       "    </tr>\n",
       "    <tr>\n",
       "      <th>23527</th>\n",
       "      <td>39</td>\n",
       "      <td>0</td>\n",
       "      <td>1</td>\n",
       "      <td>0</td>\n",
       "      <td>0</td>\n",
       "      <td>1</td>\n",
       "      <td>0</td>\n",
       "      <td>0</td>\n",
       "      <td>0</td>\n",
       "      <td>0</td>\n",
       "      <td>...</td>\n",
       "      <td>0</td>\n",
       "      <td>1</td>\n",
       "      <td>0</td>\n",
       "      <td>0</td>\n",
       "      <td>1</td>\n",
       "      <td>0</td>\n",
       "      <td>0</td>\n",
       "      <td>0</td>\n",
       "      <td>0</td>\n",
       "      <td>1</td>\n",
       "    </tr>\n",
       "    <tr>\n",
       "      <th>23528</th>\n",
       "      <td>16</td>\n",
       "      <td>0</td>\n",
       "      <td>1</td>\n",
       "      <td>0</td>\n",
       "      <td>0</td>\n",
       "      <td>0</td>\n",
       "      <td>1</td>\n",
       "      <td>0</td>\n",
       "      <td>0</td>\n",
       "      <td>1</td>\n",
       "      <td>...</td>\n",
       "      <td>1</td>\n",
       "      <td>0</td>\n",
       "      <td>1</td>\n",
       "      <td>0</td>\n",
       "      <td>0</td>\n",
       "      <td>0</td>\n",
       "      <td>0</td>\n",
       "      <td>0</td>\n",
       "      <td>0</td>\n",
       "      <td>1</td>\n",
       "    </tr>\n",
       "  </tbody>\n",
       "</table>\n",
       "<p>5 rows × 40 columns</p>\n",
       "</div>"
      ],
      "text/plain": [
       "       age_of_respondent  age_of_respondent_categ_old  \\\n",
       "23524                 30                            0   \n",
       "23525                 51                            0   \n",
       "23526                 77                            1   \n",
       "23527                 39                            0   \n",
       "23528                 16                            0   \n",
       "\n",
       "       age_of_respondent_categ_youth  bank_depend_Non Bank Account Dependent  \\\n",
       "23524                              1                                       0   \n",
       "23525                              0                                       0   \n",
       "23526                              0                                       0   \n",
       "23527                              1                                       0   \n",
       "23528                              1                                       0   \n",
       "\n",
       "       cellphone_access_Yes  clusters_1  clusters_2  \\\n",
       "23524                     1           0           1   \n",
       "23525                     1           1           0   \n",
       "23526                     0           0           0   \n",
       "23527                     0           1           0   \n",
       "23528                     0           0           1   \n",
       "\n",
       "       compress_edu_leve_Below education  compress_edu_leve_Post Secondary  \\\n",
       "23524                                  0                                 0   \n",
       "23525                                  0                                 1   \n",
       "23526                                  0                                 0   \n",
       "23527                                  0                                 0   \n",
       "23528                                  0                                 0   \n",
       "\n",
       "       compress_edu_leve_Secondary education  ...  location_type_Urban  \\\n",
       "23524                                      1  ...                    1   \n",
       "23525                                      0  ...                    1   \n",
       "23526                                      0  ...                    0   \n",
       "23527                                      0  ...                    0   \n",
       "23528                                      1  ...                    1   \n",
       "\n",
       "       marital_status_Married/Living together  \\\n",
       "23524                                       1   \n",
       "23525                                       1   \n",
       "23526                                       1   \n",
       "23527                                       1   \n",
       "23528                                       0   \n",
       "\n",
       "       marital_status_Single/Never Married  marital_status_Widowed  \\\n",
       "23524                                    0                       0   \n",
       "23525                                    0                       0   \n",
       "23526                                    0                       0   \n",
       "23527                                    0                       0   \n",
       "23528                                    1                       0   \n",
       "\n",
       "       relationship_with_head_Head of Household  relationship_with_head_Other  \\\n",
       "23524                                         1                             0   \n",
       "23525                                         1                             0   \n",
       "23526                                         0                             0   \n",
       "23527                                         1                             0   \n",
       "23528                                         0                             0   \n",
       "\n",
       "       relationship_with_head_Parent  relationship_with_head_Spouse  \\\n",
       "23524                              0                              0   \n",
       "23525                              0                              0   \n",
       "23526                              1                              0   \n",
       "23527                              0                              0   \n",
       "23528                              0                              0   \n",
       "\n",
       "       year_2017  year_2018  \n",
       "23524          0          1  \n",
       "23525          0          1  \n",
       "23526          0          1  \n",
       "23527          0          1  \n",
       "23528          0          1  \n",
       "\n",
       "[5 rows x 40 columns]"
      ]
     },
     "execution_count": 37,
     "metadata": {},
     "output_type": "execute_result"
    }
   ],
   "source": [
    "test_df.head()"
   ]
  },
  {
   "cell_type": "code",
   "execution_count": 38,
   "metadata": {},
   "outputs": [
    {
     "data": {
      "text/plain": [
       "array([1., 1., 0., ..., 0., 0., 0.])"
      ]
     },
     "execution_count": 38,
     "metadata": {},
     "output_type": "execute_result"
    }
   ],
   "source": [
    "new_predictions"
   ]
  },
  {
   "cell_type": "code",
   "execution_count": 39,
   "metadata": {},
   "outputs": [],
   "source": [
    "# # Create a submission file zindi\n",
    "# sub_file = ss.copy()\n",
    "# sub_file.predictions = new_predictions.astype(int)"
   ]
  },
  {
   "cell_type": "code",
   "execution_count": 40,
   "metadata": {},
   "outputs": [],
   "source": [
    "# Zindi can't read floats\n",
    "new_predictions = new_predictions.astype(int)"
   ]
  },
  {
   "cell_type": "code",
   "execution_count": 41,
   "metadata": {},
   "outputs": [
    {
     "data": {
      "text/plain": [
       "array([1, 1, 0, ..., 0, 0, 0])"
      ]
     },
     "execution_count": 41,
     "metadata": {},
     "output_type": "execute_result"
    }
   ],
   "source": [
    "new_predictions"
   ]
  },
  {
   "cell_type": "code",
   "execution_count": 42,
   "metadata": {},
   "outputs": [],
   "source": [
    "# Create submission file\n",
    "predictions = {'unique_id':np.array(test.uniqueid + \" x \" + test.country),'bank_account':new_predictions}"
   ]
  },
  {
   "cell_type": "code",
   "execution_count": 43,
   "metadata": {},
   "outputs": [
    {
     "data": {
      "text/plain": [
       "{'unique_id': array(['uniqueid_6056 x Kenya', 'uniqueid_6060 x Kenya',\n",
       "        'uniqueid_6065 x Kenya', ..., 'uniqueid_3000 x Uganda',\n",
       "        'uniqueid_3001 x Uganda', 'uniqueid_3002 x Uganda'], dtype=object),\n",
       " 'bank_account': array([1, 1, 0, ..., 0, 0, 0])}"
      ]
     },
     "execution_count": 43,
     "metadata": {},
     "output_type": "execute_result"
    }
   ],
   "source": [
    "predictions"
   ]
  },
  {
   "cell_type": "code",
   "execution_count": 44,
   "metadata": {},
   "outputs": [],
   "source": [
    "subm_file = pd.DataFrame(predictions)"
   ]
  },
  {
   "cell_type": "code",
   "execution_count": 45,
   "metadata": {},
   "outputs": [
    {
     "data": {
      "text/plain": [
       "array([1, 0])"
      ]
     },
     "execution_count": 45,
     "metadata": {},
     "output_type": "execute_result"
    }
   ],
   "source": [
    "subm_file.bank_account.unique()"
   ]
  },
  {
   "cell_type": "code",
   "execution_count": 46,
   "metadata": {},
   "outputs": [
    {
     "data": {
      "text/html": [
       "<div>\n",
       "<style scoped>\n",
       "    .dataframe tbody tr th:only-of-type {\n",
       "        vertical-align: middle;\n",
       "    }\n",
       "\n",
       "    .dataframe tbody tr th {\n",
       "        vertical-align: top;\n",
       "    }\n",
       "\n",
       "    .dataframe thead th {\n",
       "        text-align: right;\n",
       "    }\n",
       "</style>\n",
       "<table border=\"1\" class=\"dataframe\">\n",
       "  <thead>\n",
       "    <tr style=\"text-align: right;\">\n",
       "      <th></th>\n",
       "      <th>unique_id</th>\n",
       "      <th>bank_account</th>\n",
       "    </tr>\n",
       "  </thead>\n",
       "  <tbody>\n",
       "    <tr>\n",
       "      <th>0</th>\n",
       "      <td>uniqueid_6056 x Kenya</td>\n",
       "      <td>1</td>\n",
       "    </tr>\n",
       "    <tr>\n",
       "      <th>1</th>\n",
       "      <td>uniqueid_6060 x Kenya</td>\n",
       "      <td>1</td>\n",
       "    </tr>\n",
       "    <tr>\n",
       "      <th>2</th>\n",
       "      <td>uniqueid_6065 x Kenya</td>\n",
       "      <td>0</td>\n",
       "    </tr>\n",
       "    <tr>\n",
       "      <th>3</th>\n",
       "      <td>uniqueid_6072 x Kenya</td>\n",
       "      <td>0</td>\n",
       "    </tr>\n",
       "    <tr>\n",
       "      <th>4</th>\n",
       "      <td>uniqueid_6073 x Kenya</td>\n",
       "      <td>0</td>\n",
       "    </tr>\n",
       "  </tbody>\n",
       "</table>\n",
       "</div>"
      ],
      "text/plain": [
       "               unique_id  bank_account\n",
       "0  uniqueid_6056 x Kenya             1\n",
       "1  uniqueid_6060 x Kenya             1\n",
       "2  uniqueid_6065 x Kenya             0\n",
       "3  uniqueid_6072 x Kenya             0\n",
       "4  uniqueid_6073 x Kenya             0"
      ]
     },
     "execution_count": 46,
     "metadata": {},
     "output_type": "execute_result"
    }
   ],
   "source": [
    "subm_file.head()"
   ]
  },
  {
   "cell_type": "code",
   "execution_count": 76,
   "metadata": {
    "colab": {
     "base_uri": "https://localhost:8080/",
     "height": 265
    },
    "id": "OP8EX6NZfSCP",
    "outputId": "7c289186-08b5-48f0-e92a-a1c32b711a09"
   },
   "outputs": [],
   "source": [
    "# # Create a submission file\n",
    "# sub_file = ss.copy()\n",
    "# sub_file.predictions = predictions\n",
    "\n",
    "# # Check the distribution of your predictions\n",
    "# sns.countplot(sub_file.predictions);"
   ]
  },
  {
   "cell_type": "code",
   "execution_count": 47,
   "metadata": {
    "id": "sm_jTS4022y-"
   },
   "outputs": [],
   "source": [
    "# Create a csv file and upload to zindi \n",
    "subm_file.to_csv('_1voting_clf_2.csv', index = False)"
   ]
  },
  {
   "cell_type": "markdown",
   "metadata": {
    "id": "ttQqWBi722zE"
   },
   "source": [
    "###More Tips\n",
    "- Thorough EDA and domain knowledge sourcing\n",
    "- Re-group Categorical features \n",
    "- More Feature Engineering \n",
    "- Dataset balancing - oversampling, undersampling, SMOTE...\n",
    "- Ensembling of models \n",
    "- Cross-validation: Group folds, Stratified..."
   ]
  },
  {
   "cell_type": "markdown",
   "metadata": {
    "id": "uXftXbo622zF"
   },
   "source": [
    "# ******************* GOOD LUCK!!! ***************************"
   ]
  }
 ],
 "metadata": {
  "colab": {
   "collapsed_sections": [],
   "name": "StarterNotebook.ipynb",
   "provenance": []
  },
  "kernelspec": {
   "display_name": "Python 3",
   "language": "python",
   "name": "python3"
  },
  "language_info": {
   "codemirror_mode": {
    "name": "ipython",
    "version": 3
   },
   "file_extension": ".py",
   "mimetype": "text/x-python",
   "name": "python",
   "nbconvert_exporter": "python",
   "pygments_lexer": "ipython3",
   "version": "3.8.8"
  }
 },
 "nbformat": 4,
 "nbformat_minor": 1
}
